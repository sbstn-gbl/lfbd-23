{
 "cells": [
  {
   "cell_type": "markdown",
   "metadata": {},
   "source": [
    "# Notebook 1: Data Tasks\n",
    "\n",
    "In this notebook, you will solve three tasks related to data processing and machine learning (ML), based on the loyalty card data of a retail company:\n",
    "\n",
    "1. compute how often products co-occur in shopping baskets\n",
    "1. calculate the number of _different_ products customers have bought at a given point point in time\n",
    "1. build a data streamer class that generates training samples for a ML model that we will discuss later in the lectures (module 3)"
   ]
  },
  {
   "cell_type": "code",
   "execution_count": 1,
   "metadata": {},
   "outputs": [],
   "source": [
    "import os\n",
    "\n",
    "import pandas as pd"
   ]
  },
  {
   "cell_type": "code",
   "execution_count": 2,
   "metadata": {},
   "outputs": [],
   "source": [
    "# please update me!\n",
    "PATH_DATA = \"../data/instacart\""
   ]
  },
  {
   "cell_type": "markdown",
   "metadata": {},
   "source": [
    "<br> \n",
    "<br> \n",
    "\n",
    "## Preparation: Get the data\n",
    "\n",
    "### Download data from Kaggle\n",
    "\n",
    "1. Create account on www.kaggle.com\n",
    "1. Download the Instacart data set from kaggle.com: https://www.kaggle.com/c/instacart-market-basket-analysis/data\n",
    "1. Put your data into `PATH_DATA` (as specified above) and unzip files"
   ]
  },
  {
   "cell_type": "code",
   "execution_count": 3,
   "metadata": {},
   "outputs": [],
   "source": [
    "# check that the required files are available\n",
    "assert os.path.isfile(f\"{PATH_DATA}/orders.csv\")\n",
    "assert os.path.isfile(f\"{PATH_DATA}/order_products__prior.csv\")\n",
    "assert os.path.isfile(f\"{PATH_DATA}/order_products__train.csv\")"
   ]
  },
  {
   "cell_type": "markdown",
   "metadata": {},
   "source": [
    "### Load data"
   ]
  },
  {
   "cell_type": "code",
   "execution_count": 4,
   "metadata": {},
   "outputs": [
    {
     "data": {
      "text/html": [
       "<div>\n",
       "<style scoped>\n",
       "    .dataframe tbody tr th:only-of-type {\n",
       "        vertical-align: middle;\n",
       "    }\n",
       "\n",
       "    .dataframe tbody tr th {\n",
       "        vertical-align: top;\n",
       "    }\n",
       "\n",
       "    .dataframe thead th {\n",
       "        text-align: right;\n",
       "    }\n",
       "</style>\n",
       "<table border=\"1\" class=\"dataframe\">\n",
       "  <thead>\n",
       "    <tr style=\"text-align: right;\">\n",
       "      <th></th>\n",
       "      <th>order_id</th>\n",
       "      <th>user_id</th>\n",
       "      <th>eval_set</th>\n",
       "      <th>order_number</th>\n",
       "      <th>order_dow</th>\n",
       "      <th>order_hour_of_day</th>\n",
       "      <th>days_since_prior_order</th>\n",
       "    </tr>\n",
       "  </thead>\n",
       "  <tbody>\n",
       "    <tr>\n",
       "      <th>0</th>\n",
       "      <td>2539329</td>\n",
       "      <td>1</td>\n",
       "      <td>prior</td>\n",
       "      <td>1</td>\n",
       "      <td>2</td>\n",
       "      <td>8</td>\n",
       "      <td>NaN</td>\n",
       "    </tr>\n",
       "    <tr>\n",
       "      <th>1</th>\n",
       "      <td>2398795</td>\n",
       "      <td>1</td>\n",
       "      <td>prior</td>\n",
       "      <td>2</td>\n",
       "      <td>3</td>\n",
       "      <td>7</td>\n",
       "      <td>15.0</td>\n",
       "    </tr>\n",
       "    <tr>\n",
       "      <th>2</th>\n",
       "      <td>473747</td>\n",
       "      <td>1</td>\n",
       "      <td>prior</td>\n",
       "      <td>3</td>\n",
       "      <td>3</td>\n",
       "      <td>12</td>\n",
       "      <td>21.0</td>\n",
       "    </tr>\n",
       "    <tr>\n",
       "      <th>3</th>\n",
       "      <td>2254736</td>\n",
       "      <td>1</td>\n",
       "      <td>prior</td>\n",
       "      <td>4</td>\n",
       "      <td>4</td>\n",
       "      <td>7</td>\n",
       "      <td>29.0</td>\n",
       "    </tr>\n",
       "    <tr>\n",
       "      <th>4</th>\n",
       "      <td>431534</td>\n",
       "      <td>1</td>\n",
       "      <td>prior</td>\n",
       "      <td>5</td>\n",
       "      <td>4</td>\n",
       "      <td>15</td>\n",
       "      <td>28.0</td>\n",
       "    </tr>\n",
       "  </tbody>\n",
       "</table>\n",
       "</div>"
      ],
      "text/plain": [
       "   order_id  user_id eval_set  order_number  order_dow  order_hour_of_day  \\\n",
       "0   2539329        1    prior             1          2                  8   \n",
       "1   2398795        1    prior             2          3                  7   \n",
       "2    473747        1    prior             3          3                 12   \n",
       "3   2254736        1    prior             4          4                  7   \n",
       "4    431534        1    prior             5          4                 15   \n",
       "\n",
       "   days_since_prior_order  \n",
       "0                     NaN  \n",
       "1                    15.0  \n",
       "2                    21.0  \n",
       "3                    29.0  \n",
       "4                    28.0  "
      ]
     },
     "execution_count": 4,
     "metadata": {},
     "output_type": "execute_result"
    }
   ],
   "source": [
    "orders = pd.read_csv(f\"{PATH_DATA}/orders.csv\")\n",
    "orders.head()"
   ]
  },
  {
   "cell_type": "code",
   "execution_count": 5,
   "metadata": {},
   "outputs": [
    {
     "data": {
      "text/html": [
       "<div>\n",
       "<style scoped>\n",
       "    .dataframe tbody tr th:only-of-type {\n",
       "        vertical-align: middle;\n",
       "    }\n",
       "\n",
       "    .dataframe tbody tr th {\n",
       "        vertical-align: top;\n",
       "    }\n",
       "\n",
       "    .dataframe thead th {\n",
       "        text-align: right;\n",
       "    }\n",
       "</style>\n",
       "<table border=\"1\" class=\"dataframe\">\n",
       "  <thead>\n",
       "    <tr style=\"text-align: right;\">\n",
       "      <th></th>\n",
       "      <th>order_id</th>\n",
       "      <th>product_id</th>\n",
       "      <th>add_to_cart_order</th>\n",
       "      <th>reordered</th>\n",
       "    </tr>\n",
       "  </thead>\n",
       "  <tbody>\n",
       "    <tr>\n",
       "      <th>0</th>\n",
       "      <td>2</td>\n",
       "      <td>33120</td>\n",
       "      <td>1</td>\n",
       "      <td>1</td>\n",
       "    </tr>\n",
       "    <tr>\n",
       "      <th>1</th>\n",
       "      <td>2</td>\n",
       "      <td>28985</td>\n",
       "      <td>2</td>\n",
       "      <td>1</td>\n",
       "    </tr>\n",
       "    <tr>\n",
       "      <th>2</th>\n",
       "      <td>2</td>\n",
       "      <td>9327</td>\n",
       "      <td>3</td>\n",
       "      <td>0</td>\n",
       "    </tr>\n",
       "    <tr>\n",
       "      <th>3</th>\n",
       "      <td>2</td>\n",
       "      <td>45918</td>\n",
       "      <td>4</td>\n",
       "      <td>1</td>\n",
       "    </tr>\n",
       "    <tr>\n",
       "      <th>4</th>\n",
       "      <td>2</td>\n",
       "      <td>30035</td>\n",
       "      <td>5</td>\n",
       "      <td>0</td>\n",
       "    </tr>\n",
       "  </tbody>\n",
       "</table>\n",
       "</div>"
      ],
      "text/plain": [
       "   order_id  product_id  add_to_cart_order  reordered\n",
       "0         2       33120                  1          1\n",
       "1         2       28985                  2          1\n",
       "2         2        9327                  3          0\n",
       "3         2       45918                  4          1\n",
       "4         2       30035                  5          0"
      ]
     },
     "execution_count": 5,
     "metadata": {},
     "output_type": "execute_result"
    }
   ],
   "source": [
    "order_products = pd.concat(\n",
    "    [\n",
    "        pd.read_csv(f\"{PATH_DATA}/order_products__prior.csv\"),\n",
    "        pd.read_csv(f\"{PATH_DATA}/order_products__train.csv\"),\n",
    "    ]\n",
    ")\n",
    "order_products.head()"
   ]
  },
  {
   "cell_type": "markdown",
   "metadata": {},
   "source": [
    "<br>\n",
    "<br>\n",
    "\n",
    "## 1. &ensp; Task 1: \"Product co-occurrence\"\n",
    "\n",
    "For all products (`product_id`), compute how often the product co-occurs in orders (`order_id`) with every other product. The output should be a `pd.DataFrame` with the following three columns:\n",
    "\n",
    "1. Product 1\n",
    "1. Product 2\n",
    "1. Number of times the products co-occur in a shopping basket\n",
    "\n",
    "Some questions to consider:\n",
    "- What drives runtime and memory consumption of your implementation? What tools can you use for profiling runtime and memory consumption in Python? How can you reduce runtime and memory consumption?\n",
    "- What are meaningful parameters of your program that you should expose to the user?\n",
    "- Instead of calculating how often two products co-occur in a shopping basket, what would be (more meaningful) metrics? Why do you think so? "
   ]
  },
  {
   "cell_type": "code",
   "execution_count": 6,
   "metadata": {},
   "outputs": [],
   "source": [
    "# please add your implementation here"
   ]
  },
  {
   "cell_type": "markdown",
   "metadata": {},
   "source": [
    "<br>\n",
    "<br>\n",
    "\n",
    "## 2. &ensp; Task 2: \"Time-resolved ML feature\"\n",
    "\n",
    "Count number of distinct products (`product_id`) purchased by users (`user_id`) at any given point in time (`order_number`). The output should be a `pd.DataFrame` with the following three columns:\n",
    "\n",
    "1. User\n",
    "1. Order number\n",
    "1. Number of _different_ products purchased prior to the given order\n",
    "\n",
    "Some questions to consider:\n",
    "- Instead of calculating the ___number___ of different products users have purchased, how could you normalize the feature so it is more meaningful? Explain why you suggest this normalization.\n",
    "- What similar features (other than the number of unique products) can you compute given the data that is available to you?\n",
    "- What drives runtime and memory consumption of your implementation? How can you reduce runtime and memory consumption?"
   ]
  },
  {
   "cell_type": "code",
   "execution_count": 7,
   "metadata": {},
   "outputs": [],
   "source": [
    "# please add your implementation here"
   ]
  },
  {
   "cell_type": "markdown",
   "metadata": {},
   "source": [
    "<br>\n",
    "<br>\n",
    "\n",
    "## 3. &ensp; Task 3: \"P2V-MAP data streamer\"\n",
    "\n",
    "Your goal is to implement the data streamer used in\n",
    "\n",
    "> P2V-MAP: Mapping Market Structure for Large Assortments (Gabel et al. 2019).\n",
    "\n",
    "The data streamer is used in a model that predicts whether two products occur together in shopping baskets. Your streamer provides data for model training (and prediction) in batches. Each batch is made up of three `numpy` arrays, and each batch contains `B` training samples (i.e., rows in the `np.arrays`):\n",
    "\n",
    "- $a_1$: the product ID of a product in the basket\n",
    "- $a_2$: the product ID of another product in the basket, but _not_ the product in array $a_1$\n",
    "- $a_3$: N _randomly_ chosen products that are not in the basket with the products in $a_1$ and $a_2$ in a given row.\n",
    "\n",
    "For example, if a basket contains the products (1, 2, 3) and the product assortment is made up of 10 products (i.e., 1, ..., 10), then a possible output for a batch size of `B=3` and `N=2` is:\n",
    "\n",
    "- $a_1$ = `array([[1], [2], [3]])` (a `np.array` of size `3x1`)\n",
    "- $a_2$ = `array([[2], [1], [1]])` (a `np.array` of size `3x1`)\n",
    "- $a_3$ = `array([[4, 8], [9, 5], [7, 4]])` (a `np.array` of size `3x2`)\n",
    "\n",
    "As you can see, $a_3$ does not contain any of the products that you can find in the baskets. Of course, the streamer should generalize to multiple baskets.\n",
    "\n",
    "Please create a Python class `DataStreamerP2V` that contains (at least) the following methods:\n",
    "1. `__init__`\n",
    "1. `generate_batch`: returns one batch of training samples (the three arrays specified above)\n",
    "1. `reset_iterator`: resets the state of the data streamer, for example, after the data streamer iterated through all baskets\n",
    "\n",
    "The basket data (derived from `order_products` and `orders`) must be one of the inputs for the data streamer. Think about what parameters your streamer should feature so you allow the user to configure the streamer's functionality.\n",
    "\n",
    "_Bonus:_ Implement a unit test for your streamer class."
   ]
  },
  {
   "cell_type": "code",
   "execution_count": 8,
   "metadata": {},
   "outputs": [],
   "source": [
    "# please add your implementation here"
   ]
  },
  {
   "cell_type": "markdown",
   "metadata": {},
   "source": [
    "<br>\n",
    "<br>\n",
    "&mdash; <br>\n",
    "Sebastian Gabel <br>\n",
    "`Learning from Big Data` <br>"
   ]
  }
 ],
 "metadata": {
  "kernelspec": {
   "display_name": "Python 3 (ipykernel)",
   "language": "python",
   "name": "python3"
  },
  "language_info": {
   "codemirror_mode": {
    "name": "ipython",
    "version": 3
   },
   "file_extension": ".py",
   "mimetype": "text/x-python",
   "name": "python",
   "nbconvert_exporter": "python",
   "pygments_lexer": "ipython3",
   "version": "3.8.9"
  }
 },
 "nbformat": 4,
 "nbformat_minor": 4
}
