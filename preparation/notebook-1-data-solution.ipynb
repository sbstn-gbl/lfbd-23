{
 "cells": [
  {
   "cell_type": "markdown",
   "metadata": {},
   "source": [
    "# Notebook 1: Data Tasks (Part 1)\n",
    "\n",
    "In this notebook, we will implement an example solution for computing how often products co-occur in shopping baskets."
   ]
  },
  {
   "cell_type": "code",
   "execution_count": 1,
   "metadata": {},
   "outputs": [],
   "source": [
    "import os\n",
    "\n",
    "import numpy as np\n",
    "import pandas as pd\n",
    "import scipy.sparse\n",
    "import tqdm"
   ]
  },
  {
   "cell_type": "code",
   "execution_count": 2,
   "metadata": {},
   "outputs": [],
   "source": [
    "# please update me!\n",
    "PATH_DATA = \"../data/instacart\""
   ]
  },
  {
   "cell_type": "markdown",
   "metadata": {},
   "source": [
    "<br> \n",
    "<br> \n",
    "\n",
    "## Preparation: Get the data\n",
    "\n",
    "### Download data from Kaggle\n",
    "\n",
    "1. Create account on www.kaggle.com\n",
    "1. Download the Instacart data set from kaggle.com: https://www.kaggle.com/c/instacart-market-basket-analysis/data\n",
    "1. Put your data into `PATH_DATA` (as specified above) and unzip files"
   ]
  },
  {
   "cell_type": "code",
   "execution_count": 3,
   "metadata": {},
   "outputs": [],
   "source": [
    "# check that the required files are available\n",
    "assert os.path.isfile(f\"{PATH_DATA}/orders.csv\")\n",
    "assert os.path.isfile(f\"{PATH_DATA}/order_products__prior.csv\")\n",
    "assert os.path.isfile(f\"{PATH_DATA}/order_products__train.csv\")"
   ]
  },
  {
   "cell_type": "markdown",
   "metadata": {},
   "source": [
    "### Load data"
   ]
  },
  {
   "cell_type": "code",
   "execution_count": 4,
   "metadata": {},
   "outputs": [
    {
     "data": {
      "text/html": [
       "<div>\n",
       "<style scoped>\n",
       "    .dataframe tbody tr th:only-of-type {\n",
       "        vertical-align: middle;\n",
       "    }\n",
       "\n",
       "    .dataframe tbody tr th {\n",
       "        vertical-align: top;\n",
       "    }\n",
       "\n",
       "    .dataframe thead th {\n",
       "        text-align: right;\n",
       "    }\n",
       "</style>\n",
       "<table border=\"1\" class=\"dataframe\">\n",
       "  <thead>\n",
       "    <tr style=\"text-align: right;\">\n",
       "      <th></th>\n",
       "      <th>order_id</th>\n",
       "      <th>user_id</th>\n",
       "      <th>eval_set</th>\n",
       "      <th>order_number</th>\n",
       "      <th>order_dow</th>\n",
       "      <th>order_hour_of_day</th>\n",
       "      <th>days_since_prior_order</th>\n",
       "    </tr>\n",
       "  </thead>\n",
       "  <tbody>\n",
       "    <tr>\n",
       "      <th>0</th>\n",
       "      <td>2539329</td>\n",
       "      <td>1</td>\n",
       "      <td>prior</td>\n",
       "      <td>1</td>\n",
       "      <td>2</td>\n",
       "      <td>8</td>\n",
       "      <td>NaN</td>\n",
       "    </tr>\n",
       "    <tr>\n",
       "      <th>1</th>\n",
       "      <td>2398795</td>\n",
       "      <td>1</td>\n",
       "      <td>prior</td>\n",
       "      <td>2</td>\n",
       "      <td>3</td>\n",
       "      <td>7</td>\n",
       "      <td>15.0</td>\n",
       "    </tr>\n",
       "    <tr>\n",
       "      <th>2</th>\n",
       "      <td>473747</td>\n",
       "      <td>1</td>\n",
       "      <td>prior</td>\n",
       "      <td>3</td>\n",
       "      <td>3</td>\n",
       "      <td>12</td>\n",
       "      <td>21.0</td>\n",
       "    </tr>\n",
       "    <tr>\n",
       "      <th>3</th>\n",
       "      <td>2254736</td>\n",
       "      <td>1</td>\n",
       "      <td>prior</td>\n",
       "      <td>4</td>\n",
       "      <td>4</td>\n",
       "      <td>7</td>\n",
       "      <td>29.0</td>\n",
       "    </tr>\n",
       "    <tr>\n",
       "      <th>4</th>\n",
       "      <td>431534</td>\n",
       "      <td>1</td>\n",
       "      <td>prior</td>\n",
       "      <td>5</td>\n",
       "      <td>4</td>\n",
       "      <td>15</td>\n",
       "      <td>28.0</td>\n",
       "    </tr>\n",
       "  </tbody>\n",
       "</table>\n",
       "</div>"
      ],
      "text/plain": [
       "   order_id  user_id eval_set  order_number  order_dow  order_hour_of_day  \\\n",
       "0   2539329        1    prior             1          2                  8   \n",
       "1   2398795        1    prior             2          3                  7   \n",
       "2    473747        1    prior             3          3                 12   \n",
       "3   2254736        1    prior             4          4                  7   \n",
       "4    431534        1    prior             5          4                 15   \n",
       "\n",
       "   days_since_prior_order  \n",
       "0                     NaN  \n",
       "1                    15.0  \n",
       "2                    21.0  \n",
       "3                    29.0  \n",
       "4                    28.0  "
      ]
     },
     "execution_count": 4,
     "metadata": {},
     "output_type": "execute_result"
    }
   ],
   "source": [
    "orders = pd.read_csv(f\"{PATH_DATA}/orders.csv\")\n",
    "orders.head()"
   ]
  },
  {
   "cell_type": "code",
   "execution_count": 5,
   "metadata": {},
   "outputs": [
    {
     "data": {
      "text/html": [
       "<div>\n",
       "<style scoped>\n",
       "    .dataframe tbody tr th:only-of-type {\n",
       "        vertical-align: middle;\n",
       "    }\n",
       "\n",
       "    .dataframe tbody tr th {\n",
       "        vertical-align: top;\n",
       "    }\n",
       "\n",
       "    .dataframe thead th {\n",
       "        text-align: right;\n",
       "    }\n",
       "</style>\n",
       "<table border=\"1\" class=\"dataframe\">\n",
       "  <thead>\n",
       "    <tr style=\"text-align: right;\">\n",
       "      <th></th>\n",
       "      <th>order_id</th>\n",
       "      <th>product_id</th>\n",
       "      <th>add_to_cart_order</th>\n",
       "      <th>reordered</th>\n",
       "    </tr>\n",
       "  </thead>\n",
       "  <tbody>\n",
       "    <tr>\n",
       "      <th>0</th>\n",
       "      <td>2</td>\n",
       "      <td>33120</td>\n",
       "      <td>1</td>\n",
       "      <td>1</td>\n",
       "    </tr>\n",
       "    <tr>\n",
       "      <th>1</th>\n",
       "      <td>2</td>\n",
       "      <td>28985</td>\n",
       "      <td>2</td>\n",
       "      <td>1</td>\n",
       "    </tr>\n",
       "    <tr>\n",
       "      <th>2</th>\n",
       "      <td>2</td>\n",
       "      <td>9327</td>\n",
       "      <td>3</td>\n",
       "      <td>0</td>\n",
       "    </tr>\n",
       "    <tr>\n",
       "      <th>3</th>\n",
       "      <td>2</td>\n",
       "      <td>45918</td>\n",
       "      <td>4</td>\n",
       "      <td>1</td>\n",
       "    </tr>\n",
       "    <tr>\n",
       "      <th>4</th>\n",
       "      <td>2</td>\n",
       "      <td>30035</td>\n",
       "      <td>5</td>\n",
       "      <td>0</td>\n",
       "    </tr>\n",
       "  </tbody>\n",
       "</table>\n",
       "</div>"
      ],
      "text/plain": [
       "   order_id  product_id  add_to_cart_order  reordered\n",
       "0         2       33120                  1          1\n",
       "1         2       28985                  2          1\n",
       "2         2        9327                  3          0\n",
       "3         2       45918                  4          1\n",
       "4         2       30035                  5          0"
      ]
     },
     "execution_count": 5,
     "metadata": {},
     "output_type": "execute_result"
    }
   ],
   "source": [
    "order_products = pd.concat(\n",
    "    [\n",
    "        pd.read_csv(f\"{PATH_DATA}/order_products__prior.csv\"),\n",
    "        pd.read_csv(f\"{PATH_DATA}/order_products__train.csv\"),\n",
    "    ]\n",
    ")\n",
    "order_products.head()"
   ]
  },
  {
   "cell_type": "markdown",
   "metadata": {},
   "source": [
    "<br>\n",
    "<br>\n",
    "\n",
    "## Test data\n",
    "\n",
    "First, we create some test data and a reference result. The reference solution is created in a very naïve way that is bullet proof; not efficient but sufficient for small data. We can compare proper solutions with this \"ground truth.\""
   ]
  },
  {
   "cell_type": "code",
   "execution_count": 6,
   "metadata": {},
   "outputs": [],
   "source": [
    "np.random.seed(123)"
   ]
  },
  {
   "cell_type": "code",
   "execution_count": 7,
   "metadata": {},
   "outputs": [],
   "source": [
    "n_baskets = 8\n",
    "n_products = 8\n",
    "max_n_products = 4"
   ]
  },
  {
   "cell_type": "code",
   "execution_count": 8,
   "metadata": {},
   "outputs": [
    {
     "data": {
      "text/plain": [
       "[array([0, 1]),\n",
       " array([7, 6, 4]),\n",
       " array([5, 4, 2]),\n",
       " array([5, 6]),\n",
       " array([6, 7, 1]),\n",
       " array([6, 0]),\n",
       " array([1, 4]),\n",
       " array([7, 0])]"
      ]
     },
     "execution_count": 8,
     "metadata": {},
     "output_type": "execute_result"
    }
   ],
   "source": [
    "basket_list = []\n",
    "for _ in range(n_baskets):\n",
    "    size_b = np.random.choice(range(2, max_n_products))\n",
    "    basket_list.append(np.random.choice(n_products, size_b, replace=False))\n",
    "basket_list"
   ]
  },
  {
   "cell_type": "code",
   "execution_count": 9,
   "metadata": {},
   "outputs": [
    {
     "data": {
      "text/html": [
       "<div>\n",
       "<style scoped>\n",
       "    .dataframe tbody tr th:only-of-type {\n",
       "        vertical-align: middle;\n",
       "    }\n",
       "\n",
       "    .dataframe tbody tr th {\n",
       "        vertical-align: top;\n",
       "    }\n",
       "\n",
       "    .dataframe thead th {\n",
       "        text-align: right;\n",
       "    }\n",
       "</style>\n",
       "<table border=\"1\" class=\"dataframe\">\n",
       "  <thead>\n",
       "    <tr style=\"text-align: right;\">\n",
       "      <th></th>\n",
       "      <th>basket</th>\n",
       "      <th>product</th>\n",
       "    </tr>\n",
       "  </thead>\n",
       "  <tbody>\n",
       "    <tr>\n",
       "      <th>0</th>\n",
       "      <td>0</td>\n",
       "      <td>0</td>\n",
       "    </tr>\n",
       "    <tr>\n",
       "      <th>1</th>\n",
       "      <td>0</td>\n",
       "      <td>1</td>\n",
       "    </tr>\n",
       "    <tr>\n",
       "      <th>2</th>\n",
       "      <td>1</td>\n",
       "      <td>7</td>\n",
       "    </tr>\n",
       "    <tr>\n",
       "      <th>3</th>\n",
       "      <td>1</td>\n",
       "      <td>6</td>\n",
       "    </tr>\n",
       "    <tr>\n",
       "      <th>4</th>\n",
       "      <td>1</td>\n",
       "      <td>4</td>\n",
       "    </tr>\n",
       "  </tbody>\n",
       "</table>\n",
       "</div>"
      ],
      "text/plain": [
       "   basket  product\n",
       "0       0        0\n",
       "1       0        1\n",
       "2       1        7\n",
       "3       1        6\n",
       "4       1        4"
      ]
     },
     "execution_count": 9,
     "metadata": {},
     "output_type": "execute_result"
    }
   ],
   "source": [
    "basket_df = pd.DataFrame(\n",
    "    {\n",
    "        \"basket\": np.repeat(range(len(basket_list)), [len(x) for x in basket_list]),\n",
    "        \"product\": [y for x in basket_list for y in x],\n",
    "    }\n",
    ")\n",
    "basket_df.head()"
   ]
  },
  {
   "cell_type": "code",
   "execution_count": 10,
   "metadata": {},
   "outputs": [
    {
     "data": {
      "text/plain": [
       "array([[3, 1, 0, 0, 0, 0, 1, 1],\n",
       "       [1, 3, 0, 0, 1, 0, 1, 1],\n",
       "       [0, 0, 1, 0, 1, 1, 0, 0],\n",
       "       [0, 0, 0, 0, 0, 0, 0, 0],\n",
       "       [0, 1, 1, 0, 3, 1, 1, 1],\n",
       "       [0, 0, 1, 0, 1, 2, 1, 0],\n",
       "       [1, 1, 0, 0, 1, 1, 4, 2],\n",
       "       [1, 1, 0, 0, 1, 0, 2, 3]])"
      ]
     },
     "execution_count": 10,
     "metadata": {},
     "output_type": "execute_result"
    }
   ],
   "source": [
    "truth = np.zeros((n_products, n_products), dtype=int)\n",
    "\n",
    "for b in basket_list:\n",
    "    for j in b:\n",
    "        for i in b:\n",
    "            truth[i, j] += 1\n",
    "\n",
    "# diagonal is the count of baskets that products occur in\n",
    "assert np.all(\n",
    "    basket_df.sort_values(\"product\").groupby(\"product\").basket.count().values\n",
    "    == np.diag(truth)[np.diag(truth) > 0]\n",
    ")\n",
    "\n",
    "# matrix is symmetric\n",
    "assert np.all(truth == truth.T)\n",
    "\n",
    "truth"
   ]
  },
  {
   "cell_type": "markdown",
   "metadata": {},
   "source": [
    "## Computation of co-occurrences using list"
   ]
  },
  {
   "cell_type": "code",
   "execution_count": 11,
   "metadata": {},
   "outputs": [],
   "source": [
    "# turn the input data frame into a list of baskets, each basket is a list of products\n",
    "# slightly more than we need now, but we'll see this function again in one of the future exercises\n",
    "def baskets_df_to_list(\n",
    "    x,\n",
    "    variable_basket=\"basket\",\n",
    "    variable_product=\"product\",\n",
    "    min_basket_size=0,\n",
    "    shuffle=False,\n",
    "    to_string=False,\n",
    "    seed=501,\n",
    "):\n",
    "\n",
    "    # create raw basket list\n",
    "    x_basket_product = x[[variable_basket, variable_product]]\n",
    "    n_products = x[variable_product].max() + 1\n",
    "    keys, values = x_basket_product.sort_values(variable_basket).values.T\n",
    "    ukeys, index = np.unique(keys, True)\n",
    "    arrays = np.split(values, index)\n",
    "    basket_list = [list(set(a)) for a in arrays[1:]]\n",
    "\n",
    "    # format basket list\n",
    "    basket_list_out = []\n",
    "    for basket in basket_list:\n",
    "        if len(basket) >= min_basket_size:\n",
    "            if to_string:\n",
    "                basket_list_out.append([str(x) for x in basket])\n",
    "            else:\n",
    "                basket_list_out.append(basket)\n",
    "\n",
    "    # randomize basket order and product order in baskets\n",
    "    if shuffle:\n",
    "        np.random.seed(seed)\n",
    "        np.random.shuffle(basket_list_out)\n",
    "        for i in range(len(basket_list_out)):\n",
    "            np.random.shuffle(basket_list_out[i])\n",
    "\n",
    "    return basket_list_out, n_products\n",
    "\n",
    "\n",
    "# for each basket increase the co-occurrence counts for the products in the basket by 1\n",
    "def co_occurrences_list(x, variable_basket=\"basket\", variable_product=\"product\"):\n",
    "    basket_list, n_products = baskets_df_to_list(\n",
    "        x=x,\n",
    "        variable_basket=variable_basket,\n",
    "        variable_product=variable_product,\n",
    "        min_basket_size=0,\n",
    "        shuffle=False,\n",
    "        to_string=False,\n",
    "    )\n",
    "\n",
    "    co_occurrences = np.zeros((n_products, n_products), dtype=int)\n",
    "    for b in tqdm.tqdm(basket_list):\n",
    "        co_occurrences[np.ix_(b, b)] += 1\n",
    "\n",
    "    return co_occurrences"
   ]
  },
  {
   "cell_type": "code",
   "execution_count": 12,
   "metadata": {},
   "outputs": [
    {
     "name": "stderr",
     "output_type": "stream",
     "text": [
      "100%|████████████████████████████████████████████████████████████████████████████████████████████████████████████████████████████████████████████████| 8/8 [00:00<00:00, 5259.32it/s]\n"
     ]
    },
    {
     "data": {
      "text/plain": [
       "array([[3, 1, 0, 0, 0, 0, 1, 1],\n",
       "       [1, 3, 0, 0, 1, 0, 1, 1],\n",
       "       [0, 0, 1, 0, 1, 1, 0, 0],\n",
       "       [0, 0, 0, 0, 0, 0, 0, 0],\n",
       "       [0, 1, 1, 0, 3, 1, 1, 1],\n",
       "       [0, 0, 1, 0, 1, 2, 1, 0],\n",
       "       [1, 1, 0, 0, 1, 1, 4, 2],\n",
       "       [1, 1, 0, 0, 1, 0, 2, 3]])"
      ]
     },
     "execution_count": 12,
     "metadata": {},
     "output_type": "execute_result"
    }
   ],
   "source": [
    "co_occurrences = co_occurrences_list(basket_df)\n",
    "assert np.all(truth == co_occurrences)\n",
    "co_occurrences"
   ]
  },
  {
   "cell_type": "markdown",
   "metadata": {},
   "source": [
    "## Computation of co-occurrences using sparse matrix"
   ]
  },
  {
   "cell_type": "code",
   "execution_count": 13,
   "metadata": {},
   "outputs": [],
   "source": [
    "# create a (binary) space matrix that indicates whether a basket (row) contains a product (col)\n",
    "# co-occurrences are the dot produdct of this basket-product matrix\n",
    "def co_occurrences_sparse(x, variable_basket=\"basket\", variable_product=\"product\"):\n",
    "    row = x[variable_basket].values\n",
    "    col = x[variable_product].values\n",
    "    dim = (x[variable_basket].max() + 1, x[variable_product].max() + 1)\n",
    "\n",
    "    basket_product_table = scipy.sparse.csr_matrix(\n",
    "        (np.ones(len(row), dtype=int), (row, col)), shape=dim\n",
    "    )\n",
    "    co_occurrences_sparse = basket_product_table.T.dot(basket_product_table)\n",
    "    co_occurrences_dense = co_occurrences_sparse.toarray()\n",
    "    return co_occurrences_dense"
   ]
  },
  {
   "cell_type": "code",
   "execution_count": 14,
   "metadata": {},
   "outputs": [
    {
     "data": {
      "text/plain": [
       "array([[3, 1, 0, 0, 0, 0, 1, 1],\n",
       "       [1, 3, 0, 0, 1, 0, 1, 1],\n",
       "       [0, 0, 1, 0, 1, 1, 0, 0],\n",
       "       [0, 0, 0, 0, 0, 0, 0, 0],\n",
       "       [0, 1, 1, 0, 3, 1, 1, 1],\n",
       "       [0, 0, 1, 0, 1, 2, 1, 0],\n",
       "       [1, 1, 0, 0, 1, 1, 4, 2],\n",
       "       [1, 1, 0, 0, 1, 0, 2, 3]])"
      ]
     },
     "execution_count": 14,
     "metadata": {},
     "output_type": "execute_result"
    }
   ],
   "source": [
    "co_occurrences_2 = co_occurrences_sparse(basket_df)\n",
    "assert np.all(truth == co_occurrences_2)\n",
    "co_occurrences_2"
   ]
  },
  {
   "cell_type": "markdown",
   "metadata": {},
   "source": [
    "<br>\n",
    "<br>\n",
    "\n",
    "## 1. &ensp; Task 1: \"Product co-occurrence\"\n",
    "\n",
    "For all products (`product_id`), compute how often the product co-occurs in orders (`order_id`) with every other product. The output should be a `pd.DataFrame` with the following three columns:\n",
    "\n",
    "1. Product 1\n",
    "1. Product 2\n",
    "1. Number of times the products co-occur in a shopping basket"
   ]
  },
  {
   "cell_type": "code",
   "execution_count": 15,
   "metadata": {},
   "outputs": [
    {
     "name": "stderr",
     "output_type": "stream",
     "text": [
      "100%|████████████████████████████████████████████████████████████████████████████████████████████████████████████████████████████████████| 3346083/3346083 [08:20<00:00, 6685.25it/s]\n"
     ]
    }
   ],
   "source": [
    "co_occurrences = co_occurrences_list(\n",
    "    x=order_products,\n",
    "    variable_basket=\"order_id\",\n",
    "    variable_product=\"product_id\",\n",
    ")"
   ]
  },
  {
   "cell_type": "code",
   "execution_count": 16,
   "metadata": {},
   "outputs": [],
   "source": [
    "co_occurrences_2 = co_occurrences_sparse(\n",
    "    x=order_products,\n",
    "    variable_basket=\"order_id\",\n",
    "    variable_product=\"product_id\",\n",
    ")"
   ]
  },
  {
   "cell_type": "code",
   "execution_count": 17,
   "metadata": {},
   "outputs": [],
   "source": [
    "# only use a (random) subset of product pairs so the comparison is quicker\n",
    "idx = np.random.choice(co_occurrences_2.shape[0], 5_000)\n",
    "assert np.all(co_occurrences[np.ix_(idx, idx)] == co_occurrences_2[np.ix_(idx, idx)])"
   ]
  },
  {
   "cell_type": "markdown",
   "metadata": {},
   "source": [
    "<br>\n",
    "<br>\n",
    "\n",
    "## Some time measurements"
   ]
  },
  {
   "cell_type": "code",
   "execution_count": 18,
   "metadata": {},
   "outputs": [],
   "source": [
    "%load_ext line_profiler"
   ]
  },
  {
   "cell_type": "code",
   "execution_count": 19,
   "metadata": {},
   "outputs": [],
   "source": [
    "# only use a subset of data\n",
    "order_products_sample = order_products[order_products[\"order_id\"] < 10_000]"
   ]
  },
  {
   "cell_type": "code",
   "execution_count": 20,
   "metadata": {},
   "outputs": [
    {
     "name": "stderr",
     "output_type": "stream",
     "text": [
      "100%|██████████████████████████████████████████████████████████████████████████████████████████████████████████████████████████████████████████| 9812/9812 [00:02<00:00, 4542.83it/s]\n"
     ]
    },
    {
     "data": {
      "text/plain": [
       "Timer unit: 1e-06 s\n",
       "\n",
       "Total time: 2.35764 s\n",
       "File: /var/folders/jp/gv12f6ys7_nfjtp_8wr77vpr0000gn/T/ipykernel_38467/1180061722.py\n",
       "Function: co_occurrences_list at line 41\n",
       "\n",
       "Line #      Hits         Time  Per Hit   % Time  Line Contents\n",
       "==============================================================\n",
       "    41                                           def co_occurrences_list(x, variable_basket=\"basket\", variable_product=\"product\"):\n",
       "    42         2     193446.0  96723.0      8.2      basket_list, n_products = baskets_df_to_list(\n",
       "    43         1          1.0      1.0      0.0          x=x,\n",
       "    44         1          1.0      1.0      0.0          variable_basket=variable_basket,\n",
       "    45         1          1.0      1.0      0.0          variable_product=variable_product,\n",
       "    46         1          1.0      1.0      0.0          min_basket_size=0,\n",
       "    47         1          1.0      1.0      0.0          shuffle=False,\n",
       "    48         1          0.0      0.0      0.0          to_string=False,\n",
       "    49                                               )\n",
       "    50                                           \n",
       "    51         1       6354.0   6354.0      0.3      co_occurrences = np.zeros((n_products, n_products), dtype=int)\n",
       "    52      9813      79895.0      8.1      3.4      for b in tqdm.tqdm(basket_list):\n",
       "    53      9812    2077943.0    211.8     88.1          co_occurrences[np.ix_(b, b)] += 1\n",
       "    54                                           \n",
       "    55         1          2.0      2.0      0.0      return co_occurrences"
      ]
     },
     "metadata": {},
     "output_type": "display_data"
    }
   ],
   "source": [
    "%lprun -f co_occurrences_list co_occurrences_list(x=order_products_sample, variable_basket=\"order_id\", variable_product=\"product_id\")"
   ]
  },
  {
   "cell_type": "code",
   "execution_count": 21,
   "metadata": {},
   "outputs": [
    {
     "data": {
      "text/plain": [
       "Timer unit: 1e-06 s\n",
       "\n",
       "Total time: 1.02142 s\n",
       "File: /var/folders/jp/gv12f6ys7_nfjtp_8wr77vpr0000gn/T/ipykernel_38467/2429178872.py\n",
       "Function: co_occurrences_sparse at line 3\n",
       "\n",
       "Line #      Hits         Time  Per Hit   % Time  Line Contents\n",
       "==============================================================\n",
       "     3                                           def co_occurrences_sparse(x, variable_basket=\"basket\", variable_product=\"product\"):\n",
       "     4         1        749.0    749.0      0.1      row = x[variable_basket].values\n",
       "     5         1         26.0     26.0      0.0      col = x[variable_product].values\n",
       "     6         1        932.0    932.0      0.1      dim = (x[variable_basket].max() + 1, x[variable_product].max() + 1)\n",
       "     7                                           \n",
       "     8         2      10473.0   5236.5      1.0      basket_product_table = scipy.sparse.csr_matrix(\n",
       "     9         1        166.0    166.0      0.0          (np.ones(len(row), dtype=int), (row, col)), shape=dim\n",
       "    10                                               )\n",
       "    11         1      34702.0  34702.0      3.4      co_occurrences_sparse = basket_product_table.T.dot(basket_product_table)\n",
       "    12         1     974369.0 974369.0     95.4      co_occurrences_dense = co_occurrences_sparse.toarray()\n",
       "    13         1          3.0      3.0      0.0      return co_occurrences_dense"
      ]
     },
     "metadata": {},
     "output_type": "display_data"
    }
   ],
   "source": [
    "%lprun -f co_occurrences_sparse co_occurrences_sparse(x=order_products_sample, variable_basket=\"order_id\", variable_product=\"product_id\")"
   ]
  },
  {
   "cell_type": "markdown",
   "metadata": {},
   "source": [
    "## Pure sparse implementation\n",
    "\n",
    "Most of the time is spent on turning the sparse matrix into a regular numpy array. Instead, we can keep the data sparse by turning the sparse matrix into a pandas data frame. This will significantly speed up the computation.\n",
    "\n",
    "#### Implement sparse calculation, return pandas data frame"
   ]
  },
  {
   "cell_type": "code",
   "execution_count": 22,
   "metadata": {},
   "outputs": [],
   "source": [
    "# create a (binary) space matrix that indicates whether a basket (row) contains a product (col)\n",
    "# co-occurrences are the dot produdct of this basket-product matrix\n",
    "# return data frame\n",
    "def co_occurrences_sparse_2(x, variable_basket=\"basket\", variable_product=\"product\"):\n",
    "    row = x[variable_basket].values\n",
    "    col = x[variable_product].values\n",
    "    dim = (x[variable_basket].max() + 1, x[variable_product].max() + 1)\n",
    "\n",
    "    basket_product_table = scipy.sparse.csr_matrix(\n",
    "        (np.ones(len(row), dtype=int), (row, col)), shape=dim\n",
    "    )\n",
    "    co_occurrences_sparse = basket_product_table.T.dot(basket_product_table).tocoo()\n",
    "    co_occurrences_df = pd.DataFrame(\n",
    "        {\n",
    "            \"product_1\": co_occurrences_sparse.row,\n",
    "            \"product_2\": co_occurrences_sparse.col,\n",
    "            \"co-occurrence\": co_occurrences_sparse.data,\n",
    "        }\n",
    "    )\n",
    "    return co_occurrences_df"
   ]
  },
  {
   "cell_type": "code",
   "execution_count": 23,
   "metadata": {},
   "outputs": [
    {
     "data": {
      "text/plain": [
       "Timer unit: 1e-06 s\n",
       "\n",
       "Total time: 0.064485 s\n",
       "File: /var/folders/jp/gv12f6ys7_nfjtp_8wr77vpr0000gn/T/ipykernel_38467/3289034551.py\n",
       "Function: co_occurrences_sparse_2 at line 4\n",
       "\n",
       "Line #      Hits         Time  Per Hit   % Time  Line Contents\n",
       "==============================================================\n",
       "     4                                           def co_occurrences_sparse_2(x, variable_basket=\"basket\", variable_product=\"product\"):\n",
       "     5         1         47.0     47.0      0.1      row = x[variable_basket].values\n",
       "     6         1         16.0     16.0      0.0      col = x[variable_product].values\n",
       "     7         1        719.0    719.0      1.1      dim = (x[variable_basket].max() + 1, x[variable_product].max() + 1)\n",
       "     8                                           \n",
       "     9         2       5671.0   2835.5      8.8      basket_product_table = scipy.sparse.csr_matrix(\n",
       "    10         1        316.0    316.0      0.5          (np.ones(len(row), dtype=int), (row, col)), shape=dim\n",
       "    11                                               )\n",
       "    12         1      42305.0  42305.0     65.6      co_occurrences_sparse = basket_product_table.T.dot(basket_product_table).tocoo()\n",
       "    13         2      15404.0   7702.0     23.9      co_occurrences_df = pd.DataFrame(\n",
       "    14         1          2.0      2.0      0.0          {\n",
       "    15         1          2.0      2.0      0.0              \"product_1\": co_occurrences_sparse.row,\n",
       "    16         1          0.0      0.0      0.0              \"product_2\": co_occurrences_sparse.col,\n",
       "    17         1          1.0      1.0      0.0              \"co-occurrence\": co_occurrences_sparse.data,\n",
       "    18                                                   }\n",
       "    19                                               )\n",
       "    20         1          2.0      2.0      0.0      return co_occurrences_df"
      ]
     },
     "metadata": {},
     "output_type": "display_data"
    }
   ],
   "source": [
    "%lprun -f co_occurrences_sparse_2 co_occurrences_sparse_2(x=order_products_sample, variable_basket=\"order_id\", variable_product=\"product_id\")"
   ]
  },
  {
   "cell_type": "markdown",
   "metadata": {},
   "source": [
    "#### Produce result"
   ]
  },
  {
   "cell_type": "code",
   "execution_count": 24,
   "metadata": {},
   "outputs": [
    {
     "data": {
      "text/html": [
       "<div>\n",
       "<style scoped>\n",
       "    .dataframe tbody tr th:only-of-type {\n",
       "        vertical-align: middle;\n",
       "    }\n",
       "\n",
       "    .dataframe tbody tr th {\n",
       "        vertical-align: top;\n",
       "    }\n",
       "\n",
       "    .dataframe thead th {\n",
       "        text-align: right;\n",
       "    }\n",
       "</style>\n",
       "<table border=\"1\" class=\"dataframe\">\n",
       "  <thead>\n",
       "    <tr style=\"text-align: right;\">\n",
       "      <th></th>\n",
       "      <th>product_1</th>\n",
       "      <th>product_2</th>\n",
       "      <th>co-occurrence</th>\n",
       "    </tr>\n",
       "  </thead>\n",
       "  <tbody>\n",
       "    <tr>\n",
       "      <th>0</th>\n",
       "      <td>1</td>\n",
       "      <td>1</td>\n",
       "      <td>7</td>\n",
       "    </tr>\n",
       "    <tr>\n",
       "      <th>1</th>\n",
       "      <td>1</td>\n",
       "      <td>130</td>\n",
       "      <td>1</td>\n",
       "    </tr>\n",
       "    <tr>\n",
       "      <th>2</th>\n",
       "      <td>1</td>\n",
       "      <td>196</td>\n",
       "      <td>1</td>\n",
       "    </tr>\n",
       "    <tr>\n",
       "      <th>3</th>\n",
       "      <td>1</td>\n",
       "      <td>769</td>\n",
       "      <td>1</td>\n",
       "    </tr>\n",
       "    <tr>\n",
       "      <th>4</th>\n",
       "      <td>1</td>\n",
       "      <td>3298</td>\n",
       "      <td>1</td>\n",
       "    </tr>\n",
       "    <tr>\n",
       "      <th>...</th>\n",
       "      <td>...</td>\n",
       "      <td>...</td>\n",
       "      <td>...</td>\n",
       "    </tr>\n",
       "    <tr>\n",
       "      <th>1165846</th>\n",
       "      <td>49685</td>\n",
       "      <td>30489</td>\n",
       "      <td>1</td>\n",
       "    </tr>\n",
       "    <tr>\n",
       "      <th>1165847</th>\n",
       "      <td>49685</td>\n",
       "      <td>34939</td>\n",
       "      <td>1</td>\n",
       "    </tr>\n",
       "    <tr>\n",
       "      <th>1165848</th>\n",
       "      <td>49685</td>\n",
       "      <td>49685</td>\n",
       "      <td>1</td>\n",
       "    </tr>\n",
       "    <tr>\n",
       "      <th>1165849</th>\n",
       "      <td>49686</td>\n",
       "      <td>12204</td>\n",
       "      <td>1</td>\n",
       "    </tr>\n",
       "    <tr>\n",
       "      <th>1165850</th>\n",
       "      <td>49686</td>\n",
       "      <td>49686</td>\n",
       "      <td>1</td>\n",
       "    </tr>\n",
       "  </tbody>\n",
       "</table>\n",
       "<p>1165851 rows × 3 columns</p>\n",
       "</div>"
      ],
      "text/plain": [
       "         product_1  product_2  co-occurrence\n",
       "0                1          1              7\n",
       "1                1        130              1\n",
       "2                1        196              1\n",
       "3                1        769              1\n",
       "4                1       3298              1\n",
       "...            ...        ...            ...\n",
       "1165846      49685      30489              1\n",
       "1165847      49685      34939              1\n",
       "1165848      49685      49685              1\n",
       "1165849      49686      12204              1\n",
       "1165850      49686      49686              1\n",
       "\n",
       "[1165851 rows x 3 columns]"
      ]
     },
     "execution_count": 24,
     "metadata": {},
     "output_type": "execute_result"
    }
   ],
   "source": [
    "co_occurrences_df = co_occurrences_sparse_2(\n",
    "    x=order_products_sample,\n",
    "    variable_basket=\"order_id\",\n",
    "    variable_product=\"product_id\",\n",
    ")\n",
    "co_occurrences_df = co_occurrences_df.sort_values(\n",
    "    [\"product_1\", \"product_2\"]\n",
    ").reset_index(drop=True)\n",
    "co_occurrences_df"
   ]
  },
  {
   "cell_type": "code",
   "execution_count": 25,
   "metadata": {},
   "outputs": [
    {
     "name": "stdout",
     "output_type": "stream",
     "text": [
      "20.1 s ± 2.39 s per loop (mean ± std. dev. of 7 runs, 1 loop each)\n"
     ]
    }
   ],
   "source": [
    "%timeit -n 1 co_occurrences_sparse_2(x=order_products, variable_basket=\"order_id\", variable_product=\"product_id\")"
   ]
  },
  {
   "cell_type": "markdown",
   "metadata": {},
   "source": [
    "That is much(!) faster than the old sparse implementation and the list implementation.\n",
    "\n",
    "#### Check whether the results is correct"
   ]
  },
  {
   "cell_type": "code",
   "execution_count": 26,
   "metadata": {},
   "outputs": [
    {
     "name": "stderr",
     "output_type": "stream",
     "text": [
      "100%|██████████████████████████████████████████████████████████████████████████████████████████████████████████████████████████████████████████| 9812/9812 [00:01<00:00, 6736.95it/s]\n"
     ]
    }
   ],
   "source": [
    "reference_result = co_occurrences_list(\n",
    "    x=order_products_sample,\n",
    "    variable_basket=\"order_id\",\n",
    "    variable_product=\"product_id\",\n",
    ")"
   ]
  },
  {
   "cell_type": "code",
   "execution_count": 27,
   "metadata": {},
   "outputs": [],
   "source": [
    "matrix_from_co_occurrences_df = np.zeros(reference_result.shape)\n",
    "matrix_from_co_occurrences_df[\n",
    "    (co_occurrences_df[\"product_1\"], co_occurrences_df[\"product_2\"])\n",
    "] = co_occurrences_df[\"co-occurrence\"].values\n",
    "assert np.all(reference_result == matrix_from_co_occurrences_df)"
   ]
  },
  {
   "cell_type": "markdown",
   "metadata": {},
   "source": [
    "<br>\n",
    "<br>\n",
    "&mdash; <br>\n",
    "Sebastian Gabel <br>\n",
    "`Learning from Big Data` <br>"
   ]
  }
 ],
 "metadata": {
  "kernelspec": {
   "display_name": "Python 3 (ipykernel)",
   "language": "python",
   "name": "python3"
  },
  "language_info": {
   "codemirror_mode": {
    "name": "ipython",
    "version": 3
   },
   "file_extension": ".py",
   "mimetype": "text/x-python",
   "name": "python",
   "nbconvert_exporter": "python",
   "pygments_lexer": "ipython3",
   "version": "3.8.9"
  }
 },
 "nbformat": 4,
 "nbformat_minor": 4
}
