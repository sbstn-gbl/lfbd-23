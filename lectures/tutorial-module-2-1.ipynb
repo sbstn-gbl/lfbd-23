{
 "cells": [
  {
   "cell_type": "markdown",
   "id": "cca9b0e7-98e6-4861-97da-0032f358b8d4",
   "metadata": {},
   "source": [
    "# Tutorial Assignment 2"
   ]
  },
  {
   "cell_type": "code",
   "execution_count": 2,
   "id": "51ae9508-dfa6-4031-9a69-5bd640c08286",
   "metadata": {},
   "outputs": [],
   "source": [
    "import os\n",
    "\n",
    "import numpy as np\n",
    "import pandas as pd\n",
    "import matplotlib.pyplot as plt\n",
    "import sklearn.metrics  # use existing libraries!"
   ]
  },
  {
   "cell_type": "code",
   "execution_count": 3,
   "id": "5b85e0a4-3e8d-430a-b7c9-7d0e2164cf96",
   "metadata": {},
   "outputs": [],
   "source": [
    "# score function: binary cross entropy loss\n",
    "def score_yp(y, p): # y, p are numpy arrays\n",
    "    return sklearn.metrics.log_loss(y, p)"
   ]
  },
  {
   "cell_type": "code",
   "execution_count": 4,
   "id": "c6c299c1-a6e4-4076-97a5-710148a22e1b",
   "metadata": {},
   "outputs": [],
   "source": [
    "# score wrapper, for data frames. we need this when using the `truth` data frame\n",
    "def score(x, y): # x, y are data frames\n",
    "    xy = pd.merge(x, y, on=[\"customer\", \"product\", \"week\"])\n",
    "    assert xy.shape[0] == x.shape[0]\n",
    "    return score_yp(xy[\"y\"].values, xy[\"probability\"].values)"
   ]
  },
  {
   "cell_type": "markdown",
   "id": "01161aa8-962e-4c8c-9ed2-4421c23ed05c",
   "metadata": {},
   "source": [
    "<br>\n",
    "\n",
    "## Input"
   ]
  },
  {
   "cell_type": "code",
   "execution_count": 5,
   "id": "8da0367b-3b62-46e1-ad64-dff69f73b65d",
   "metadata": {},
   "outputs": [],
   "source": [
    "# the path that contains the data\n",
    "path = os.path.expandvars(\"~/Dropbox_RSM/teaching/big-data-23-24/data/dr-s\")"
   ]
  },
  {
   "cell_type": "code",
   "execution_count": 6,
   "id": "4ea8f257-e4f4-4258-acdc-6b125794a916",
   "metadata": {},
   "outputs": [],
   "source": [
    "# INPUT\n",
    "training_week = 88  # for model training\n",
    "validation_week = 89  # for model and baseline validation\n",
    "test_week = 90  # for the final prediction (one week in the future, beyond our data)\n",
    "target_customers = list(range(2000))\n",
    "target_products = list(range(250))"
   ]
  },
  {
   "cell_type": "markdown",
   "id": "e6b7cc60-62e5-40b7-9491-a2640f44e08c",
   "metadata": {},
   "source": [
    "<br>\n",
    "\n",
    "## Load data"
   ]
  },
  {
   "cell_type": "code",
   "execution_count": 7,
   "id": "cf7453b7-28fd-490b-9efe-5af764d06a79",
   "metadata": {},
   "outputs": [
    {
     "data": {
      "text/html": [
       "<div>\n",
       "<style scoped>\n",
       "    .dataframe tbody tr th:only-of-type {\n",
       "        vertical-align: middle;\n",
       "    }\n",
       "\n",
       "    .dataframe tbody tr th {\n",
       "        vertical-align: top;\n",
       "    }\n",
       "\n",
       "    .dataframe thead th {\n",
       "        text-align: right;\n",
       "    }\n",
       "</style>\n",
       "<table border=\"1\" class=\"dataframe\">\n",
       "  <thead>\n",
       "    <tr style=\"text-align: right;\">\n",
       "      <th></th>\n",
       "      <th>week</th>\n",
       "      <th>customer</th>\n",
       "      <th>product</th>\n",
       "      <th>price</th>\n",
       "    </tr>\n",
       "  </thead>\n",
       "  <tbody>\n",
       "    <tr>\n",
       "      <th>0</th>\n",
       "      <td>0</td>\n",
       "      <td>0</td>\n",
       "      <td>71</td>\n",
       "      <td>629</td>\n",
       "    </tr>\n",
       "    <tr>\n",
       "      <th>1</th>\n",
       "      <td>0</td>\n",
       "      <td>0</td>\n",
       "      <td>91</td>\n",
       "      <td>605</td>\n",
       "    </tr>\n",
       "    <tr>\n",
       "      <th>2</th>\n",
       "      <td>0</td>\n",
       "      <td>0</td>\n",
       "      <td>116</td>\n",
       "      <td>715</td>\n",
       "    </tr>\n",
       "    <tr>\n",
       "      <th>3</th>\n",
       "      <td>0</td>\n",
       "      <td>0</td>\n",
       "      <td>123</td>\n",
       "      <td>483</td>\n",
       "    </tr>\n",
       "    <tr>\n",
       "      <th>4</th>\n",
       "      <td>0</td>\n",
       "      <td>0</td>\n",
       "      <td>157</td>\n",
       "      <td>592</td>\n",
       "    </tr>\n",
       "  </tbody>\n",
       "</table>\n",
       "</div>"
      ],
      "text/plain": [
       "   week  customer  product  price\n",
       "0     0         0       71    629\n",
       "1     0         0       91    605\n",
       "2     0         0      116    715\n",
       "3     0         0      123    483\n",
       "4     0         0      157    592"
      ]
     },
     "execution_count": 7,
     "metadata": {},
     "output_type": "execute_result"
    }
   ],
   "source": [
    "baskets = pd.read_parquet(f\"{path}/upload/baskets-s.parquet\")\n",
    "# we only keep the 2000 customers required for the test set\n",
    "# a complex model might require more data, e.g., see Boosted Tree model in Gabel & Timoshenko (2022)\n",
    "baskets.head()"
   ]
  },
  {
   "cell_type": "code",
   "execution_count": 8,
   "id": "87236da5-ea4b-43f8-8aa4-5019ba484255",
   "metadata": {},
   "outputs": [
    {
     "data": {
      "text/html": [
       "<div>\n",
       "<style scoped>\n",
       "    .dataframe tbody tr th:only-of-type {\n",
       "        vertical-align: middle;\n",
       "    }\n",
       "\n",
       "    .dataframe tbody tr th {\n",
       "        vertical-align: top;\n",
       "    }\n",
       "\n",
       "    .dataframe thead th {\n",
       "        text-align: right;\n",
       "    }\n",
       "</style>\n",
       "<table border=\"1\" class=\"dataframe\">\n",
       "  <thead>\n",
       "    <tr style=\"text-align: right;\">\n",
       "      <th></th>\n",
       "      <th>week</th>\n",
       "      <th>customer</th>\n",
       "      <th>product</th>\n",
       "    </tr>\n",
       "  </thead>\n",
       "  <tbody>\n",
       "    <tr>\n",
       "      <th>0</th>\n",
       "      <td>90</td>\n",
       "      <td>0</td>\n",
       "      <td>0</td>\n",
       "    </tr>\n",
       "    <tr>\n",
       "      <th>1</th>\n",
       "      <td>90</td>\n",
       "      <td>0</td>\n",
       "      <td>1</td>\n",
       "    </tr>\n",
       "    <tr>\n",
       "      <th>2</th>\n",
       "      <td>90</td>\n",
       "      <td>0</td>\n",
       "      <td>2</td>\n",
       "    </tr>\n",
       "    <tr>\n",
       "      <th>3</th>\n",
       "      <td>90</td>\n",
       "      <td>0</td>\n",
       "      <td>3</td>\n",
       "    </tr>\n",
       "    <tr>\n",
       "      <th>4</th>\n",
       "      <td>90</td>\n",
       "      <td>0</td>\n",
       "      <td>4</td>\n",
       "    </tr>\n",
       "  </tbody>\n",
       "</table>\n",
       "</div>"
      ],
      "text/plain": [
       "   week  customer  product\n",
       "0    90         0        0\n",
       "1    90         0        1\n",
       "2    90         0        2\n",
       "3    90         0        3\n",
       "4    90         0        4"
      ]
     },
     "execution_count": 8,
     "metadata": {},
     "output_type": "execute_result"
    }
   ],
   "source": [
    "prediction_index = pd.read_parquet(f\"{path}/raw/prediction_index.parquet\")\n",
    "prediction_index.head()"
   ]
  },
  {
   "cell_type": "markdown",
   "id": "352eba49-7451-4919-ae2c-f4337821acbd",
   "metadata": {},
   "source": [
    "<br>\n",
    "\n",
    "## EDA"
   ]
  },
  {
   "cell_type": "code",
   "execution_count": 9,
   "id": "f7e067fb-f585-4f4a-a475-951000860d4e",
   "metadata": {},
   "outputs": [
    {
     "data": {
      "text/html": [
       "<div>\n",
       "<style scoped>\n",
       "    .dataframe tbody tr th:only-of-type {\n",
       "        vertical-align: middle;\n",
       "    }\n",
       "\n",
       "    .dataframe tbody tr th {\n",
       "        vertical-align: top;\n",
       "    }\n",
       "\n",
       "    .dataframe thead th {\n",
       "        text-align: right;\n",
       "    }\n",
       "</style>\n",
       "<table border=\"1\" class=\"dataframe\">\n",
       "  <thead>\n",
       "    <tr style=\"text-align: right;\">\n",
       "      <th></th>\n",
       "      <th>week</th>\n",
       "      <th>customer</th>\n",
       "      <th>product</th>\n",
       "      <th>price</th>\n",
       "    </tr>\n",
       "  </thead>\n",
       "  <tbody>\n",
       "    <tr>\n",
       "      <th>count</th>\n",
       "      <td>1.378720e+06</td>\n",
       "      <td>1.378720e+06</td>\n",
       "      <td>1.378720e+06</td>\n",
       "      <td>1.378720e+06</td>\n",
       "    </tr>\n",
       "    <tr>\n",
       "      <th>mean</th>\n",
       "      <td>4.447746e+01</td>\n",
       "      <td>9.972110e+02</td>\n",
       "      <td>1.250727e+02</td>\n",
       "      <td>5.843381e+02</td>\n",
       "    </tr>\n",
       "    <tr>\n",
       "      <th>std</th>\n",
       "      <td>2.597662e+01</td>\n",
       "      <td>5.762501e+02</td>\n",
       "      <td>6.970123e+01</td>\n",
       "      <td>9.743281e+01</td>\n",
       "    </tr>\n",
       "    <tr>\n",
       "      <th>min</th>\n",
       "      <td>0.000000e+00</td>\n",
       "      <td>0.000000e+00</td>\n",
       "      <td>0.000000e+00</td>\n",
       "      <td>2.340000e+02</td>\n",
       "    </tr>\n",
       "    <tr>\n",
       "      <th>25%</th>\n",
       "      <td>2.200000e+01</td>\n",
       "      <td>4.990000e+02</td>\n",
       "      <td>6.600000e+01</td>\n",
       "      <td>5.060000e+02</td>\n",
       "    </tr>\n",
       "    <tr>\n",
       "      <th>50%</th>\n",
       "      <td>4.400000e+01</td>\n",
       "      <td>9.930000e+02</td>\n",
       "      <td>1.230000e+02</td>\n",
       "      <td>5.790000e+02</td>\n",
       "    </tr>\n",
       "    <tr>\n",
       "      <th>75%</th>\n",
       "      <td>6.700000e+01</td>\n",
       "      <td>1.496000e+03</td>\n",
       "      <td>1.890000e+02</td>\n",
       "      <td>6.540000e+02</td>\n",
       "    </tr>\n",
       "    <tr>\n",
       "      <th>max</th>\n",
       "      <td>8.900000e+01</td>\n",
       "      <td>1.999000e+03</td>\n",
       "      <td>2.490000e+02</td>\n",
       "      <td>8.370000e+02</td>\n",
       "    </tr>\n",
       "  </tbody>\n",
       "</table>\n",
       "</div>"
      ],
      "text/plain": [
       "               week      customer       product         price\n",
       "count  1.378720e+06  1.378720e+06  1.378720e+06  1.378720e+06\n",
       "mean   4.447746e+01  9.972110e+02  1.250727e+02  5.843381e+02\n",
       "std    2.597662e+01  5.762501e+02  6.970123e+01  9.743281e+01\n",
       "min    0.000000e+00  0.000000e+00  0.000000e+00  2.340000e+02\n",
       "25%    2.200000e+01  4.990000e+02  6.600000e+01  5.060000e+02\n",
       "50%    4.400000e+01  9.930000e+02  1.230000e+02  5.790000e+02\n",
       "75%    6.700000e+01  1.496000e+03  1.890000e+02  6.540000e+02\n",
       "max    8.900000e+01  1.999000e+03  2.490000e+02  8.370000e+02"
      ]
     },
     "execution_count": 9,
     "metadata": {},
     "output_type": "execute_result"
    }
   ],
   "source": [
    "baskets.describe()"
   ]
  },
  {
   "cell_type": "code",
   "execution_count": 10,
   "id": "2175671f-8144-4f4e-a293-8176741edf92",
   "metadata": {},
   "outputs": [
    {
     "data": {
      "text/plain": [
       "89"
      ]
     },
     "execution_count": 10,
     "metadata": {},
     "output_type": "execute_result"
    }
   ],
   "source": [
    "baskets[\"week\"].max()"
   ]
  },
  {
   "cell_type": "code",
   "execution_count": 11,
   "id": "48c9344a-9b28-4991-934f-bf1e03de7c4c",
   "metadata": {},
   "outputs": [
    {
     "data": {
      "text/plain": [
       "2000"
      ]
     },
     "execution_count": 11,
     "metadata": {},
     "output_type": "execute_result"
    }
   ],
   "source": [
    "baskets[\"customer\"].nunique()"
   ]
  },
  {
   "cell_type": "code",
   "execution_count": 12,
   "id": "73b038dc-674e-499f-8749-4305f7173008",
   "metadata": {},
   "outputs": [
    {
     "data": {
      "text/plain": [
       "90"
      ]
     },
     "execution_count": 12,
     "metadata": {},
     "output_type": "execute_result"
    }
   ],
   "source": [
    "baskets[\"week\"].nunique()"
   ]
  },
  {
   "cell_type": "code",
   "execution_count": 13,
   "id": "ec52af42-d213-46a2-9835-a572c5738a00",
   "metadata": {},
   "outputs": [
    {
     "data": {
      "text/plain": [
       "250"
      ]
     },
     "execution_count": 13,
     "metadata": {},
     "output_type": "execute_result"
    }
   ],
   "source": [
    "baskets[\"product\"].nunique()"
   ]
  },
  {
   "cell_type": "code",
   "execution_count": 14,
   "id": "544e5043-2190-410a-a030-7642e1774ad0",
   "metadata": {},
   "outputs": [
    {
     "data": {
      "image/png": "[encoded data removed]",
      "text/plain": [
       "<Figure size 640x480 with 1 Axes>"
      ]
     },
     "metadata": {},
     "output_type": "display_data"
    }
   ],
   "source": [
    "baskets.groupby(\"customer\").size().hist()\n",
    "plt.xlabel(\"N observations by customer\")\n",
    "plt.ylabel(\"Count\")\n",
    "plt.show()"
   ]
  },
  {
   "cell_type": "code",
   "execution_count": 15,
   "id": "42e42614-72b4-43ae-a186-7658f89bba0f",
   "metadata": {},
   "outputs": [
    {
     "data": {
      "image/png": "[encoded data removed]",
      "text/plain": [
       "<Figure size 640x480 with 1 Axes>"
      ]
     },
     "metadata": {},
     "output_type": "display_data"
    }
   ],
   "source": [
    "baskets.groupby(\"customer\")[\"week\"].nunique().hist()\n",
    "plt.xlabel(\"N weeks by customer\")\n",
    "plt.ylabel(\"Count\")\n",
    "plt.show()"
   ]
  },
  {
   "cell_type": "code",
   "execution_count": 16,
   "id": "c2b72c2a-a45a-439a-9539-c464621882c8",
   "metadata": {},
   "outputs": [
    {
     "data": {
      "image/png": "[encoded data removed]",
      "text/plain": [
       "<Figure size 640x480 with 1 Axes>"
      ]
     },
     "metadata": {},
     "output_type": "display_data"
    }
   ],
   "source": [
    "baskets.groupby(\"product\").size().hist()\n",
    "plt.xlabel(\"N observations by product\")\n",
    "plt.ylabel(\"Count\")\n",
    "plt.show()"
   ]
  },
  {
   "cell_type": "code",
   "execution_count": 17,
   "id": "2d180516-1d97-41e1-be7e-912ec224503a",
   "metadata": {},
   "outputs": [
    {
     "data": {
      "image/png": "[encoded data removed]",
      "text/plain": [
       "<Figure size 640x480 with 1 Axes>"
      ]
     },
     "metadata": {},
     "output_type": "display_data"
    }
   ],
   "source": [
    "baskets.groupby(\"product\")[\"week\"].nunique().hist()\n",
    "plt.xlabel(\"N weeks by product\")\n",
    "plt.ylabel(\"Count\")\n",
    "plt.show()"
   ]
  },
  {
   "cell_type": "code",
   "execution_count": 18,
   "id": "86300135-b07c-4963-86b8-aadfa9c3737c",
   "metadata": {},
   "outputs": [
    {
     "data": {
      "image/png": "[encoded data removed]",
      "text/plain": [
       "<Figure size 640x480 with 1 Axes>"
      ]
     },
     "metadata": {},
     "output_type": "display_data"
    }
   ],
   "source": [
    "baskets.groupby(\"product\")[\"price\"].mean().hist()\n",
    "plt.xlabel(\"Average price by product\")\n",
    "plt.ylabel(\"Count\")\n",
    "plt.show()"
   ]
  },
  {
   "cell_type": "markdown",
   "id": "48a56122-fd8e-46a4-8f03-2d315a4fba0a",
   "metadata": {},
   "source": [
    "<br>\n",
    "\n",
    "## Reminder\n",
    "\n",
    "<img src=\"https://raw.githubusercontent.com/sbstn-gbl/learning-from-big-data/master/source/_static/img/time-split.png\" width=\"900\"/>\n",
    "\n",
    "<br>\n",
    "\n",
    "## Some first steps"
   ]
  },
  {
   "cell_type": "code",
   "execution_count": 19,
   "id": "0679623e-5782-4f12-9e77-7343d572d5c6",
   "metadata": {},
   "outputs": [
    {
     "data": {
      "text/plain": [
       "89"
      ]
     },
     "execution_count": 19,
     "metadata": {},
     "output_type": "execute_result"
    }
   ],
   "source": [
    "baskets.week.max()"
   ]
  },
  {
   "cell_type": "code",
   "execution_count": 20,
   "id": "63428aa6-0d0d-466f-ad34-704ffa2265fc",
   "metadata": {},
   "outputs": [
    {
     "name": "stdout",
     "output_type": "stream",
     "text": [
      "90\n"
     ]
    }
   ],
   "source": [
    "n_weeks = baskets.week.nunique()\n",
    "print(n_weeks)"
   ]
  },
  {
   "cell_type": "code",
   "execution_count": 21,
   "id": "1b8818aa-71d2-439c-9b7a-60f70844771d",
   "metadata": {},
   "outputs": [
    {
     "data": {
      "text/plain": [
       "0.08888888888888889"
      ]
     },
     "execution_count": 21,
     "metadata": {},
     "output_type": "execute_result"
    }
   ],
   "source": [
    "# purchase frequency for one customer and product\n",
    "(\n",
    "    baskets[(baskets[\"customer\"]==0) & (baskets[\"product\"]==4)]\n",
    "    .week.count()\n",
    "    / n_weeks\n",
    ")"
   ]
  },
  {
   "cell_type": "code",
   "execution_count": 22,
   "id": "708b97ef-7188-4a10-abf2-58662ccec1aa",
   "metadata": {},
   "outputs": [
    {
     "data": {
      "text/html": [
       "<div>\n",
       "<style scoped>\n",
       "    .dataframe tbody tr th:only-of-type {\n",
       "        vertical-align: middle;\n",
       "    }\n",
       "\n",
       "    .dataframe tbody tr th {\n",
       "        vertical-align: top;\n",
       "    }\n",
       "\n",
       "    .dataframe thead th {\n",
       "        text-align: right;\n",
       "    }\n",
       "</style>\n",
       "<table border=\"1\" class=\"dataframe\">\n",
       "  <thead>\n",
       "    <tr style=\"text-align: right;\">\n",
       "      <th></th>\n",
       "      <th>customer</th>\n",
       "      <th>product</th>\n",
       "      <th>probability</th>\n",
       "    </tr>\n",
       "  </thead>\n",
       "  <tbody>\n",
       "    <tr>\n",
       "      <th>0</th>\n",
       "      <td>0</td>\n",
       "      <td>4</td>\n",
       "      <td>0.088889</td>\n",
       "    </tr>\n",
       "    <tr>\n",
       "      <th>1</th>\n",
       "      <td>0</td>\n",
       "      <td>11</td>\n",
       "      <td>0.100000</td>\n",
       "    </tr>\n",
       "    <tr>\n",
       "      <th>2</th>\n",
       "      <td>0</td>\n",
       "      <td>15</td>\n",
       "      <td>0.011111</td>\n",
       "    </tr>\n",
       "    <tr>\n",
       "      <th>3</th>\n",
       "      <td>0</td>\n",
       "      <td>16</td>\n",
       "      <td>0.044444</td>\n",
       "    </tr>\n",
       "    <tr>\n",
       "      <th>4</th>\n",
       "      <td>0</td>\n",
       "      <td>21</td>\n",
       "      <td>0.011111</td>\n",
       "    </tr>\n",
       "    <tr>\n",
       "      <th>...</th>\n",
       "      <td>...</td>\n",
       "      <td>...</td>\n",
       "      <td>...</td>\n",
       "    </tr>\n",
       "    <tr>\n",
       "      <th>142059</th>\n",
       "      <td>1999</td>\n",
       "      <td>237</td>\n",
       "      <td>0.044444</td>\n",
       "    </tr>\n",
       "    <tr>\n",
       "      <th>142060</th>\n",
       "      <td>1999</td>\n",
       "      <td>242</td>\n",
       "      <td>0.388889</td>\n",
       "    </tr>\n",
       "    <tr>\n",
       "      <th>142061</th>\n",
       "      <td>1999</td>\n",
       "      <td>243</td>\n",
       "      <td>0.011111</td>\n",
       "    </tr>\n",
       "    <tr>\n",
       "      <th>142062</th>\n",
       "      <td>1999</td>\n",
       "      <td>245</td>\n",
       "      <td>0.133333</td>\n",
       "    </tr>\n",
       "    <tr>\n",
       "      <th>142063</th>\n",
       "      <td>1999</td>\n",
       "      <td>249</td>\n",
       "      <td>0.088889</td>\n",
       "    </tr>\n",
       "  </tbody>\n",
       "</table>\n",
       "<p>142064 rows × 3 columns</p>\n",
       "</div>"
      ],
      "text/plain": [
       "        customer  product  probability\n",
       "0              0        4     0.088889\n",
       "1              0       11     0.100000\n",
       "2              0       15     0.011111\n",
       "3              0       16     0.044444\n",
       "4              0       21     0.011111\n",
       "...          ...      ...          ...\n",
       "142059      1999      237     0.044444\n",
       "142060      1999      242     0.388889\n",
       "142061      1999      243     0.011111\n",
       "142062      1999      245     0.133333\n",
       "142063      1999      249     0.088889\n",
       "\n",
       "[142064 rows x 3 columns]"
      ]
     },
     "execution_count": 22,
     "metadata": {},
     "output_type": "execute_result"
    }
   ],
   "source": [
    "# this is our first \"model\" – wow, that's easy!\n",
    "purchase_frequency_ij = (\n",
    "    (\n",
    "        baskets.groupby([\"customer\", \"product\"])\n",
    "        [[\"week\"]].count()\n",
    "        / n_weeks\n",
    "    )\n",
    "    .rename(columns={\"week\": \"probability\"})\n",
    "    .reset_index()\n",
    ")\n",
    "purchase_frequency_ij"
   ]
  },
  {
   "cell_type": "code",
   "execution_count": 23,
   "id": "39dfbedc-6a16-4578-af82-cade6c930741",
   "metadata": {},
   "outputs": [
    {
     "data": {
      "text/plain": [
       "90"
      ]
     },
     "execution_count": 23,
     "metadata": {},
     "output_type": "execute_result"
    }
   ],
   "source": [
    "test_week"
   ]
  },
  {
   "cell_type": "code",
   "execution_count": 24,
   "id": "d454b813-d592-4bc6-a788-2cbacd7369d2",
   "metadata": {},
   "outputs": [
    {
     "data": {
      "text/html": [
       "<div>\n",
       "<style scoped>\n",
       "    .dataframe tbody tr th:only-of-type {\n",
       "        vertical-align: middle;\n",
       "    }\n",
       "\n",
       "    .dataframe tbody tr th {\n",
       "        vertical-align: top;\n",
       "    }\n",
       "\n",
       "    .dataframe thead th {\n",
       "        text-align: right;\n",
       "    }\n",
       "</style>\n",
       "<table border=\"1\" class=\"dataframe\">\n",
       "  <thead>\n",
       "    <tr style=\"text-align: right;\">\n",
       "      <th></th>\n",
       "      <th>week</th>\n",
       "      <th>customer</th>\n",
       "      <th>product</th>\n",
       "    </tr>\n",
       "  </thead>\n",
       "  <tbody>\n",
       "    <tr>\n",
       "      <th>0</th>\n",
       "      <td>90</td>\n",
       "      <td>0</td>\n",
       "      <td>0</td>\n",
       "    </tr>\n",
       "    <tr>\n",
       "      <th>1</th>\n",
       "      <td>90</td>\n",
       "      <td>0</td>\n",
       "      <td>1</td>\n",
       "    </tr>\n",
       "    <tr>\n",
       "      <th>2</th>\n",
       "      <td>90</td>\n",
       "      <td>0</td>\n",
       "      <td>2</td>\n",
       "    </tr>\n",
       "    <tr>\n",
       "      <th>3</th>\n",
       "      <td>90</td>\n",
       "      <td>0</td>\n",
       "      <td>3</td>\n",
       "    </tr>\n",
       "    <tr>\n",
       "      <th>4</th>\n",
       "      <td>90</td>\n",
       "      <td>0</td>\n",
       "      <td>4</td>\n",
       "    </tr>\n",
       "    <tr>\n",
       "      <th>...</th>\n",
       "      <td>...</td>\n",
       "      <td>...</td>\n",
       "      <td>...</td>\n",
       "    </tr>\n",
       "    <tr>\n",
       "      <th>499995</th>\n",
       "      <td>90</td>\n",
       "      <td>1999</td>\n",
       "      <td>245</td>\n",
       "    </tr>\n",
       "    <tr>\n",
       "      <th>499996</th>\n",
       "      <td>90</td>\n",
       "      <td>1999</td>\n",
       "      <td>246</td>\n",
       "    </tr>\n",
       "    <tr>\n",
       "      <th>499997</th>\n",
       "      <td>90</td>\n",
       "      <td>1999</td>\n",
       "      <td>247</td>\n",
       "    </tr>\n",
       "    <tr>\n",
       "      <th>499998</th>\n",
       "      <td>90</td>\n",
       "      <td>1999</td>\n",
       "      <td>248</td>\n",
       "    </tr>\n",
       "    <tr>\n",
       "      <th>499999</th>\n",
       "      <td>90</td>\n",
       "      <td>1999</td>\n",
       "      <td>249</td>\n",
       "    </tr>\n",
       "  </tbody>\n",
       "</table>\n",
       "<p>500000 rows × 3 columns</p>\n",
       "</div>"
      ],
      "text/plain": [
       "        week  customer  product\n",
       "0         90         0        0\n",
       "1         90         0        1\n",
       "2         90         0        2\n",
       "3         90         0        3\n",
       "4         90         0        4\n",
       "...      ...       ...      ...\n",
       "499995    90      1999      245\n",
       "499996    90      1999      246\n",
       "499997    90      1999      247\n",
       "499998    90      1999      248\n",
       "499999    90      1999      249\n",
       "\n",
       "[500000 rows x 3 columns]"
      ]
     },
     "execution_count": 24,
     "metadata": {},
     "output_type": "execute_result"
    }
   ],
   "source": [
    "# add all missing values\n",
    "# Q1: what values are missing?\n",
    "# Q2: what is a good value for probabilities here?\n",
    "df = pd.DataFrame(\n",
    "    {\n",
    "        \"week\": test_week,\n",
    "        \"customer\": np.repeat(target_customers, len(target_products), axis=0),\n",
    "        \"product\": target_products * len(target_customers),\n",
    "    }\n",
    ")\n",
    "df"
   ]
  },
  {
   "cell_type": "code",
   "execution_count": 25,
   "id": "243c1783-df48-48eb-abf9-5d4427c753c3",
   "metadata": {},
   "outputs": [
    {
     "data": {
      "text/html": [
       "<div>\n",
       "<style scoped>\n",
       "    .dataframe tbody tr th:only-of-type {\n",
       "        vertical-align: middle;\n",
       "    }\n",
       "\n",
       "    .dataframe tbody tr th {\n",
       "        vertical-align: top;\n",
       "    }\n",
       "\n",
       "    .dataframe thead th {\n",
       "        text-align: right;\n",
       "    }\n",
       "</style>\n",
       "<table border=\"1\" class=\"dataframe\">\n",
       "  <thead>\n",
       "    <tr style=\"text-align: right;\">\n",
       "      <th></th>\n",
       "      <th>week</th>\n",
       "      <th>customer</th>\n",
       "      <th>product</th>\n",
       "      <th>probability</th>\n",
       "    </tr>\n",
       "  </thead>\n",
       "  <tbody>\n",
       "    <tr>\n",
       "      <th>0</th>\n",
       "      <td>90</td>\n",
       "      <td>0</td>\n",
       "      <td>0</td>\n",
       "      <td>0.000000</td>\n",
       "    </tr>\n",
       "    <tr>\n",
       "      <th>1</th>\n",
       "      <td>90</td>\n",
       "      <td>0</td>\n",
       "      <td>1</td>\n",
       "      <td>0.000000</td>\n",
       "    </tr>\n",
       "    <tr>\n",
       "      <th>2</th>\n",
       "      <td>90</td>\n",
       "      <td>0</td>\n",
       "      <td>2</td>\n",
       "      <td>0.000000</td>\n",
       "    </tr>\n",
       "    <tr>\n",
       "      <th>3</th>\n",
       "      <td>90</td>\n",
       "      <td>0</td>\n",
       "      <td>3</td>\n",
       "      <td>0.000000</td>\n",
       "    </tr>\n",
       "    <tr>\n",
       "      <th>4</th>\n",
       "      <td>90</td>\n",
       "      <td>0</td>\n",
       "      <td>4</td>\n",
       "      <td>0.088889</td>\n",
       "    </tr>\n",
       "    <tr>\n",
       "      <th>...</th>\n",
       "      <td>...</td>\n",
       "      <td>...</td>\n",
       "      <td>...</td>\n",
       "      <td>...</td>\n",
       "    </tr>\n",
       "    <tr>\n",
       "      <th>499995</th>\n",
       "      <td>90</td>\n",
       "      <td>1999</td>\n",
       "      <td>245</td>\n",
       "      <td>0.133333</td>\n",
       "    </tr>\n",
       "    <tr>\n",
       "      <th>499996</th>\n",
       "      <td>90</td>\n",
       "      <td>1999</td>\n",
       "      <td>246</td>\n",
       "      <td>0.000000</td>\n",
       "    </tr>\n",
       "    <tr>\n",
       "      <th>499997</th>\n",
       "      <td>90</td>\n",
       "      <td>1999</td>\n",
       "      <td>247</td>\n",
       "      <td>0.000000</td>\n",
       "    </tr>\n",
       "    <tr>\n",
       "      <th>499998</th>\n",
       "      <td>90</td>\n",
       "      <td>1999</td>\n",
       "      <td>248</td>\n",
       "      <td>0.000000</td>\n",
       "    </tr>\n",
       "    <tr>\n",
       "      <th>499999</th>\n",
       "      <td>90</td>\n",
       "      <td>1999</td>\n",
       "      <td>249</td>\n",
       "      <td>0.088889</td>\n",
       "    </tr>\n",
       "  </tbody>\n",
       "</table>\n",
       "<p>500000 rows × 4 columns</p>\n",
       "</div>"
      ],
      "text/plain": [
       "        week  customer  product  probability\n",
       "0         90         0        0     0.000000\n",
       "1         90         0        1     0.000000\n",
       "2         90         0        2     0.000000\n",
       "3         90         0        3     0.000000\n",
       "4         90         0        4     0.088889\n",
       "...      ...       ...      ...          ...\n",
       "499995    90      1999      245     0.133333\n",
       "499996    90      1999      246     0.000000\n",
       "499997    90      1999      247     0.000000\n",
       "499998    90      1999      248     0.000000\n",
       "499999    90      1999      249     0.088889\n",
       "\n",
       "[500000 rows x 4 columns]"
      ]
     },
     "execution_count": 25,
     "metadata": {},
     "output_type": "execute_result"
    }
   ],
   "source": [
    "result_baseline = pd.merge(\n",
    "    df,\n",
    "    purchase_frequency_ij,\n",
    "    on=[\"customer\", \"product\"],\n",
    "    how=\"left\",\n",
    ").fillna(0)\n",
    "result_baseline"
   ]
  },
  {
   "cell_type": "markdown",
   "id": "c26e13e7-eb6b-4836-8160-351e83b00326",
   "metadata": {},
   "source": [
    "<br>\n",
    "\n",
    "## SOLUTION 1: Descriptive feature (past purchase rates) = Baseline\n",
    "\n",
    "Now we have predictions, but we have no idea how good this baseline is.  So let's do the following:\n",
    "1. construct a ground truth data set\n",
    "1. do a proper train/validation split\n",
    "1. predict purchase probabilities using our baseline\n",
    "1. evaluate the predictions vs. the base\n",
    "\n",
    "### Validation"
   ]
  },
  {
   "cell_type": "code",
   "execution_count": 26,
   "id": "067771f5-b725-438e-bc11-ccb51c055cc8",
   "metadata": {},
   "outputs": [],
   "source": [
    "# function to define target variable for all customer-product combinations (in a given week)\n",
    "def build_target(baskets, week):\n",
    "\n",
    "    baskets_week = baskets[baskets[\"week\"] == week][\n",
    "        [\"week\", \"customer\", \"product\"]\n",
    "    ].reset_index(drop=True)\n",
    "    baskets_week[\"y\"] = 1\n",
    "\n",
    "    df = pd.DataFrame(\n",
    "        {\n",
    "            \"week\": week,\n",
    "            \"customer\": np.repeat(target_customers, len(target_products), axis=0),\n",
    "            \"product\": target_products * len(target_customers),\n",
    "        }\n",
    "    )\n",
    "\n",
    "    df = df.merge(baskets_week, on=[\"week\", \"customer\", \"product\"], how=\"left\")\n",
    "    df[\"y\"] = df[\"y\"].fillna(0).astype(int)\n",
    "\n",
    "    return df"
   ]
  },
  {
   "cell_type": "code",
   "execution_count": 27,
   "id": "90a3dd46-eec4-40c1-95c9-7868e7c1b04c",
   "metadata": {},
   "outputs": [
    {
     "data": {
      "text/plain": [
       "89"
      ]
     },
     "execution_count": 27,
     "metadata": {},
     "output_type": "execute_result"
    }
   ],
   "source": [
    "validation_week"
   ]
  },
  {
   "cell_type": "code",
   "execution_count": 28,
   "id": "c1072589-8cc3-42f3-9489-0cba40e13e81",
   "metadata": {},
   "outputs": [
    {
     "data": {
      "text/html": [
       "<div>\n",
       "<style scoped>\n",
       "    .dataframe tbody tr th:only-of-type {\n",
       "        vertical-align: middle;\n",
       "    }\n",
       "\n",
       "    .dataframe tbody tr th {\n",
       "        vertical-align: top;\n",
       "    }\n",
       "\n",
       "    .dataframe thead th {\n",
       "        text-align: right;\n",
       "    }\n",
       "</style>\n",
       "<table border=\"1\" class=\"dataframe\">\n",
       "  <thead>\n",
       "    <tr style=\"text-align: right;\">\n",
       "      <th></th>\n",
       "      <th>week</th>\n",
       "      <th>customer</th>\n",
       "      <th>product</th>\n",
       "      <th>y</th>\n",
       "    </tr>\n",
       "  </thead>\n",
       "  <tbody>\n",
       "    <tr>\n",
       "      <th>0</th>\n",
       "      <td>89</td>\n",
       "      <td>0</td>\n",
       "      <td>0</td>\n",
       "      <td>0</td>\n",
       "    </tr>\n",
       "    <tr>\n",
       "      <th>1</th>\n",
       "      <td>89</td>\n",
       "      <td>0</td>\n",
       "      <td>1</td>\n",
       "      <td>0</td>\n",
       "    </tr>\n",
       "    <tr>\n",
       "      <th>2</th>\n",
       "      <td>89</td>\n",
       "      <td>0</td>\n",
       "      <td>2</td>\n",
       "      <td>0</td>\n",
       "    </tr>\n",
       "    <tr>\n",
       "      <th>3</th>\n",
       "      <td>89</td>\n",
       "      <td>0</td>\n",
       "      <td>3</td>\n",
       "      <td>0</td>\n",
       "    </tr>\n",
       "    <tr>\n",
       "      <th>4</th>\n",
       "      <td>89</td>\n",
       "      <td>0</td>\n",
       "      <td>4</td>\n",
       "      <td>0</td>\n",
       "    </tr>\n",
       "  </tbody>\n",
       "</table>\n",
       "</div>"
      ],
      "text/plain": [
       "   week  customer  product  y\n",
       "0    89         0        0  0\n",
       "1    89         0        1  0\n",
       "2    89         0        2  0\n",
       "3    89         0        3  0\n",
       "4    89         0        4  0"
      ]
     },
     "execution_count": 28,
     "metadata": {},
     "output_type": "execute_result"
    }
   ],
   "source": [
    "baseline_target = build_target(baskets, validation_week)\n",
    "baseline_target.head()"
   ]
  },
  {
   "cell_type": "code",
   "execution_count": 29,
   "id": "ecd950d9-b6f2-418a-80e2-71f7b6b563c4",
   "metadata": {},
   "outputs": [
    {
     "data": {
      "text/html": [
       "<div>\n",
       "<style scoped>\n",
       "    .dataframe tbody tr th:only-of-type {\n",
       "        vertical-align: middle;\n",
       "    }\n",
       "\n",
       "    .dataframe tbody tr th {\n",
       "        vertical-align: top;\n",
       "    }\n",
       "\n",
       "    .dataframe thead th {\n",
       "        text-align: right;\n",
       "    }\n",
       "</style>\n",
       "<table border=\"1\" class=\"dataframe\">\n",
       "  <thead>\n",
       "    <tr style=\"text-align: right;\">\n",
       "      <th></th>\n",
       "      <th>week</th>\n",
       "      <th>customer</th>\n",
       "      <th>product</th>\n",
       "      <th>y</th>\n",
       "    </tr>\n",
       "  </thead>\n",
       "  <tbody>\n",
       "    <tr>\n",
       "      <th>count</th>\n",
       "      <td>500000.0</td>\n",
       "      <td>500000.000000</td>\n",
       "      <td>500000.000000</td>\n",
       "      <td>500000.000000</td>\n",
       "    </tr>\n",
       "    <tr>\n",
       "      <th>mean</th>\n",
       "      <td>89.0</td>\n",
       "      <td>999.500000</td>\n",
       "      <td>124.500000</td>\n",
       "      <td>0.030386</td>\n",
       "    </tr>\n",
       "    <tr>\n",
       "      <th>std</th>\n",
       "      <td>0.0</td>\n",
       "      <td>577.350774</td>\n",
       "      <td>72.168278</td>\n",
       "      <td>0.171647</td>\n",
       "    </tr>\n",
       "    <tr>\n",
       "      <th>min</th>\n",
       "      <td>89.0</td>\n",
       "      <td>0.000000</td>\n",
       "      <td>0.000000</td>\n",
       "      <td>0.000000</td>\n",
       "    </tr>\n",
       "    <tr>\n",
       "      <th>25%</th>\n",
       "      <td>89.0</td>\n",
       "      <td>499.750000</td>\n",
       "      <td>62.000000</td>\n",
       "      <td>0.000000</td>\n",
       "    </tr>\n",
       "    <tr>\n",
       "      <th>50%</th>\n",
       "      <td>89.0</td>\n",
       "      <td>999.500000</td>\n",
       "      <td>124.500000</td>\n",
       "      <td>0.000000</td>\n",
       "    </tr>\n",
       "    <tr>\n",
       "      <th>75%</th>\n",
       "      <td>89.0</td>\n",
       "      <td>1499.250000</td>\n",
       "      <td>187.000000</td>\n",
       "      <td>0.000000</td>\n",
       "    </tr>\n",
       "    <tr>\n",
       "      <th>max</th>\n",
       "      <td>89.0</td>\n",
       "      <td>1999.000000</td>\n",
       "      <td>249.000000</td>\n",
       "      <td>1.000000</td>\n",
       "    </tr>\n",
       "  </tbody>\n",
       "</table>\n",
       "</div>"
      ],
      "text/plain": [
       "           week       customer        product              y\n",
       "count  500000.0  500000.000000  500000.000000  500000.000000\n",
       "mean       89.0     999.500000     124.500000       0.030386\n",
       "std         0.0     577.350774      72.168278       0.171647\n",
       "min        89.0       0.000000       0.000000       0.000000\n",
       "25%        89.0     499.750000      62.000000       0.000000\n",
       "50%        89.0     999.500000     124.500000       0.000000\n",
       "75%        89.0    1499.250000     187.000000       0.000000\n",
       "max        89.0    1999.000000     249.000000       1.000000"
      ]
     },
     "execution_count": 29,
     "metadata": {},
     "output_type": "execute_result"
    }
   ],
   "source": [
    "baseline_target.describe()"
   ]
  },
  {
   "cell_type": "code",
   "execution_count": 30,
   "id": "40fd4861-7705-47bd-961d-0df29d114984",
   "metadata": {},
   "outputs": [
    {
     "data": {
      "text/plain": [
       "2.2204460492503136e-16"
      ]
     },
     "execution_count": 30,
     "metadata": {},
     "output_type": "execute_result"
    }
   ],
   "source": [
    "# the perfect prediction has a loss of 0\n",
    "score_yp(baseline_target.y.values, baseline_target.y.values)"
   ]
  },
  {
   "cell_type": "code",
   "execution_count": 31,
   "id": "a12153b6-4e7d-4cc7-8b83-11397c20c9c2",
   "metadata": {},
   "outputs": [],
   "source": [
    "# wrap code into function:\n",
    "# baseline = purchase rates for customer-product combinations before the target week\n",
    "def baseline_prediction(baskets, week):\n",
    "\n",
    "    # subset baskets\n",
    "    baskets_t = baskets[baskets[\"week\"] < week].reset_index(drop=True)\n",
    "    n_weeks = baskets_t.week.nunique()\n",
    "    print(n_weeks)\n",
    "\n",
    "    # model (non-0 probabilities)\n",
    "    purchase_frequency_ij = (\n",
    "        (baskets_t.groupby([\"customer\", \"product\"])[[\"week\"]].count() / n_weeks)\n",
    "        .rename(columns={\"week\": \"probability\"})\n",
    "        .reset_index()\n",
    "    )\n",
    "\n",
    "    # filling in 0s\n",
    "    df = pd.DataFrame(\n",
    "        {\n",
    "            \"week\": week,\n",
    "            \"customer\": np.repeat(target_customers, len(target_products), axis=0),\n",
    "            \"product\": target_products * len(target_customers),\n",
    "        }\n",
    "    )\n",
    "\n",
    "    result_baseline = pd.merge(\n",
    "        df,\n",
    "        purchase_frequency_ij,\n",
    "        on=[\"customer\", \"product\"],\n",
    "        how=\"left\",\n",
    "    ).fillna(0)\n",
    "\n",
    "    return result_baseline"
   ]
  },
  {
   "cell_type": "code",
   "execution_count": 32,
   "id": "74a7db27-509a-468a-803d-87656c790ade",
   "metadata": {},
   "outputs": [
    {
     "name": "stdout",
     "output_type": "stream",
     "text": [
      "89\n"
     ]
    },
    {
     "data": {
      "text/html": [
       "<div>\n",
       "<style scoped>\n",
       "    .dataframe tbody tr th:only-of-type {\n",
       "        vertical-align: middle;\n",
       "    }\n",
       "\n",
       "    .dataframe tbody tr th {\n",
       "        vertical-align: top;\n",
       "    }\n",
       "\n",
       "    .dataframe thead th {\n",
       "        text-align: right;\n",
       "    }\n",
       "</style>\n",
       "<table border=\"1\" class=\"dataframe\">\n",
       "  <thead>\n",
       "    <tr style=\"text-align: right;\">\n",
       "      <th></th>\n",
       "      <th>week</th>\n",
       "      <th>customer</th>\n",
       "      <th>product</th>\n",
       "      <th>probability</th>\n",
       "    </tr>\n",
       "  </thead>\n",
       "  <tbody>\n",
       "    <tr>\n",
       "      <th>0</th>\n",
       "      <td>89</td>\n",
       "      <td>0</td>\n",
       "      <td>0</td>\n",
       "      <td>0.000000</td>\n",
       "    </tr>\n",
       "    <tr>\n",
       "      <th>1</th>\n",
       "      <td>89</td>\n",
       "      <td>0</td>\n",
       "      <td>1</td>\n",
       "      <td>0.000000</td>\n",
       "    </tr>\n",
       "    <tr>\n",
       "      <th>2</th>\n",
       "      <td>89</td>\n",
       "      <td>0</td>\n",
       "      <td>2</td>\n",
       "      <td>0.000000</td>\n",
       "    </tr>\n",
       "    <tr>\n",
       "      <th>3</th>\n",
       "      <td>89</td>\n",
       "      <td>0</td>\n",
       "      <td>3</td>\n",
       "      <td>0.000000</td>\n",
       "    </tr>\n",
       "    <tr>\n",
       "      <th>4</th>\n",
       "      <td>89</td>\n",
       "      <td>0</td>\n",
       "      <td>4</td>\n",
       "      <td>0.089888</td>\n",
       "    </tr>\n",
       "  </tbody>\n",
       "</table>\n",
       "</div>"
      ],
      "text/plain": [
       "   week  customer  product  probability\n",
       "0    89         0        0     0.000000\n",
       "1    89         0        1     0.000000\n",
       "2    89         0        2     0.000000\n",
       "3    89         0        3     0.000000\n",
       "4    89         0        4     0.089888"
      ]
     },
     "execution_count": 32,
     "metadata": {},
     "output_type": "execute_result"
    }
   ],
   "source": [
    "# prediction for validation data\n",
    "baseline_validation = baseline_prediction(baskets, validation_week)\n",
    "baseline_validation.head()"
   ]
  },
  {
   "cell_type": "code",
   "execution_count": 33,
   "id": "0a0142f1-825b-4e2a-87d9-a0ec334ddbd9",
   "metadata": {},
   "outputs": [
    {
     "data": {
      "text/html": [
       "<div>\n",
       "<style scoped>\n",
       "    .dataframe tbody tr th:only-of-type {\n",
       "        vertical-align: middle;\n",
       "    }\n",
       "\n",
       "    .dataframe tbody tr th {\n",
       "        vertical-align: top;\n",
       "    }\n",
       "\n",
       "    .dataframe thead th {\n",
       "        text-align: right;\n",
       "    }\n",
       "</style>\n",
       "<table border=\"1\" class=\"dataframe\">\n",
       "  <thead>\n",
       "    <tr style=\"text-align: right;\">\n",
       "      <th></th>\n",
       "      <th>week</th>\n",
       "      <th>customer</th>\n",
       "      <th>product</th>\n",
       "      <th>y</th>\n",
       "    </tr>\n",
       "  </thead>\n",
       "  <tbody>\n",
       "    <tr>\n",
       "      <th>0</th>\n",
       "      <td>89</td>\n",
       "      <td>0</td>\n",
       "      <td>0</td>\n",
       "      <td>0</td>\n",
       "    </tr>\n",
       "    <tr>\n",
       "      <th>1</th>\n",
       "      <td>89</td>\n",
       "      <td>0</td>\n",
       "      <td>1</td>\n",
       "      <td>0</td>\n",
       "    </tr>\n",
       "    <tr>\n",
       "      <th>2</th>\n",
       "      <td>89</td>\n",
       "      <td>0</td>\n",
       "      <td>2</td>\n",
       "      <td>0</td>\n",
       "    </tr>\n",
       "    <tr>\n",
       "      <th>3</th>\n",
       "      <td>89</td>\n",
       "      <td>0</td>\n",
       "      <td>3</td>\n",
       "      <td>0</td>\n",
       "    </tr>\n",
       "    <tr>\n",
       "      <th>4</th>\n",
       "      <td>89</td>\n",
       "      <td>0</td>\n",
       "      <td>4</td>\n",
       "      <td>0</td>\n",
       "    </tr>\n",
       "    <tr>\n",
       "      <th>...</th>\n",
       "      <td>...</td>\n",
       "      <td>...</td>\n",
       "      <td>...</td>\n",
       "      <td>...</td>\n",
       "    </tr>\n",
       "    <tr>\n",
       "      <th>499995</th>\n",
       "      <td>89</td>\n",
       "      <td>1999</td>\n",
       "      <td>245</td>\n",
       "      <td>1</td>\n",
       "    </tr>\n",
       "    <tr>\n",
       "      <th>499996</th>\n",
       "      <td>89</td>\n",
       "      <td>1999</td>\n",
       "      <td>246</td>\n",
       "      <td>0</td>\n",
       "    </tr>\n",
       "    <tr>\n",
       "      <th>499997</th>\n",
       "      <td>89</td>\n",
       "      <td>1999</td>\n",
       "      <td>247</td>\n",
       "      <td>0</td>\n",
       "    </tr>\n",
       "    <tr>\n",
       "      <th>499998</th>\n",
       "      <td>89</td>\n",
       "      <td>1999</td>\n",
       "      <td>248</td>\n",
       "      <td>0</td>\n",
       "    </tr>\n",
       "    <tr>\n",
       "      <th>499999</th>\n",
       "      <td>89</td>\n",
       "      <td>1999</td>\n",
       "      <td>249</td>\n",
       "      <td>0</td>\n",
       "    </tr>\n",
       "  </tbody>\n",
       "</table>\n",
       "<p>500000 rows × 4 columns</p>\n",
       "</div>"
      ],
      "text/plain": [
       "        week  customer  product  y\n",
       "0         89         0        0  0\n",
       "1         89         0        1  0\n",
       "2         89         0        2  0\n",
       "3         89         0        3  0\n",
       "4         89         0        4  0\n",
       "...      ...       ...      ... ..\n",
       "499995    89      1999      245  1\n",
       "499996    89      1999      246  0\n",
       "499997    89      1999      247  0\n",
       "499998    89      1999      248  0\n",
       "499999    89      1999      249  0\n",
       "\n",
       "[500000 rows x 4 columns]"
      ]
     },
     "execution_count": 33,
     "metadata": {},
     "output_type": "execute_result"
    }
   ],
   "source": [
    "baseline_target"
   ]
  },
  {
   "cell_type": "code",
   "execution_count": 34,
   "id": "a3306a3d-1320-45a0-8b6c-e853f690a2e7",
   "metadata": {},
   "outputs": [
    {
     "data": {
      "text/html": [
       "<div>\n",
       "<style scoped>\n",
       "    .dataframe tbody tr th:only-of-type {\n",
       "        vertical-align: middle;\n",
       "    }\n",
       "\n",
       "    .dataframe tbody tr th {\n",
       "        vertical-align: top;\n",
       "    }\n",
       "\n",
       "    .dataframe thead th {\n",
       "        text-align: right;\n",
       "    }\n",
       "</style>\n",
       "<table border=\"1\" class=\"dataframe\">\n",
       "  <thead>\n",
       "    <tr style=\"text-align: right;\">\n",
       "      <th></th>\n",
       "      <th>week</th>\n",
       "      <th>customer</th>\n",
       "      <th>product</th>\n",
       "      <th>probability</th>\n",
       "    </tr>\n",
       "  </thead>\n",
       "  <tbody>\n",
       "    <tr>\n",
       "      <th>0</th>\n",
       "      <td>89</td>\n",
       "      <td>0</td>\n",
       "      <td>0</td>\n",
       "      <td>0.000000</td>\n",
       "    </tr>\n",
       "    <tr>\n",
       "      <th>1</th>\n",
       "      <td>89</td>\n",
       "      <td>0</td>\n",
       "      <td>1</td>\n",
       "      <td>0.000000</td>\n",
       "    </tr>\n",
       "    <tr>\n",
       "      <th>2</th>\n",
       "      <td>89</td>\n",
       "      <td>0</td>\n",
       "      <td>2</td>\n",
       "      <td>0.000000</td>\n",
       "    </tr>\n",
       "    <tr>\n",
       "      <th>3</th>\n",
       "      <td>89</td>\n",
       "      <td>0</td>\n",
       "      <td>3</td>\n",
       "      <td>0.000000</td>\n",
       "    </tr>\n",
       "    <tr>\n",
       "      <th>4</th>\n",
       "      <td>89</td>\n",
       "      <td>0</td>\n",
       "      <td>4</td>\n",
       "      <td>0.089888</td>\n",
       "    </tr>\n",
       "    <tr>\n",
       "      <th>...</th>\n",
       "      <td>...</td>\n",
       "      <td>...</td>\n",
       "      <td>...</td>\n",
       "      <td>...</td>\n",
       "    </tr>\n",
       "    <tr>\n",
       "      <th>499995</th>\n",
       "      <td>89</td>\n",
       "      <td>1999</td>\n",
       "      <td>245</td>\n",
       "      <td>0.123596</td>\n",
       "    </tr>\n",
       "    <tr>\n",
       "      <th>499996</th>\n",
       "      <td>89</td>\n",
       "      <td>1999</td>\n",
       "      <td>246</td>\n",
       "      <td>0.000000</td>\n",
       "    </tr>\n",
       "    <tr>\n",
       "      <th>499997</th>\n",
       "      <td>89</td>\n",
       "      <td>1999</td>\n",
       "      <td>247</td>\n",
       "      <td>0.000000</td>\n",
       "    </tr>\n",
       "    <tr>\n",
       "      <th>499998</th>\n",
       "      <td>89</td>\n",
       "      <td>1999</td>\n",
       "      <td>248</td>\n",
       "      <td>0.000000</td>\n",
       "    </tr>\n",
       "    <tr>\n",
       "      <th>499999</th>\n",
       "      <td>89</td>\n",
       "      <td>1999</td>\n",
       "      <td>249</td>\n",
       "      <td>0.089888</td>\n",
       "    </tr>\n",
       "  </tbody>\n",
       "</table>\n",
       "<p>500000 rows × 4 columns</p>\n",
       "</div>"
      ],
      "text/plain": [
       "        week  customer  product  probability\n",
       "0         89         0        0     0.000000\n",
       "1         89         0        1     0.000000\n",
       "2         89         0        2     0.000000\n",
       "3         89         0        3     0.000000\n",
       "4         89         0        4     0.089888\n",
       "...      ...       ...      ...          ...\n",
       "499995    89      1999      245     0.123596\n",
       "499996    89      1999      246     0.000000\n",
       "499997    89      1999      247     0.000000\n",
       "499998    89      1999      248     0.000000\n",
       "499999    89      1999      249     0.089888\n",
       "\n",
       "[500000 rows x 4 columns]"
      ]
     },
     "execution_count": 34,
     "metadata": {},
     "output_type": "execute_result"
    }
   ],
   "source": [
    "baseline_validation"
   ]
  },
  {
   "cell_type": "code",
   "execution_count": 35,
   "id": "f02626fc-3ef6-41aa-8b08-4c22040a15a8",
   "metadata": {},
   "outputs": [
    {
     "data": {
      "text/plain": [
       "0.10165261879837957"
      ]
     },
     "execution_count": 35,
     "metadata": {},
     "output_type": "execute_result"
    }
   ],
   "source": [
    "# score for validation data\n",
    "score(baseline_target, baseline_validation)"
   ]
  },
  {
   "cell_type": "markdown",
   "id": "fe67e876-f4a2-4c92-8185-e23469736030",
   "metadata": {},
   "source": [
    "### Test"
   ]
  },
  {
   "cell_type": "code",
   "execution_count": 36,
   "id": "5dcc090f-37e3-4484-8a32-931658388c82",
   "metadata": {},
   "outputs": [
    {
     "data": {
      "text/plain": [
       "90"
      ]
     },
     "execution_count": 36,
     "metadata": {},
     "output_type": "execute_result"
    }
   ],
   "source": [
    "validation_week + 1"
   ]
  },
  {
   "cell_type": "code",
   "execution_count": 37,
   "id": "61632ad6-4d7d-4526-be15-e0681dfae9a1",
   "metadata": {},
   "outputs": [
    {
     "data": {
      "text/plain": [
       "90"
      ]
     },
     "execution_count": 37,
     "metadata": {},
     "output_type": "execute_result"
    }
   ],
   "source": [
    "test_week"
   ]
  },
  {
   "cell_type": "code",
   "execution_count": 38,
   "id": "a0b8b5b0-bc38-45de-bd24-f6efe662cea1",
   "metadata": {},
   "outputs": [
    {
     "name": "stdout",
     "output_type": "stream",
     "text": [
      "90\n"
     ]
    },
    {
     "data": {
      "text/html": [
       "<div>\n",
       "<style scoped>\n",
       "    .dataframe tbody tr th:only-of-type {\n",
       "        vertical-align: middle;\n",
       "    }\n",
       "\n",
       "    .dataframe tbody tr th {\n",
       "        vertical-align: top;\n",
       "    }\n",
       "\n",
       "    .dataframe thead th {\n",
       "        text-align: right;\n",
       "    }\n",
       "</style>\n",
       "<table border=\"1\" class=\"dataframe\">\n",
       "  <thead>\n",
       "    <tr style=\"text-align: right;\">\n",
       "      <th></th>\n",
       "      <th>week</th>\n",
       "      <th>customer</th>\n",
       "      <th>product</th>\n",
       "      <th>probability</th>\n",
       "    </tr>\n",
       "  </thead>\n",
       "  <tbody>\n",
       "    <tr>\n",
       "      <th>0</th>\n",
       "      <td>90</td>\n",
       "      <td>0</td>\n",
       "      <td>0</td>\n",
       "      <td>0.000000</td>\n",
       "    </tr>\n",
       "    <tr>\n",
       "      <th>1</th>\n",
       "      <td>90</td>\n",
       "      <td>0</td>\n",
       "      <td>1</td>\n",
       "      <td>0.000000</td>\n",
       "    </tr>\n",
       "    <tr>\n",
       "      <th>2</th>\n",
       "      <td>90</td>\n",
       "      <td>0</td>\n",
       "      <td>2</td>\n",
       "      <td>0.000000</td>\n",
       "    </tr>\n",
       "    <tr>\n",
       "      <th>3</th>\n",
       "      <td>90</td>\n",
       "      <td>0</td>\n",
       "      <td>3</td>\n",
       "      <td>0.000000</td>\n",
       "    </tr>\n",
       "    <tr>\n",
       "      <th>4</th>\n",
       "      <td>90</td>\n",
       "      <td>0</td>\n",
       "      <td>4</td>\n",
       "      <td>0.088889</td>\n",
       "    </tr>\n",
       "  </tbody>\n",
       "</table>\n",
       "</div>"
      ],
      "text/plain": [
       "   week  customer  product  probability\n",
       "0    90         0        0     0.000000\n",
       "1    90         0        1     0.000000\n",
       "2    90         0        2     0.000000\n",
       "3    90         0        3     0.000000\n",
       "4    90         0        4     0.088889"
      ]
     },
     "execution_count": 38,
     "metadata": {},
     "output_type": "execute_result"
    }
   ],
   "source": [
    "# prediction for test data\n",
    "# we can't evaluate this\n",
    "baseline_test = baseline_prediction(baskets, test_week)\n",
    "baseline_test.head()"
   ]
  },
  {
   "cell_type": "markdown",
   "id": "2896477c-d68d-42bd-9fb7-6a2b22f8559a",
   "metadata": {},
   "source": [
    "Conclusion:\n",
    "1. Train model to week 88, evaluate predictions for week 89 with truth data \n",
    "1. Predict week 90, and submit"
   ]
  },
  {
   "cell_type": "markdown",
   "id": "a5900bd9-28a3-4ac6-a60a-17ad27eeeb31",
   "metadata": {},
   "source": [
    "<br>\n",
    "\n",
    "## Score on test set\n",
    "\n",
    "In real life, never load your test/validation data durnig model training!"
   ]
  },
  {
   "cell_type": "markdown",
   "id": "f3eae314-6fd6-422e-ad72-9d884fb63526",
   "metadata": {},
   "source": [
    "<img src=\"https://raw.githubusercontent.com/sbstn-gbl/learning-from-big-data/master/source/_static/img/danger-zone.gif\" width=\"800\"/>"
   ]
  },
  {
   "cell_type": "code",
   "execution_count": 39,
   "id": "7c2966d3-4f7f-407b-be04-03511854a425",
   "metadata": {},
   "outputs": [],
   "source": [
    "# true purchases in week 90\n",
    "truth = pd.read_parquet(f\"{path}/private/truth.parquet\")"
   ]
  },
  {
   "cell_type": "code",
   "execution_count": 40,
   "id": "a5e28ea1-c321-4d99-a956-aef79b6ef7e2",
   "metadata": {},
   "outputs": [
    {
     "data": {
      "text/plain": [
       "0.10136217573628638"
      ]
     },
     "execution_count": 40,
     "metadata": {},
     "output_type": "execute_result"
    }
   ],
   "source": [
    "score(truth, baseline_test)"
   ]
  },
  {
   "cell_type": "markdown",
   "id": "5249526b-072d-496c-b19c-daaccdbdb92f",
   "metadata": {},
   "source": [
    "<br>\n",
    "<br>\n",
    "\n",
    "<b>Learning from Big Data</b> <br>\n",
    "Sebastian Gabel <br>"
   ]
  }
 ],
 "metadata": {
  "kernelspec": {
   "display_name": "Python 3 (ipykernel)",
   "language": "python",
   "name": "python3"
  },
  "language_info": {
   "codemirror_mode": {
    "name": "ipython",
    "version": 3
   },
   "file_extension": ".py",
   "mimetype": "text/x-python",
   "name": "python",
   "nbconvert_exporter": "python",
   "pygments_lexer": "ipython3",
   "version": "3.9.6"
  }
 },
 "nbformat": 4,
 "nbformat_minor": 5
}
