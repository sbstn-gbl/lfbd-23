{
 "cells": [
  {
   "cell_type": "markdown",
   "metadata": {},
   "source": [
    "# Study effect of log base on information gain"
   ]
  },
  {
   "cell_type": "code",
   "execution_count": 1,
   "metadata": {},
   "outputs": [],
   "source": [
    "import common\n",
    "import numpy as np\n",
    "import pandas as pd"
   ]
  },
  {
   "cell_type": "code",
   "execution_count": 2,
   "metadata": {},
   "outputs": [],
   "source": [
    "def compute_entropy(y, base):\n",
    "    # number of samples\n",
    "    n = len(y)\n",
    "    # unique classes in `y_class`\n",
    "    classes = set(y)\n",
    "\n",
    "    # compute number of observations in each class\n",
    "    n_c = np.zeros(len(classes))\n",
    "    # compute probability for a sample to be in class\n",
    "    p_c = np.zeros(len(classes))\n",
    "    # compute entropy for each class\n",
    "    e_c = np.zeros(len(classes))\n",
    "\n",
    "    # computation\n",
    "    for i, c in enumerate(classes):\n",
    "        n_c[i] = np.sum(y == c)\n",
    "        p_c[i] = n_c[i] / n\n",
    "        e_c[i] = -p_c[i] * np.emath.logn(base, p_c[i])\n",
    "    assert n == sum(n_c)\n",
    "\n",
    "    # total entropy\n",
    "    e_p = np.sum(e_c)\n",
    "\n",
    "    # return\n",
    "    return e_p, n"
   ]
  },
  {
   "cell_type": "markdown",
   "metadata": {},
   "source": [
    "## Load data"
   ]
  },
  {
   "cell_type": "code",
   "execution_count": 3,
   "metadata": {},
   "outputs": [],
   "source": [
    "df = pd.read_parquet(\"dr_d_grocery.parquet\")\n",
    "features = [\n",
    "    \"average_revenue\",\n",
    "    \"average_basket_size\",\n",
    "    \"fraction_canned_food\",\n",
    "    \"fraction_national_brands\",\n",
    "]\n",
    "target_names = df[\"segment_name\"].unique()"
   ]
  },
  {
   "cell_type": "code",
   "execution_count": 4,
   "metadata": {},
   "outputs": [],
   "source": [
    "X = df[features].values\n",
    "y = df[\"segment_name\"].values"
   ]
  },
  {
   "cell_type": "code",
   "execution_count": 5,
   "metadata": {},
   "outputs": [
    {
     "data": {
      "text/plain": [
       "(150, 4)"
      ]
     },
     "execution_count": 5,
     "metadata": {},
     "output_type": "execute_result"
    }
   ],
   "source": [
    "X.shape"
   ]
  },
  {
   "cell_type": "code",
   "execution_count": 6,
   "metadata": {},
   "outputs": [
    {
     "data": {
      "text/plain": [
       "150"
      ]
     },
     "execution_count": 6,
     "metadata": {},
     "output_type": "execute_result"
    }
   ],
   "source": [
    "len(y)"
   ]
  },
  {
   "cell_type": "markdown",
   "metadata": {},
   "source": [
    "## Let's look at a single feature, and compute information gain for all cutoff values"
   ]
  },
  {
   "cell_type": "code",
   "execution_count": 7,
   "metadata": {},
   "outputs": [],
   "source": [
    "def get_best_split_feature(x, base=2):\n",
    "    unique_values = np.sort(np.unique(x))\n",
    "    cutoffs = (unique_values[:-1] + unique_values[1:]) / 2  # mid-point between two feature values\n",
    "\n",
    "    _information_gain = []\n",
    "    for i, cutoff in enumerate(cutoffs):\n",
    "        i, cutoff\n",
    "\n",
    "        yhat = X[:, 0] <= cutoff\n",
    "\n",
    "        e_p, n_p = compute_entropy(y, base)\n",
    "        e_cl, n_cl = compute_entropy(y[yhat], base)\n",
    "        e_cr, n_cr = compute_entropy(y[~yhat], base)\n",
    "\n",
    "        entropy_before = e_p  # parent node\n",
    "        entropy_after = n_cl / n_p * e_cl + n_cr / n_p * e_cr  # children nodes\n",
    "\n",
    "        _information_gain.append(\n",
    "            pd.DataFrame(\n",
    "                {\n",
    "                    \"cutoff\": [cutoff],\n",
    "                    \"information_gain\": entropy_before - entropy_after,\n",
    "                }\n",
    "            )\n",
    "        )\n",
    "    return pd.concat(_information_gain)"
   ]
  },
  {
   "cell_type": "code",
   "execution_count": 8,
   "metadata": {},
   "outputs": [],
   "source": [
    "information_gain_base2 = get_best_split_feature(X[:, 0], base=2)"
   ]
  },
  {
   "cell_type": "code",
   "execution_count": 9,
   "metadata": {},
   "outputs": [],
   "source": [
    "information_gain_base3 = get_best_split_feature(X[:, 0], base=3)"
   ]
  },
  {
   "cell_type": "code",
   "execution_count": 10,
   "metadata": {},
   "outputs": [],
   "source": [
    "overview = pd.merge(\n",
    "    information_gain_base2,\n",
    "    information_gain_base3,\n",
    "    on=\"cutoff\",\n",
    "    suffixes=[\"_base2\", \"_base3\"]\n",
    ")"
   ]
  },
  {
   "cell_type": "code",
   "execution_count": 11,
   "metadata": {},
   "outputs": [
    {
     "data": {
      "text/html": [
       "<div>\n",
       "<style scoped>\n",
       "    .dataframe tbody tr th:only-of-type {\n",
       "        vertical-align: middle;\n",
       "    }\n",
       "\n",
       "    .dataframe tbody tr th {\n",
       "        vertical-align: top;\n",
       "    }\n",
       "\n",
       "    .dataframe thead th {\n",
       "        text-align: right;\n",
       "    }\n",
       "</style>\n",
       "<table border=\"1\" class=\"dataframe\">\n",
       "  <thead>\n",
       "    <tr style=\"text-align: right;\">\n",
       "      <th></th>\n",
       "      <th>cutoff</th>\n",
       "      <th>information_gain_base2</th>\n",
       "      <th>information_gain_base3</th>\n",
       "    </tr>\n",
       "  </thead>\n",
       "  <tbody>\n",
       "    <tr>\n",
       "      <th>49</th>\n",
       "      <td>231.877270</td>\n",
       "      <td>0.918296</td>\n",
       "      <td>0.579380</td>\n",
       "    </tr>\n",
       "    <tr>\n",
       "      <th>50</th>\n",
       "      <td>282.124807</td>\n",
       "      <td>0.877672</td>\n",
       "      <td>0.553749</td>\n",
       "    </tr>\n",
       "    <tr>\n",
       "      <th>48</th>\n",
       "      <td>184.649257</td>\n",
       "      <td>0.864338</td>\n",
       "      <td>0.545336</td>\n",
       "    </tr>\n",
       "  </tbody>\n",
       "</table>\n",
       "</div>"
      ],
      "text/plain": [
       "        cutoff  information_gain_base2  information_gain_base3\n",
       "49  231.877270                0.918296                0.579380\n",
       "50  282.124807                0.877672                0.553749\n",
       "48  184.649257                0.864338                0.545336"
      ]
     },
     "execution_count": 11,
     "metadata": {},
     "output_type": "execute_result"
    }
   ],
   "source": [
    "overview.sort_values(\"information_gain_base2\", ascending=False).head(3)"
   ]
  },
  {
   "cell_type": "code",
   "execution_count": 12,
   "metadata": {},
   "outputs": [
    {
     "data": {
      "text/html": [
       "<div>\n",
       "<style scoped>\n",
       "    .dataframe tbody tr th:only-of-type {\n",
       "        vertical-align: middle;\n",
       "    }\n",
       "\n",
       "    .dataframe tbody tr th {\n",
       "        vertical-align: top;\n",
       "    }\n",
       "\n",
       "    .dataframe thead th {\n",
       "        text-align: right;\n",
       "    }\n",
       "</style>\n",
       "<table border=\"1\" class=\"dataframe\">\n",
       "  <thead>\n",
       "    <tr style=\"text-align: right;\">\n",
       "      <th></th>\n",
       "      <th>cutoff</th>\n",
       "      <th>information_gain_base2</th>\n",
       "      <th>information_gain_base3</th>\n",
       "    </tr>\n",
       "  </thead>\n",
       "  <tbody>\n",
       "    <tr>\n",
       "      <th>49</th>\n",
       "      <td>231.877270</td>\n",
       "      <td>0.918296</td>\n",
       "      <td>0.579380</td>\n",
       "    </tr>\n",
       "    <tr>\n",
       "      <th>50</th>\n",
       "      <td>282.124807</td>\n",
       "      <td>0.877672</td>\n",
       "      <td>0.553749</td>\n",
       "    </tr>\n",
       "    <tr>\n",
       "      <th>48</th>\n",
       "      <td>184.649257</td>\n",
       "      <td>0.864338</td>\n",
       "      <td>0.545336</td>\n",
       "    </tr>\n",
       "  </tbody>\n",
       "</table>\n",
       "</div>"
      ],
      "text/plain": [
       "        cutoff  information_gain_base2  information_gain_base3\n",
       "49  231.877270                0.918296                0.579380\n",
       "50  282.124807                0.877672                0.553749\n",
       "48  184.649257                0.864338                0.545336"
      ]
     },
     "execution_count": 12,
     "metadata": {},
     "output_type": "execute_result"
    }
   ],
   "source": [
    "overview.sort_values(\"information_gain_base3\", ascending=False).head(3)"
   ]
  },
  {
   "cell_type": "markdown",
   "metadata": {},
   "source": [
    "\n",
    "\n",
    "<br>\n",
    "<br>\n",
    "<b>Learning from Big Data</b> <br>\n",
    "Sebastian Gabel <br>"
   ]
  }
 ],
 "metadata": {
  "kernelspec": {
   "display_name": "Python 3 (ipykernel)",
   "language": "python",
   "name": "python3"
  },
  "language_info": {
   "codemirror_mode": {
    "name": "ipython",
    "version": 3
   },
   "file_extension": ".py",
   "mimetype": "text/x-python",
   "name": "python",
   "nbconvert_exporter": "python",
   "pygments_lexer": "ipython3",
   "version": "3.9.6"
  }
 },
 "nbformat": 4,
 "nbformat_minor": 4
}
