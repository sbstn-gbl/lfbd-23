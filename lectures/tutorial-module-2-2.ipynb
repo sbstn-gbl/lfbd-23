{
 "cells": [
  {
   "cell_type": "markdown",
   "id": "cca9b0e7-98e6-4861-97da-0032f358b8d4",
   "metadata": {},
   "source": [
    "# Tutorial Assignment 2"
   ]
  },
  {
   "cell_type": "code",
   "execution_count": 1,
   "id": "51ae9508-dfa6-4031-9a69-5bd640c08286",
   "metadata": {},
   "outputs": [],
   "source": [
    "import os\n",
    "\n",
    "import numpy as np\n",
    "import pandas as pd\n",
    "import sklearn.linear_model\n",
    "import sklearn.metrics  # use existing libraries!"
   ]
  },
  {
   "cell_type": "code",
   "execution_count": 2,
   "id": "6a54dcb2-9f1d-4362-b299-d06a0df85cdb",
   "metadata": {},
   "outputs": [],
   "source": [
    "# score function: binary cross entropy loss\n",
    "def score_yp(y, p): # y, p are numpy arrays\n",
    "    return sklearn.metrics.log_loss(y, p)"
   ]
  },
  {
   "cell_type": "code",
   "execution_count": 3,
   "id": "264d9bec-30cf-4996-8686-e06d373349d9",
   "metadata": {},
   "outputs": [],
   "source": [
    "# score wrapper, for data frames. we need this when using the `truth` data frame\n",
    "def score(x, y): # x, y are data frames\n",
    "    xy = pd.merge(x, y, on=[\"customer\", \"product\", \"week\"])\n",
    "    assert xy.shape[0] == x.shape[0]\n",
    "    return score_yp(xy[\"y\"].values, xy[\"probability\"].values)"
   ]
  },
  {
   "cell_type": "markdown",
   "id": "01161aa8-962e-4c8c-9ed2-4421c23ed05c",
   "metadata": {},
   "source": [
    "<br>\n",
    "\n",
    "## Input"
   ]
  },
  {
   "cell_type": "code",
   "execution_count": 4,
   "id": "8da0367b-3b62-46e1-ad64-dff69f73b65d",
   "metadata": {},
   "outputs": [],
   "source": [
    "# the path that contains the data\n",
    "path = os.path.expandvars(\"~/Dropbox_RSM/teaching/big-data-23-24/data/dr-s\")"
   ]
  },
  {
   "cell_type": "code",
   "execution_count": 5,
   "id": "4ea8f257-e4f4-4258-acdc-6b125794a916",
   "metadata": {},
   "outputs": [],
   "source": [
    "# INPUT\n",
    "training_week = 88  # for model training\n",
    "validation_week = 89  # for model and baseline validation\n",
    "test_week = 90  # for the final prediction (one week in the future, beyond our data)\n",
    "target_customers = list(range(2000))\n",
    "target_products = list(range(250))"
   ]
  },
  {
   "cell_type": "markdown",
   "id": "e6b7cc60-62e5-40b7-9491-a2640f44e08c",
   "metadata": {},
   "source": [
    "<br>\n",
    "\n",
    "## Load data"
   ]
  },
  {
   "cell_type": "code",
   "execution_count": 6,
   "id": "cf7453b7-28fd-490b-9efe-5af764d06a79",
   "metadata": {},
   "outputs": [
    {
     "data": {
      "text/html": [
       "<div>\n",
       "<style scoped>\n",
       "    .dataframe tbody tr th:only-of-type {\n",
       "        vertical-align: middle;\n",
       "    }\n",
       "\n",
       "    .dataframe tbody tr th {\n",
       "        vertical-align: top;\n",
       "    }\n",
       "\n",
       "    .dataframe thead th {\n",
       "        text-align: right;\n",
       "    }\n",
       "</style>\n",
       "<table border=\"1\" class=\"dataframe\">\n",
       "  <thead>\n",
       "    <tr style=\"text-align: right;\">\n",
       "      <th></th>\n",
       "      <th>week</th>\n",
       "      <th>customer</th>\n",
       "      <th>product</th>\n",
       "      <th>price</th>\n",
       "    </tr>\n",
       "  </thead>\n",
       "  <tbody>\n",
       "    <tr>\n",
       "      <th>0</th>\n",
       "      <td>0</td>\n",
       "      <td>0</td>\n",
       "      <td>71</td>\n",
       "      <td>629</td>\n",
       "    </tr>\n",
       "    <tr>\n",
       "      <th>1</th>\n",
       "      <td>0</td>\n",
       "      <td>0</td>\n",
       "      <td>91</td>\n",
       "      <td>605</td>\n",
       "    </tr>\n",
       "    <tr>\n",
       "      <th>2</th>\n",
       "      <td>0</td>\n",
       "      <td>0</td>\n",
       "      <td>116</td>\n",
       "      <td>715</td>\n",
       "    </tr>\n",
       "    <tr>\n",
       "      <th>3</th>\n",
       "      <td>0</td>\n",
       "      <td>0</td>\n",
       "      <td>123</td>\n",
       "      <td>483</td>\n",
       "    </tr>\n",
       "    <tr>\n",
       "      <th>4</th>\n",
       "      <td>0</td>\n",
       "      <td>0</td>\n",
       "      <td>157</td>\n",
       "      <td>592</td>\n",
       "    </tr>\n",
       "  </tbody>\n",
       "</table>\n",
       "</div>"
      ],
      "text/plain": [
       "   week  customer  product  price\n",
       "0     0         0       71    629\n",
       "1     0         0       91    605\n",
       "2     0         0      116    715\n",
       "3     0         0      123    483\n",
       "4     0         0      157    592"
      ]
     },
     "execution_count": 6,
     "metadata": {},
     "output_type": "execute_result"
    }
   ],
   "source": [
    "baskets = pd.read_parquet(f\"{path}/upload/baskets-s.parquet\")\n",
    "# we only keep the 2000 customers required for the test set\n",
    "# a complex model might require more data, e.g., see Boosted Tree model in Gabel & Timoshenko (2022)\n",
    "baskets.head()"
   ]
  },
  {
   "cell_type": "code",
   "execution_count": 7,
   "id": "87236da5-ea4b-43f8-8aa4-5019ba484255",
   "metadata": {},
   "outputs": [
    {
     "data": {
      "text/html": [
       "<div>\n",
       "<style scoped>\n",
       "    .dataframe tbody tr th:only-of-type {\n",
       "        vertical-align: middle;\n",
       "    }\n",
       "\n",
       "    .dataframe tbody tr th {\n",
       "        vertical-align: top;\n",
       "    }\n",
       "\n",
       "    .dataframe thead th {\n",
       "        text-align: right;\n",
       "    }\n",
       "</style>\n",
       "<table border=\"1\" class=\"dataframe\">\n",
       "  <thead>\n",
       "    <tr style=\"text-align: right;\">\n",
       "      <th></th>\n",
       "      <th>week</th>\n",
       "      <th>customer</th>\n",
       "      <th>product</th>\n",
       "    </tr>\n",
       "  </thead>\n",
       "  <tbody>\n",
       "    <tr>\n",
       "      <th>0</th>\n",
       "      <td>90</td>\n",
       "      <td>0</td>\n",
       "      <td>0</td>\n",
       "    </tr>\n",
       "    <tr>\n",
       "      <th>1</th>\n",
       "      <td>90</td>\n",
       "      <td>0</td>\n",
       "      <td>1</td>\n",
       "    </tr>\n",
       "    <tr>\n",
       "      <th>2</th>\n",
       "      <td>90</td>\n",
       "      <td>0</td>\n",
       "      <td>2</td>\n",
       "    </tr>\n",
       "    <tr>\n",
       "      <th>3</th>\n",
       "      <td>90</td>\n",
       "      <td>0</td>\n",
       "      <td>3</td>\n",
       "    </tr>\n",
       "    <tr>\n",
       "      <th>4</th>\n",
       "      <td>90</td>\n",
       "      <td>0</td>\n",
       "      <td>4</td>\n",
       "    </tr>\n",
       "  </tbody>\n",
       "</table>\n",
       "</div>"
      ],
      "text/plain": [
       "   week  customer  product\n",
       "0    90         0        0\n",
       "1    90         0        1\n",
       "2    90         0        2\n",
       "3    90         0        3\n",
       "4    90         0        4"
      ]
     },
     "execution_count": 7,
     "metadata": {},
     "output_type": "execute_result"
    }
   ],
   "source": [
    "prediction_index = pd.read_parquet(f\"{path}/raw/prediction_index.parquet\")\n",
    "prediction_index.head()"
   ]
  },
  {
   "cell_type": "markdown",
   "id": "48a56122-fd8e-46a4-8f03-2d315a4fba0a",
   "metadata": {},
   "source": [
    "<br>\n",
    "\n",
    "## Reminder\n",
    "\n",
    "<img src=\"https://raw.githubusercontent.com/sbstn-gbl/learning-from-big-data/master/source/_static/img/time-split.png\" width=\"900\"/>"
   ]
  },
  {
   "cell_type": "markdown",
   "id": "ab68bae7-b6e8-4c26-a538-d45773a1e8e4",
   "metadata": {},
   "source": [
    "<br>\n",
    "\n",
    "## SOLUTION 2: simple machine learning model   \n",
    "\n",
    "### Example for constructing the features"
   ]
  },
  {
   "cell_type": "code",
   "execution_count": 8,
   "id": "4065efc6-5713-4a57-a130-a67a363479a9",
   "metadata": {},
   "outputs": [],
   "source": [
    "def build_frequency_feature(baskets, week_start, week_end, feature_name):\n",
    "    # subset baskets\n",
    "    baskets_subset = baskets[\n",
    "        (baskets[\"week\"] >= week_start) & (baskets[\"week\"] <= week_end)\n",
    "    ]\n",
    "    print(baskets_subset.week.nunique())\n",
    "\n",
    "    purchase_frequency_ij = (\n",
    "        (\n",
    "            baskets_subset.groupby([\"customer\", \"product\"])[[\"week\"]].count()\n",
    "            / baskets_subset.week.nunique()\n",
    "        )\n",
    "        .rename(columns={\"week\": feature_name})\n",
    "        .reset_index()\n",
    "    )\n",
    "\n",
    "    return purchase_frequency_ij"
   ]
  },
  {
   "cell_type": "code",
   "execution_count": 9,
   "id": "3bcc5035-0054-4732-abbe-449f5fe0507d",
   "metadata": {},
   "outputs": [
    {
     "name": "stdout",
     "output_type": "stream",
     "text": [
      "88\n"
     ]
    },
    {
     "data": {
      "text/html": [
       "<div>\n",
       "<style scoped>\n",
       "    .dataframe tbody tr th:only-of-type {\n",
       "        vertical-align: middle;\n",
       "    }\n",
       "\n",
       "    .dataframe tbody tr th {\n",
       "        vertical-align: top;\n",
       "    }\n",
       "\n",
       "    .dataframe thead th {\n",
       "        text-align: right;\n",
       "    }\n",
       "</style>\n",
       "<table border=\"1\" class=\"dataframe\">\n",
       "  <thead>\n",
       "    <tr style=\"text-align: right;\">\n",
       "      <th></th>\n",
       "      <th>customer</th>\n",
       "      <th>product</th>\n",
       "      <th>frequency_full</th>\n",
       "    </tr>\n",
       "  </thead>\n",
       "  <tbody>\n",
       "    <tr>\n",
       "      <th>0</th>\n",
       "      <td>0</td>\n",
       "      <td>4</td>\n",
       "      <td>0.090909</td>\n",
       "    </tr>\n",
       "    <tr>\n",
       "      <th>1</th>\n",
       "      <td>0</td>\n",
       "      <td>11</td>\n",
       "      <td>0.102273</td>\n",
       "    </tr>\n",
       "    <tr>\n",
       "      <th>2</th>\n",
       "      <td>0</td>\n",
       "      <td>15</td>\n",
       "      <td>0.011364</td>\n",
       "    </tr>\n",
       "    <tr>\n",
       "      <th>3</th>\n",
       "      <td>0</td>\n",
       "      <td>16</td>\n",
       "      <td>0.034091</td>\n",
       "    </tr>\n",
       "    <tr>\n",
       "      <th>4</th>\n",
       "      <td>0</td>\n",
       "      <td>21</td>\n",
       "      <td>0.011364</td>\n",
       "    </tr>\n",
       "    <tr>\n",
       "      <th>...</th>\n",
       "      <td>...</td>\n",
       "      <td>...</td>\n",
       "      <td>...</td>\n",
       "    </tr>\n",
       "    <tr>\n",
       "      <th>141147</th>\n",
       "      <td>1999</td>\n",
       "      <td>237</td>\n",
       "      <td>0.045455</td>\n",
       "    </tr>\n",
       "    <tr>\n",
       "      <th>141148</th>\n",
       "      <td>1999</td>\n",
       "      <td>242</td>\n",
       "      <td>0.397727</td>\n",
       "    </tr>\n",
       "    <tr>\n",
       "      <th>141149</th>\n",
       "      <td>1999</td>\n",
       "      <td>243</td>\n",
       "      <td>0.011364</td>\n",
       "    </tr>\n",
       "    <tr>\n",
       "      <th>141150</th>\n",
       "      <td>1999</td>\n",
       "      <td>245</td>\n",
       "      <td>0.125000</td>\n",
       "    </tr>\n",
       "    <tr>\n",
       "      <th>141151</th>\n",
       "      <td>1999</td>\n",
       "      <td>249</td>\n",
       "      <td>0.090909</td>\n",
       "    </tr>\n",
       "  </tbody>\n",
       "</table>\n",
       "<p>141152 rows × 3 columns</p>\n",
       "</div>"
      ],
      "text/plain": [
       "        customer  product  frequency_full\n",
       "0              0        4        0.090909\n",
       "1              0       11        0.102273\n",
       "2              0       15        0.011364\n",
       "3              0       16        0.034091\n",
       "4              0       21        0.011364\n",
       "...          ...      ...             ...\n",
       "141147      1999      237        0.045455\n",
       "141148      1999      242        0.397727\n",
       "141149      1999      243        0.011364\n",
       "141150      1999      245        0.125000\n",
       "141151      1999      249        0.090909\n",
       "\n",
       "[141152 rows x 3 columns]"
      ]
     },
     "execution_count": 9,
     "metadata": {},
     "output_type": "execute_result"
    }
   ],
   "source": [
    "build_frequency_feature(baskets, -1, training_week - 1, \"frequency_full\")"
   ]
  },
  {
   "cell_type": "markdown",
   "id": "1d231b96-d896-4db1-96c7-ae2f9d4e6468",
   "metadata": {},
   "source": [
    "### Example for building the base table"
   ]
  },
  {
   "cell_type": "code",
   "execution_count": 10,
   "id": "067771f5-b725-438e-bc11-ccb51c055cc8",
   "metadata": {},
   "outputs": [],
   "source": [
    "def build_target(baskets, week):\n",
    "\n",
    "    baskets_week = baskets[baskets[\"week\"] == week][\n",
    "        [\"week\", \"customer\", \"product\"]\n",
    "    ].reset_index(drop=True)\n",
    "    baskets_week[\"y\"] = 1\n",
    "\n",
    "    df = pd.DataFrame(\n",
    "        {\n",
    "            \"week\": week,\n",
    "            \"customer\": np.repeat(target_customers, len(target_products), axis=0),\n",
    "            \"product\": target_products * len(target_customers),\n",
    "        }\n",
    "    )\n",
    "\n",
    "    df = df.merge(baskets_week, on=[\"week\", \"customer\", \"product\"], how=\"left\")\n",
    "    df[\"y\"] = df[\"y\"].fillna(0).astype(int)\n",
    "\n",
    "    return df"
   ]
  },
  {
   "cell_type": "code",
   "execution_count": 11,
   "id": "a59c0d16-5468-4bee-a25a-5620ed685fa4",
   "metadata": {},
   "outputs": [],
   "source": [
    "def build_base_table(baskets, week):\n",
    "    # target variable (product purchase)\n",
    "    # consider using multiple weeks for training! more data might lead to better results.\n",
    "    # also, different weeks might have different information.\n",
    "    y = build_target(baskets, week)\n",
    "    # features\n",
    "    # note how features are computed on data BEFORE the target week\n",
    "    x_1 = build_frequency_feature(baskets, -1, week - 1, \"frequency_full\")\n",
    "    x_2 = build_frequency_feature(baskets, week - 30, week - 1, \"frequency_l30\")\n",
    "    x_3 = build_frequency_feature(baskets, week - 5, week - 1, \"frequency_l5\")\n",
    "    base_table_yx = (\n",
    "        y.merge(x_1, on=[\"customer\", \"product\"], how=\"left\")\n",
    "        .merge(x_2, on=[\"customer\", \"product\"], how=\"left\")\n",
    "        .merge(x_3, on=[\"customer\", \"product\"], how=\"left\")\n",
    "        .fillna(0)\n",
    "    )\n",
    "    return base_table_yx"
   ]
  },
  {
   "cell_type": "code",
   "execution_count": 12,
   "id": "70480664-3133-432a-a1e1-88db432355ce",
   "metadata": {},
   "outputs": [
    {
     "name": "stdout",
     "output_type": "stream",
     "text": [
      "88\n",
      "30\n",
      "5\n"
     ]
    },
    {
     "data": {
      "text/html": [
       "<div>\n",
       "<style scoped>\n",
       "    .dataframe tbody tr th:only-of-type {\n",
       "        vertical-align: middle;\n",
       "    }\n",
       "\n",
       "    .dataframe tbody tr th {\n",
       "        vertical-align: top;\n",
       "    }\n",
       "\n",
       "    .dataframe thead th {\n",
       "        text-align: right;\n",
       "    }\n",
       "</style>\n",
       "<table border=\"1\" class=\"dataframe\">\n",
       "  <thead>\n",
       "    <tr style=\"text-align: right;\">\n",
       "      <th></th>\n",
       "      <th>week</th>\n",
       "      <th>customer</th>\n",
       "      <th>product</th>\n",
       "      <th>y</th>\n",
       "      <th>frequency_full</th>\n",
       "      <th>frequency_l30</th>\n",
       "      <th>frequency_l5</th>\n",
       "    </tr>\n",
       "  </thead>\n",
       "  <tbody>\n",
       "    <tr>\n",
       "      <th>0</th>\n",
       "      <td>88</td>\n",
       "      <td>0</td>\n",
       "      <td>0</td>\n",
       "      <td>0</td>\n",
       "      <td>0.000000</td>\n",
       "      <td>0.000000</td>\n",
       "      <td>0.0</td>\n",
       "    </tr>\n",
       "    <tr>\n",
       "      <th>1</th>\n",
       "      <td>88</td>\n",
       "      <td>0</td>\n",
       "      <td>1</td>\n",
       "      <td>0</td>\n",
       "      <td>0.000000</td>\n",
       "      <td>0.000000</td>\n",
       "      <td>0.0</td>\n",
       "    </tr>\n",
       "    <tr>\n",
       "      <th>2</th>\n",
       "      <td>88</td>\n",
       "      <td>0</td>\n",
       "      <td>2</td>\n",
       "      <td>0</td>\n",
       "      <td>0.000000</td>\n",
       "      <td>0.000000</td>\n",
       "      <td>0.0</td>\n",
       "    </tr>\n",
       "    <tr>\n",
       "      <th>3</th>\n",
       "      <td>88</td>\n",
       "      <td>0</td>\n",
       "      <td>3</td>\n",
       "      <td>0</td>\n",
       "      <td>0.000000</td>\n",
       "      <td>0.000000</td>\n",
       "      <td>0.0</td>\n",
       "    </tr>\n",
       "    <tr>\n",
       "      <th>4</th>\n",
       "      <td>88</td>\n",
       "      <td>0</td>\n",
       "      <td>4</td>\n",
       "      <td>0</td>\n",
       "      <td>0.090909</td>\n",
       "      <td>0.100000</td>\n",
       "      <td>0.0</td>\n",
       "    </tr>\n",
       "    <tr>\n",
       "      <th>...</th>\n",
       "      <td>...</td>\n",
       "      <td>...</td>\n",
       "      <td>...</td>\n",
       "      <td>...</td>\n",
       "      <td>...</td>\n",
       "      <td>...</td>\n",
       "      <td>...</td>\n",
       "    </tr>\n",
       "    <tr>\n",
       "      <th>499995</th>\n",
       "      <td>88</td>\n",
       "      <td>1999</td>\n",
       "      <td>245</td>\n",
       "      <td>0</td>\n",
       "      <td>0.125000</td>\n",
       "      <td>0.133333</td>\n",
       "      <td>0.0</td>\n",
       "    </tr>\n",
       "    <tr>\n",
       "      <th>499996</th>\n",
       "      <td>88</td>\n",
       "      <td>1999</td>\n",
       "      <td>246</td>\n",
       "      <td>0</td>\n",
       "      <td>0.000000</td>\n",
       "      <td>0.000000</td>\n",
       "      <td>0.0</td>\n",
       "    </tr>\n",
       "    <tr>\n",
       "      <th>499997</th>\n",
       "      <td>88</td>\n",
       "      <td>1999</td>\n",
       "      <td>247</td>\n",
       "      <td>0</td>\n",
       "      <td>0.000000</td>\n",
       "      <td>0.000000</td>\n",
       "      <td>0.0</td>\n",
       "    </tr>\n",
       "    <tr>\n",
       "      <th>499998</th>\n",
       "      <td>88</td>\n",
       "      <td>1999</td>\n",
       "      <td>248</td>\n",
       "      <td>0</td>\n",
       "      <td>0.000000</td>\n",
       "      <td>0.000000</td>\n",
       "      <td>0.0</td>\n",
       "    </tr>\n",
       "    <tr>\n",
       "      <th>499999</th>\n",
       "      <td>88</td>\n",
       "      <td>1999</td>\n",
       "      <td>249</td>\n",
       "      <td>0</td>\n",
       "      <td>0.090909</td>\n",
       "      <td>0.000000</td>\n",
       "      <td>0.0</td>\n",
       "    </tr>\n",
       "  </tbody>\n",
       "</table>\n",
       "<p>500000 rows × 7 columns</p>\n",
       "</div>"
      ],
      "text/plain": [
       "        week  customer  product  y  frequency_full  frequency_l30  \\\n",
       "0         88         0        0  0        0.000000       0.000000   \n",
       "1         88         0        1  0        0.000000       0.000000   \n",
       "2         88         0        2  0        0.000000       0.000000   \n",
       "3         88         0        3  0        0.000000       0.000000   \n",
       "4         88         0        4  0        0.090909       0.100000   \n",
       "...      ...       ...      ... ..             ...            ...   \n",
       "499995    88      1999      245  0        0.125000       0.133333   \n",
       "499996    88      1999      246  0        0.000000       0.000000   \n",
       "499997    88      1999      247  0        0.000000       0.000000   \n",
       "499998    88      1999      248  0        0.000000       0.000000   \n",
       "499999    88      1999      249  0        0.090909       0.000000   \n",
       "\n",
       "        frequency_l5  \n",
       "0                0.0  \n",
       "1                0.0  \n",
       "2                0.0  \n",
       "3                0.0  \n",
       "4                0.0  \n",
       "...              ...  \n",
       "499995           0.0  \n",
       "499996           0.0  \n",
       "499997           0.0  \n",
       "499998           0.0  \n",
       "499999           0.0  \n",
       "\n",
       "[500000 rows x 7 columns]"
      ]
     },
     "execution_count": 12,
     "metadata": {},
     "output_type": "execute_result"
    }
   ],
   "source": [
    "build_base_table(baskets, training_week)"
   ]
  },
  {
   "cell_type": "markdown",
   "id": "fb767f60-d7f4-4a70-b723-2328705831f0",
   "metadata": {},
   "source": [
    "### Training: Train model (week < 89)"
   ]
  },
  {
   "cell_type": "code",
   "execution_count": 13,
   "id": "57bccda4-6fb8-4ea8-984c-7de207ca3b2f",
   "metadata": {},
   "outputs": [
    {
     "name": "stdout",
     "output_type": "stream",
     "text": [
      "88\n",
      "30\n",
      "5\n"
     ]
    }
   ],
   "source": [
    "base_table_train = build_base_table(baskets, training_week)"
   ]
  },
  {
   "cell_type": "code",
   "execution_count": 14,
   "id": "56cd38b6-0689-4df2-b3f4-daf2b0593d51",
   "metadata": {},
   "outputs": [],
   "source": [
    "y = base_table_train[\"y\"].values  # 1s and 0s"
   ]
  },
  {
   "cell_type": "code",
   "execution_count": 15,
   "id": "8ccf351c-7628-4cd0-9d8e-87629d2d5ce4",
   "metadata": {},
   "outputs": [],
   "source": [
    "X = base_table_train[[\"frequency_full\", \"frequency_l30\", \"frequency_l5\"]].values  # purchase frequencies"
   ]
  },
  {
   "cell_type": "code",
   "execution_count": 16,
   "id": "ae120e14-f2f1-4c6b-80ee-11b69fa61486",
   "metadata": {},
   "outputs": [],
   "source": [
    "log_reg = sklearn.linear_model.LogisticRegression().fit(X, y)"
   ]
  },
  {
   "cell_type": "code",
   "execution_count": 17,
   "id": "93867b1f-651b-4c6a-a397-600340f184f8",
   "metadata": {},
   "outputs": [
    {
     "data": {
      "text/plain": [
       "(array([-4.48545291]), array([[10.74680489,  0.30805447, -0.98091252]]))"
      ]
     },
     "execution_count": 17,
     "metadata": {},
     "output_type": "execute_result"
    }
   ],
   "source": [
    "log_reg.intercept_, log_reg.coef_"
   ]
  },
  {
   "cell_type": "code",
   "execution_count": 18,
   "id": "8fb23066-f93e-4006-b690-a520325462d5",
   "metadata": {},
   "outputs": [],
   "source": [
    "# use model to predict purchase probabilities \n",
    "base_table_train[\"probability\"] = log_reg.predict_proba(X)[:, 1]"
   ]
  },
  {
   "cell_type": "code",
   "execution_count": 19,
   "id": "624e3305-0ded-40a1-b549-841be54a0f93",
   "metadata": {},
   "outputs": [
    {
     "data": {
      "text/plain": [
       "0.09008063416504795"
      ]
     },
     "execution_count": 19,
     "metadata": {},
     "output_type": "execute_result"
    }
   ],
   "source": [
    "score_yp(\n",
    "    base_table_train[\"y\"].values,\n",
    "    base_table_train[\"probability\"].values,\n",
    ")"
   ]
  },
  {
   "cell_type": "markdown",
   "id": "941b5649-7825-4459-8b55-958099aec8bb",
   "metadata": {},
   "source": [
    "### Validation: Test model performance (week 89)"
   ]
  },
  {
   "cell_type": "code",
   "execution_count": 20,
   "id": "743ceb26-a12f-4255-84cd-23736e789cdb",
   "metadata": {},
   "outputs": [
    {
     "name": "stdout",
     "output_type": "stream",
     "text": [
      "89\n",
      "30\n",
      "5\n"
     ]
    }
   ],
   "source": [
    "base_table_validation = build_base_table(baskets, validation_week)"
   ]
  },
  {
   "cell_type": "code",
   "execution_count": 21,
   "id": "ba893570-26f2-462b-87d4-371aae3f77c7",
   "metadata": {},
   "outputs": [],
   "source": [
    "X_validation = base_table_validation[\n",
    "    [\"frequency_full\", \"frequency_l30\", \"frequency_l5\"]\n",
    "].values"
   ]
  },
  {
   "cell_type": "code",
   "execution_count": 22,
   "id": "de82b189-49f0-4451-a224-e337e22c43c3",
   "metadata": {},
   "outputs": [],
   "source": [
    "base_table_validation[\"probability\"] = log_reg.predict_proba(X_validation)[:, 1]"
   ]
  },
  {
   "cell_type": "code",
   "execution_count": 23,
   "id": "d1e4689f-04cd-4747-8d2e-1aebe32950fd",
   "metadata": {},
   "outputs": [
    {
     "data": {
      "text/plain": [
       "0.089622346979186"
      ]
     },
     "execution_count": 23,
     "metadata": {},
     "output_type": "execute_result"
    }
   ],
   "source": [
    "score_yp(\n",
    "    base_table_validation[\"y\"].values,\n",
    "    base_table_validation[\"probability\"].values,\n",
    ")"
   ]
  },
  {
   "cell_type": "markdown",
   "id": "71de74d3-b96d-40b0-89c8-4365bdfd178e",
   "metadata": {},
   "source": [
    "### Test: Produce final result for submission (week 90)\n",
    "\n",
    "We can't evaluate this prediction because we don't have this data -- that's why we need the validation set! "
   ]
  },
  {
   "cell_type": "code",
   "execution_count": 24,
   "id": "97d2670f-8cbe-450e-9b9c-6192d9b46414",
   "metadata": {},
   "outputs": [
    {
     "name": "stdout",
     "output_type": "stream",
     "text": [
      "90\n",
      "30\n",
      "5\n"
     ]
    }
   ],
   "source": [
    "base_table_test = build_base_table(baskets, test_week)"
   ]
  },
  {
   "cell_type": "code",
   "execution_count": 25,
   "id": "91222ef4-7878-43db-95d7-c431742ce699",
   "metadata": {},
   "outputs": [],
   "source": [
    "X_test = base_table_test[[\"frequency_full\", \"frequency_l30\", \"frequency_l5\"]].values"
   ]
  },
  {
   "cell_type": "code",
   "execution_count": 26,
   "id": "3ce7d8db-0370-4303-8a88-e6c4bef74106",
   "metadata": {},
   "outputs": [],
   "source": [
    "base_table_test[\"probability\"] = log_reg.predict_proba(X_test)[:, 1]"
   ]
  },
  {
   "cell_type": "markdown",
   "id": "c3ecd46c-6fbc-4520-8ad6-358a874a4e3b",
   "metadata": {},
   "source": [
    "<br>\n",
    "\n",
    "## Score on test set\n",
    "\n",
    "In real life, never load your test/validation data durnig model training!"
   ]
  },
  {
   "cell_type": "markdown",
   "id": "fe03d728-289a-4ccc-b5b4-0bf0713af373",
   "metadata": {},
   "source": [
    "<img src=\"https://raw.githubusercontent.com/sbstn-gbl/learning-from-big-data/master/source/_static/img/danger-zone.gif\" width=\"800\"/>"
   ]
  },
  {
   "cell_type": "code",
   "execution_count": 27,
   "id": "70dd858b-6c77-45b7-bf6a-31efae5ae32a",
   "metadata": {},
   "outputs": [],
   "source": [
    "# true purchases in week 90\n",
    "truth = pd.read_parquet(f\"{path}/private/truth.parquet\")"
   ]
  },
  {
   "cell_type": "code",
   "execution_count": 28,
   "id": "3fe478c1-5a62-4c50-b6a0-b000a128b049",
   "metadata": {},
   "outputs": [
    {
     "data": {
      "text/plain": [
       "0.08998744561223695"
      ]
     },
     "execution_count": 28,
     "metadata": {},
     "output_type": "execute_result"
    }
   ],
   "source": [
    "score(\n",
    "    truth,\n",
    "    base_table_test[[\"customer\", \"product\", \"week\", \"probability\"]],\n",
    ")"
   ]
  },
  {
   "cell_type": "markdown",
   "id": "5249526b-072d-496c-b19c-daaccdbdb92f",
   "metadata": {},
   "source": [
    "<br>\n",
    "<br>\n",
    "\n",
    "<b>Learning from Big Data</b> <br>\n",
    "Sebastian Gabel <br>"
   ]
  }
 ],
 "metadata": {
  "kernelspec": {
   "display_name": "Python 3 (ipykernel)",
   "language": "python",
   "name": "python3"
  },
  "language_info": {
   "codemirror_mode": {
    "name": "ipython",
    "version": 3
   },
   "file_extension": ".py",
   "mimetype": "text/x-python",
   "name": "python",
   "nbconvert_exporter": "python",
   "pygments_lexer": "ipython3",
   "version": "3.9.6"
  }
 },
 "nbformat": 4,
 "nbformat_minor": 5
}
