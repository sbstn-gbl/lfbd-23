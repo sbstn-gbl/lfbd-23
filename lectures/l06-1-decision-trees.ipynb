{
 "cells": [
  {
   "cell_type": "markdown",
   "metadata": {},
   "source": [
    "# Decision trees\n",
    "\n",
    "In this notebook, we will implement a simple decision tree algorithm. The notebook will cover the following steps:\n",
    "\n",
    "1. Load a data set (Dr. D)\n",
    "2. Build a reference solution using `sklearn`\n",
    "3. Compare three metrics to quantify node impurity (entropy, gini, misclassification error)\n",
    "4. Build our own implementation of `information gain` (used to make splits in decision trees)\n",
    "5. Build a decision tree class\n",
    "6. Test the predict method\n",
    "7. Build a small tree explorer app that allows us to see how hyperparameters affect tree construction"
   ]
  },
  {
   "cell_type": "code",
   "execution_count": 1,
   "metadata": {},
   "outputs": [],
   "source": [
    "import common\n",
    "import graphviz\n",
    "import IPython.display\n",
    "import ipywidgets\n",
    "import matplotlib.pyplot as plt\n",
    "import numpy as np\n",
    "import pandas as pd\n",
    "import sklearn.tree\n",
    "import yaml"
   ]
  },
  {
   "cell_type": "markdown",
   "metadata": {},
   "source": [
    "## Load data"
   ]
  },
  {
   "cell_type": "code",
   "execution_count": 2,
   "metadata": {},
   "outputs": [],
   "source": [
    "df = pd.read_parquet(\"dr_d_grocery.parquet\")\n",
    "features = [\n",
    "    \"average_revenue\",\n",
    "    \"average_basket_size\",\n",
    "    \"fraction_canned_food\",\n",
    "    \"fraction_national_brands\",\n",
    "]\n",
    "target_names = df[\"segment_name\"].unique()"
   ]
  },
  {
   "cell_type": "code",
   "execution_count": 3,
   "metadata": {},
   "outputs": [],
   "source": [
    "X = df[features].values\n",
    "y = df[\"segment_name\"].values"
   ]
  },
  {
   "cell_type": "code",
   "execution_count": 4,
   "metadata": {},
   "outputs": [
    {
     "data": {
      "text/plain": [
       "(150, 4)"
      ]
     },
     "execution_count": 4,
     "metadata": {},
     "output_type": "execute_result"
    }
   ],
   "source": [
    "X.shape"
   ]
  },
  {
   "cell_type": "code",
   "execution_count": 5,
   "metadata": {},
   "outputs": [
    {
     "data": {
      "text/plain": [
       "150"
      ]
     },
     "execution_count": 5,
     "metadata": {},
     "output_type": "execute_result"
    }
   ],
   "source": [
    "len(y)"
   ]
  },
  {
   "cell_type": "markdown",
   "metadata": {},
   "source": [
    "<br>\n",
    "\n",
    "## Let's meet the customers"
   ]
  },
  {
   "cell_type": "code",
   "execution_count": 6,
   "metadata": {},
   "outputs": [
    {
     "data": {
      "text/plain": [
       "segment_name\n",
       "The Obnoxious Teens     50\n",
       "The Prepper             50\n",
       "The Shopper-for-Hire    50\n",
       "Name: shopper_id, dtype: int64"
      ]
     },
     "execution_count": 6,
     "metadata": {},
     "output_type": "execute_result"
    }
   ],
   "source": [
    "df.groupby(\"segment_name\").shopper_id.count()"
   ]
  },
  {
   "cell_type": "markdown",
   "metadata": {},
   "source": [
    "### Customer Type 1: The Prepper\n",
    "\n",
    "<img src=\"https://raw.githubusercontent.com/sbstn-gbl/learning-from-big-data/master/source/_static/img/type-prepper.gif\" width=\"600\">\n",
    "\n",
    "### Customer Type 2: The Obnoxious Teens\n",
    "\n",
    "<img src=\"https://raw.githubusercontent.com/sbstn-gbl/learning-from-big-data/master/source/_static/img/type-teens.gif\" width=\"600\">\n",
    "\n",
    "### Customer Type 3: The Shopper-for-Hire\n",
    "\n",
    "<img src=\"https://raw.githubusercontent.com/sbstn-gbl/learning-from-big-data/master/source/_static/img/type-shopper-hire.gif\" width=\"600\">\n",
    "\n",
    "[(Source)](https://www.mandatory.com/living/1545648-10-kinds-of-shoppers-youll-encounter-coronavirus-pandemic#7)\n",
    "\n",
    "<br>\n",
    "\n",
    "## Reference implementation in `sklearn`"
   ]
  },
  {
   "cell_type": "markdown",
   "metadata": {},
   "source": [
    "### Define tree parameters\n",
    "\n",
    "- Impurity = Entropy\n",
    "- Limit depth to 8 (tree will actually stop after 5 levels)\n",
    "\n",
    "Check out the tree explorer at the end of the notebook to study the effects of hyperparameters on the resulting tree."
   ]
  },
  {
   "cell_type": "code",
   "execution_count": 7,
   "metadata": {},
   "outputs": [],
   "source": [
    "config_tree = {\n",
    "    \"criterion\": \"entropy\",\n",
    "    \"max_depth\": 5,\n",
    "    \"random_state\": 123,\n",
    "}"
   ]
  },
  {
   "cell_type": "markdown",
   "metadata": {},
   "source": [
    "### Train decision tree"
   ]
  },
  {
   "cell_type": "code",
   "execution_count": 8,
   "metadata": {},
   "outputs": [],
   "source": [
    "tree = sklearn.tree.DecisionTreeClassifier(**config_tree)\n",
    "tree = tree.fit(X, y)"
   ]
  },
  {
   "cell_type": "markdown",
   "metadata": {},
   "source": [
    "### Visualize decision tree\n",
    "\n",
    "Note the following observations:\n",
    "- Pure nodes consisting of only one class\n",
    "- Splitting reduces entropy\n",
    "- Some terminal nodes contain very few samples, so we should consider early stopping to regularize tree"
   ]
  },
  {
   "cell_type": "code",
   "execution_count": 9,
   "metadata": {},
   "outputs": [
    {
     "data": {
      "image/svg+xml": [
       "<?xml version=\"1.0\" encoding=\"UTF-8\" standalone=\"no\"?>\n",
       "<!DOCTYPE svg PUBLIC \"-//W3C//DTD SVG 1.1//EN\"\n",
       " \"http://www.w3.org/Graphics/SVG/1.1/DTD/svg11.dtd\">\n",
       "<!-- Generated by graphviz version 6.0.1 (20220911.1526)\n",
       " -->\n",
       "<!-- Title: Tree Pages: 1 -->\n",
       "<svg width=\"586pt\" height=\"671pt\"\n",
       " viewBox=\"0.00 0.00 585.50 671.00\" xmlns=\"http://www.w3.org/2000/svg\" xmlns:xlink=\"http://www.w3.org/1999/xlink\">\n",
       "<g id=\"graph0\" class=\"graph\" transform=\"scale(1 1) rotate(0) translate(4 667)\">\n",
       "<title>Tree</title>\n",
       "<polygon fill=\"white\" stroke=\"none\" points=\"-4,4 -4,-667 581.5,-667 581.5,4 -4,4\"/>\n",
       "<!-- 0 -->\n",
       "<g id=\"node1\" class=\"node\">\n",
       "<title>0</title>\n",
       "<path fill=\"#ffffff\" stroke=\"black\" d=\"M291,-663C291,-663 120,-663 120,-663 114,-663 108,-657 108,-651 108,-651 108,-592 108,-592 108,-586 114,-580 120,-580 120,-580 291,-580 291,-580 297,-580 303,-586 303,-592 303,-592 303,-651 303,-651 303,-657 297,-663 291,-663\"/>\n",
       "<text text-anchor=\"start\" x=\"121\" y=\"-647.8\" font-family=\"Helvetica,sans-Serif\" font-size=\"14.00\">average_revenue ≤ 231.877</text>\n",
       "<text text-anchor=\"start\" x=\"158\" y=\"-632.8\" font-family=\"Helvetica,sans-Serif\" font-size=\"14.00\">entropy = 1.585</text>\n",
       "<text text-anchor=\"start\" x=\"160.5\" y=\"-617.8\" font-family=\"Helvetica,sans-Serif\" font-size=\"14.00\">samples = 150</text>\n",
       "<text text-anchor=\"start\" x=\"147.5\" y=\"-602.8\" font-family=\"Helvetica,sans-Serif\" font-size=\"14.00\">value = [50, 50, 50]</text>\n",
       "<text text-anchor=\"start\" x=\"116\" y=\"-587.8\" font-family=\"Helvetica,sans-Serif\" font-size=\"14.00\">class = The Obnoxious Teens</text>\n",
       "</g>\n",
       "<!-- 1 -->\n",
       "<g id=\"node2\" class=\"node\">\n",
       "<title>1</title>\n",
       "<path fill=\"#e58139\" stroke=\"black\" d=\"M183,-536.5C183,-536.5 12,-536.5 12,-536.5 6,-536.5 0,-530.5 0,-524.5 0,-524.5 0,-480.5 0,-480.5 0,-474.5 6,-468.5 12,-468.5 12,-468.5 183,-468.5 183,-468.5 189,-468.5 195,-474.5 195,-480.5 195,-480.5 195,-524.5 195,-524.5 195,-530.5 189,-536.5 183,-536.5\"/>\n",
       "<text text-anchor=\"start\" x=\"57.5\" y=\"-521.3\" font-family=\"Helvetica,sans-Serif\" font-size=\"14.00\">entropy = 0.0</text>\n",
       "<text text-anchor=\"start\" x=\"56.5\" y=\"-506.3\" font-family=\"Helvetica,sans-Serif\" font-size=\"14.00\">samples = 50</text>\n",
       "<text text-anchor=\"start\" x=\"47\" y=\"-491.3\" font-family=\"Helvetica,sans-Serif\" font-size=\"14.00\">value = [50, 0, 0]</text>\n",
       "<text text-anchor=\"start\" x=\"8\" y=\"-476.3\" font-family=\"Helvetica,sans-Serif\" font-size=\"14.00\">class = The Obnoxious Teens</text>\n",
       "</g>\n",
       "<!-- 0&#45;&gt;1 -->\n",
       "<g id=\"edge1\" class=\"edge\">\n",
       "<title>0&#45;&gt;1</title>\n",
       "<path fill=\"none\" stroke=\"black\" d=\"M168.03,-579.91C157.33,-568.32 145.68,-555.7 134.99,-544.11\"/>\n",
       "<polygon fill=\"black\" stroke=\"black\" points=\"137.47,-541.64 128.12,-536.67 132.33,-546.39 137.47,-541.64\"/>\n",
       "<text text-anchor=\"middle\" x=\"127.12\" y=\"-557.95\" font-family=\"Helvetica,sans-Serif\" font-size=\"14.00\">True</text>\n",
       "</g>\n",
       "<!-- 2 -->\n",
       "<g id=\"node3\" class=\"node\">\n",
       "<title>2</title>\n",
       "<path fill=\"#ffffff\" stroke=\"black\" d=\"M401.5,-544C401.5,-544 225.5,-544 225.5,-544 219.5,-544 213.5,-538 213.5,-532 213.5,-532 213.5,-473 213.5,-473 213.5,-467 219.5,-461 225.5,-461 225.5,-461 401.5,-461 401.5,-461 407.5,-461 413.5,-467 413.5,-473 413.5,-473 413.5,-532 413.5,-532 413.5,-538 407.5,-544 401.5,-544\"/>\n",
       "<text text-anchor=\"start\" x=\"221.5\" y=\"-528.8\" font-family=\"Helvetica,sans-Serif\" font-size=\"14.00\">average_basket_size ≤ 29.649</text>\n",
       "<text text-anchor=\"start\" x=\"273.5\" y=\"-513.8\" font-family=\"Helvetica,sans-Serif\" font-size=\"14.00\">entropy = 1.0</text>\n",
       "<text text-anchor=\"start\" x=\"268.5\" y=\"-498.8\" font-family=\"Helvetica,sans-Serif\" font-size=\"14.00\">samples = 100</text>\n",
       "<text text-anchor=\"start\" x=\"259\" y=\"-483.8\" font-family=\"Helvetica,sans-Serif\" font-size=\"14.00\">value = [0, 50, 50]</text>\n",
       "<text text-anchor=\"start\" x=\"252.5\" y=\"-468.8\" font-family=\"Helvetica,sans-Serif\" font-size=\"14.00\">class = The Prepper</text>\n",
       "</g>\n",
       "<!-- 0&#45;&gt;2 -->\n",
       "<g id=\"edge2\" class=\"edge\">\n",
       "<title>0&#45;&gt;2</title>\n",
       "<path fill=\"none\" stroke=\"black\" d=\"M242.97,-579.91C251.43,-570.74 260.49,-560.93 269.2,-551.49\"/>\n",
       "<polygon fill=\"black\" stroke=\"black\" points=\"271.89,-553.74 276.1,-544.02 266.74,-548.99 271.89,-553.74\"/>\n",
       "<text text-anchor=\"middle\" x=\"277.1\" y=\"-565.3\" font-family=\"Helvetica,sans-Serif\" font-size=\"14.00\">False</text>\n",
       "</g>\n",
       "<!-- 3 -->\n",
       "<g id=\"node4\" class=\"node\">\n",
       "<title>3</title>\n",
       "<path fill=\"#8139e5\" stroke=\"black\" d=\"M292,-417.5C292,-417.5 125,-417.5 125,-417.5 119,-417.5 113,-411.5 113,-405.5 113,-405.5 113,-361.5 113,-361.5 113,-355.5 119,-349.5 125,-349.5 125,-349.5 292,-349.5 292,-349.5 298,-349.5 304,-355.5 304,-361.5 304,-361.5 304,-405.5 304,-405.5 304,-411.5 298,-417.5 292,-417.5\"/>\n",
       "<text text-anchor=\"start\" x=\"168.5\" y=\"-402.3\" font-family=\"Helvetica,sans-Serif\" font-size=\"14.00\">entropy = 0.0</text>\n",
       "<text text-anchor=\"start\" x=\"167.5\" y=\"-387.3\" font-family=\"Helvetica,sans-Serif\" font-size=\"14.00\">samples = 40</text>\n",
       "<text text-anchor=\"start\" x=\"158\" y=\"-372.3\" font-family=\"Helvetica,sans-Serif\" font-size=\"14.00\">value = [0, 0, 40]</text>\n",
       "<text text-anchor=\"start\" x=\"121\" y=\"-357.3\" font-family=\"Helvetica,sans-Serif\" font-size=\"14.00\">class = The Shopper&#45;for&#45;Hire</text>\n",
       "</g>\n",
       "<!-- 2&#45;&gt;3 -->\n",
       "<g id=\"edge3\" class=\"edge\">\n",
       "<title>2&#45;&gt;3</title>\n",
       "<path fill=\"none\" stroke=\"black\" d=\"M277.07,-460.91C266.67,-449.32 255.34,-436.7 244.95,-425.11\"/>\n",
       "<polygon fill=\"black\" stroke=\"black\" points=\"247.55,-422.77 238.27,-417.67 242.34,-427.45 247.55,-422.77\"/>\n",
       "</g>\n",
       "<!-- 4 -->\n",
       "<g id=\"node5\" class=\"node\">\n",
       "<title>4</title>\n",
       "<path fill=\"#61ea9a\" stroke=\"black\" d=\"M503,-425C503,-425 334,-425 334,-425 328,-425 322,-419 322,-413 322,-413 322,-354 322,-354 322,-348 328,-342 334,-342 334,-342 503,-342 503,-342 509,-342 515,-348 515,-354 515,-354 515,-413 515,-413 515,-419 509,-425 503,-425\"/>\n",
       "<text text-anchor=\"start\" x=\"330\" y=\"-409.8\" font-family=\"Helvetica,sans-Serif\" font-size=\"14.00\">average_basket_size ≤ 37.34</text>\n",
       "<text text-anchor=\"start\" x=\"374.5\" y=\"-394.8\" font-family=\"Helvetica,sans-Serif\" font-size=\"14.00\">entropy = 0.65</text>\n",
       "<text text-anchor=\"start\" x=\"377.5\" y=\"-379.8\" font-family=\"Helvetica,sans-Serif\" font-size=\"14.00\">samples = 60</text>\n",
       "<text text-anchor=\"start\" x=\"364\" y=\"-364.8\" font-family=\"Helvetica,sans-Serif\" font-size=\"14.00\">value = [0, 50, 10]</text>\n",
       "<text text-anchor=\"start\" x=\"357.5\" y=\"-349.8\" font-family=\"Helvetica,sans-Serif\" font-size=\"14.00\">class = The Prepper</text>\n",
       "</g>\n",
       "<!-- 2&#45;&gt;4 -->\n",
       "<g id=\"edge4\" class=\"edge\">\n",
       "<title>2&#45;&gt;4</title>\n",
       "<path fill=\"none\" stroke=\"black\" d=\"M349.93,-460.91C358.15,-451.74 366.96,-441.93 375.43,-432.49\"/>\n",
       "<polygon fill=\"black\" stroke=\"black\" points=\"378.06,-434.8 382.14,-425.02 372.85,-430.13 378.06,-434.8\"/>\n",
       "</g>\n",
       "<!-- 5 -->\n",
       "<g id=\"node6\" class=\"node\">\n",
       "<title>5</title>\n",
       "<path fill=\"#d1f9e2\" stroke=\"black\" d=\"M409,-306C409,-306 248,-306 248,-306 242,-306 236,-300 236,-294 236,-294 236,-235 236,-235 236,-229 242,-223 248,-223 248,-223 409,-223 409,-223 415,-223 421,-229 421,-235 421,-235 421,-294 421,-294 421,-300 415,-306 409,-306\"/>\n",
       "<text text-anchor=\"start\" x=\"244\" y=\"-290.8\" font-family=\"Helvetica,sans-Serif\" font-size=\"14.00\">average_revenue ≤ 541.159</text>\n",
       "<text text-anchor=\"start\" x=\"281\" y=\"-275.8\" font-family=\"Helvetica,sans-Serif\" font-size=\"14.00\">entropy = 0.988</text>\n",
       "<text text-anchor=\"start\" x=\"287.5\" y=\"-260.8\" font-family=\"Helvetica,sans-Serif\" font-size=\"14.00\">samples = 23</text>\n",
       "<text text-anchor=\"start\" x=\"274\" y=\"-245.8\" font-family=\"Helvetica,sans-Serif\" font-size=\"14.00\">value = [0, 13, 10]</text>\n",
       "<text text-anchor=\"start\" x=\"267.5\" y=\"-230.8\" font-family=\"Helvetica,sans-Serif\" font-size=\"14.00\">class = The Prepper</text>\n",
       "</g>\n",
       "<!-- 4&#45;&gt;5 -->\n",
       "<g id=\"edge5\" class=\"edge\">\n",
       "<title>4&#45;&gt;5</title>\n",
       "<path fill=\"none\" stroke=\"black\" d=\"M387.27,-341.91C380.36,-332.92 372.97,-323.32 365.85,-314.05\"/>\n",
       "<polygon fill=\"black\" stroke=\"black\" points=\"368.54,-311.81 359.67,-306.02 362.99,-316.08 368.54,-311.81\"/>\n",
       "</g>\n",
       "<!-- 10 -->\n",
       "<g id=\"node11\" class=\"node\">\n",
       "<title>10</title>\n",
       "<path fill=\"#39e581\" stroke=\"black\" d=\"M565.5,-298.5C565.5,-298.5 451.5,-298.5 451.5,-298.5 445.5,-298.5 439.5,-292.5 439.5,-286.5 439.5,-286.5 439.5,-242.5 439.5,-242.5 439.5,-236.5 445.5,-230.5 451.5,-230.5 451.5,-230.5 565.5,-230.5 565.5,-230.5 571.5,-230.5 577.5,-236.5 577.5,-242.5 577.5,-242.5 577.5,-286.5 577.5,-286.5 577.5,-292.5 571.5,-298.5 565.5,-298.5\"/>\n",
       "<text text-anchor=\"start\" x=\"468.5\" y=\"-283.3\" font-family=\"Helvetica,sans-Serif\" font-size=\"14.00\">entropy = 0.0</text>\n",
       "<text text-anchor=\"start\" x=\"467.5\" y=\"-268.3\" font-family=\"Helvetica,sans-Serif\" font-size=\"14.00\">samples = 37</text>\n",
       "<text text-anchor=\"start\" x=\"458\" y=\"-253.3\" font-family=\"Helvetica,sans-Serif\" font-size=\"14.00\">value = [0, 37, 0]</text>\n",
       "<text text-anchor=\"start\" x=\"447.5\" y=\"-238.3\" font-family=\"Helvetica,sans-Serif\" font-size=\"14.00\">class = The Prepper</text>\n",
       "</g>\n",
       "<!-- 4&#45;&gt;10 -->\n",
       "<g id=\"edge10\" class=\"edge\">\n",
       "<title>4&#45;&gt;10</title>\n",
       "<path fill=\"none\" stroke=\"black\" d=\"M449.73,-341.91C458.47,-330.54 467.98,-318.18 476.75,-306.77\"/>\n",
       "<polygon fill=\"black\" stroke=\"black\" points=\"479.66,-308.73 482.99,-298.67 474.12,-304.46 479.66,-308.73\"/>\n",
       "</g>\n",
       "<!-- 6 -->\n",
       "<g id=\"node7\" class=\"node\">\n",
       "<title>6</title>\n",
       "<path fill=\"#d9c4f7\" stroke=\"black\" d=\"M321,-187C321,-187 154,-187 154,-187 148,-187 142,-181 142,-175 142,-175 142,-116 142,-116 142,-110 148,-104 154,-104 154,-104 321,-104 321,-104 327,-104 333,-110 333,-116 333,-116 333,-175 333,-175 333,-181 327,-187 321,-187\"/>\n",
       "<text text-anchor=\"start\" x=\"153\" y=\"-171.8\" font-family=\"Helvetica,sans-Serif\" font-size=\"14.00\">average_revenue ≤ 435.086</text>\n",
       "<text text-anchor=\"start\" x=\"190\" y=\"-156.8\" font-family=\"Helvetica,sans-Serif\" font-size=\"14.00\">entropy = 0.977</text>\n",
       "<text text-anchor=\"start\" x=\"196.5\" y=\"-141.8\" font-family=\"Helvetica,sans-Serif\" font-size=\"14.00\">samples = 17</text>\n",
       "<text text-anchor=\"start\" x=\"187\" y=\"-126.8\" font-family=\"Helvetica,sans-Serif\" font-size=\"14.00\">value = [0, 7, 10]</text>\n",
       "<text text-anchor=\"start\" x=\"150\" y=\"-111.8\" font-family=\"Helvetica,sans-Serif\" font-size=\"14.00\">class = The Shopper&#45;for&#45;Hire</text>\n",
       "</g>\n",
       "<!-- 5&#45;&gt;6 -->\n",
       "<g id=\"edge6\" class=\"edge\">\n",
       "<title>5&#45;&gt;6</title>\n",
       "<path fill=\"none\" stroke=\"black\" d=\"M296.93,-222.91C289.94,-213.92 282.47,-204.32 275.26,-195.05\"/>\n",
       "<polygon fill=\"black\" stroke=\"black\" points=\"277.92,-192.77 269.02,-187.02 272.39,-197.06 277.92,-192.77\"/>\n",
       "</g>\n",
       "<!-- 9 -->\n",
       "<g id=\"node10\" class=\"node\">\n",
       "<title>9</title>\n",
       "<path fill=\"#39e581\" stroke=\"black\" d=\"M477.5,-179.5C477.5,-179.5 363.5,-179.5 363.5,-179.5 357.5,-179.5 351.5,-173.5 351.5,-167.5 351.5,-167.5 351.5,-123.5 351.5,-123.5 351.5,-117.5 357.5,-111.5 363.5,-111.5 363.5,-111.5 477.5,-111.5 477.5,-111.5 483.5,-111.5 489.5,-117.5 489.5,-123.5 489.5,-123.5 489.5,-167.5 489.5,-167.5 489.5,-173.5 483.5,-179.5 477.5,-179.5\"/>\n",
       "<text text-anchor=\"start\" x=\"380.5\" y=\"-164.3\" font-family=\"Helvetica,sans-Serif\" font-size=\"14.00\">entropy = 0.0</text>\n",
       "<text text-anchor=\"start\" x=\"383\" y=\"-149.3\" font-family=\"Helvetica,sans-Serif\" font-size=\"14.00\">samples = 6</text>\n",
       "<text text-anchor=\"start\" x=\"373.5\" y=\"-134.3\" font-family=\"Helvetica,sans-Serif\" font-size=\"14.00\">value = [0, 6, 0]</text>\n",
       "<text text-anchor=\"start\" x=\"359.5\" y=\"-119.3\" font-family=\"Helvetica,sans-Serif\" font-size=\"14.00\">class = The Prepper</text>\n",
       "</g>\n",
       "<!-- 5&#45;&gt;9 -->\n",
       "<g id=\"edge9\" class=\"edge\">\n",
       "<title>5&#45;&gt;9</title>\n",
       "<path fill=\"none\" stroke=\"black\" d=\"M360.42,-222.91C369.36,-211.54 379.08,-199.18 388.05,-187.77\"/>\n",
       "<polygon fill=\"black\" stroke=\"black\" points=\"390.99,-189.69 394.42,-179.67 385.49,-185.36 390.99,-189.69\"/>\n",
       "</g>\n",
       "<!-- 7 -->\n",
       "<g id=\"node8\" class=\"node\">\n",
       "<title>7</title>\n",
       "<path fill=\"#8139e5\" stroke=\"black\" d=\"M230,-68C230,-68 63,-68 63,-68 57,-68 51,-62 51,-56 51,-56 51,-12 51,-12 51,-6 57,0 63,0 63,0 230,0 230,0 236,0 242,-6 242,-12 242,-12 242,-56 242,-56 242,-62 236,-68 230,-68\"/>\n",
       "<text text-anchor=\"start\" x=\"106.5\" y=\"-52.8\" font-family=\"Helvetica,sans-Serif\" font-size=\"14.00\">entropy = 0.0</text>\n",
       "<text text-anchor=\"start\" x=\"109\" y=\"-37.8\" font-family=\"Helvetica,sans-Serif\" font-size=\"14.00\">samples = 4</text>\n",
       "<text text-anchor=\"start\" x=\"99.5\" y=\"-22.8\" font-family=\"Helvetica,sans-Serif\" font-size=\"14.00\">value = [0, 0, 4]</text>\n",
       "<text text-anchor=\"start\" x=\"59\" y=\"-7.8\" font-family=\"Helvetica,sans-Serif\" font-size=\"14.00\">class = The Shopper&#45;for&#45;Hire</text>\n",
       "</g>\n",
       "<!-- 6&#45;&gt;7 -->\n",
       "<g id=\"edge7\" class=\"edge\">\n",
       "<title>6&#45;&gt;7</title>\n",
       "<path fill=\"none\" stroke=\"black\" d=\"M203.61,-103.73C196.11,-94.7 188.16,-85.12 180.64,-76.08\"/>\n",
       "<polygon fill=\"black\" stroke=\"black\" points=\"183.26,-73.75 174.17,-68.3 177.87,-78.23 183.26,-73.75\"/>\n",
       "</g>\n",
       "<!-- 8 -->\n",
       "<g id=\"node9\" class=\"node\">\n",
       "<title>8</title>\n",
       "<path fill=\"#e3fbed\" stroke=\"black\" d=\"M386.5,-68C386.5,-68 272.5,-68 272.5,-68 266.5,-68 260.5,-62 260.5,-56 260.5,-56 260.5,-12 260.5,-12 260.5,-6 266.5,0 272.5,0 272.5,0 386.5,0 386.5,0 392.5,0 398.5,-6 398.5,-12 398.5,-12 398.5,-56 398.5,-56 398.5,-62 392.5,-68 386.5,-68\"/>\n",
       "<text text-anchor=\"start\" x=\"282\" y=\"-52.8\" font-family=\"Helvetica,sans-Serif\" font-size=\"14.00\">entropy = 0.996</text>\n",
       "<text text-anchor=\"start\" x=\"288.5\" y=\"-37.8\" font-family=\"Helvetica,sans-Serif\" font-size=\"14.00\">samples = 13</text>\n",
       "<text text-anchor=\"start\" x=\"282.5\" y=\"-22.8\" font-family=\"Helvetica,sans-Serif\" font-size=\"14.00\">value = [0, 7, 6]</text>\n",
       "<text text-anchor=\"start\" x=\"268.5\" y=\"-7.8\" font-family=\"Helvetica,sans-Serif\" font-size=\"14.00\">class = The Prepper</text>\n",
       "</g>\n",
       "<!-- 6&#45;&gt;8 -->\n",
       "<g id=\"edge8\" class=\"edge\">\n",
       "<title>6&#45;&gt;8</title>\n",
       "<path fill=\"none\" stroke=\"black\" d=\"M271.76,-103.73C279.34,-94.7 287.39,-85.12 294.98,-76.08\"/>\n",
       "<polygon fill=\"black\" stroke=\"black\" points=\"297.77,-78.21 301.52,-68.3 292.41,-73.7 297.77,-78.21\"/>\n",
       "</g>\n",
       "</g>\n",
       "</svg>\n"
      ],
      "text/plain": [
       "<graphviz.sources.Source at 0x134f72f10>"
      ]
     },
     "execution_count": 9,
     "metadata": {},
     "output_type": "execute_result"
    }
   ],
   "source": [
    "dot_data = sklearn.tree.export_graphviz(\n",
    "    tree,\n",
    "    out_file=None,\n",
    "    feature_names=features,\n",
    "    class_names=target_names,\n",
    "    filled=True,\n",
    "    rounded=True,\n",
    "    special_characters=True,\n",
    ")\n",
    "graphviz.Source(dot_data)"
   ]
  },
  {
   "cell_type": "markdown",
   "metadata": {},
   "source": [
    "<br> \n",
    "\n",
    "## Background\n",
    "\n",
    "### Information gain ($IG$)\n",
    "\n",
    "We'll split a node if information gain is larger than 0:\n",
    "\n",
    "$\n",
    "\\quad {\\displaystyle IG(\\mathcal{D}_{parent}, \\mathcal{D}_{left}, \\mathcal{D}_{right}) = \n",
    "    H(\\mathcal{D}_{parent}) - \\frac{N_{left}}{N_{parent}} H(\\mathcal{D}_{left}) - \\frac{N_{right}}{N_{parent}} H(\\mathcal{D}_{right})}\n",
    "$\n",
    "\n",
    "- $IG$: Information Gain\n",
    "- $N_{parent}$: number of samples in the parent node\n",
    "- $N_{left}$: number of samples in the left child node\n",
    "- $N_{right}$: number of samples in the right child node\n",
    "- $H$: Shannon entropy\n",
    "- $\\mathcal{D}_{parent}, \\mathcal{D}_{left}, \\mathcal{D}_{right}$: data sets (parent and child nodes)\n",
    "\n",
    "### Shannon entropy $H$\n",
    "Entropy $H$ is defined as \n",
    "\n",
    "$\n",
    "\\quad E = - \\displaystyle\\sum_i p_i \\log_2 p_i\n",
    "$\n",
    "\n",
    "### Minimum Impurity Decrease \n",
    "\n",
    "- Decide when to stop splitting nodes (in addition to pure nodes)\n",
    "- Node will be split of this split induces a decrease of the impurity greater (or equal) to MID\n",
    "- MID functions as a threshold\n",
    "\n",
    "$\n",
    "{\\displaystyle\n",
    "\\quad MID = \\frac{N_{parent}}{N_{total}} \\left[ H(\\mathcal{D}_{parent}) - \\frac{N_{left}}{N_{parent}} H(\\mathcal{D}_{left}) - \\frac{N_{right}}{N_{parent}} H(\\mathcal{D}_{right}) \\right]\n",
    "}\n",
    "$\n",
    "\n",
    "### Impurity measures\n",
    "\n",
    "#### Entropy\n",
    "\n",
    "With proportion $p(j|t)$ of samples in class $j$ at node $t$:\n",
    "\n",
    "$\n",
    "\\quad {\\displaystyle H(t) = - \\sum_{j=1}^k p(j|t) \\log_2 p(j|t)}\n",
    "$\n",
    "\n",
    "Optimal entropy is 0 when all samples at a node belong to the same class"
   ]
  },
  {
   "cell_type": "code",
   "execution_count": 10,
   "metadata": {},
   "outputs": [],
   "source": [
    "def entropy(p):\n",
    "    return -p * np.log2(p) - (1 - p) * np.log2((1 - p))"
   ]
  },
  {
   "cell_type": "markdown",
   "metadata": {},
   "source": [
    "#### Gini Index\n",
    "\n",
    "$\n",
    "\\quad {\\displaystyle G(t) = 1 - \\sum_{j=1}^k \\big(p(j|t)\\big)^2}\n",
    "$\n",
    "\n",
    "Minimized when all samples at a node belong to the same class. Maximal value for $p(j|t) = \\frac 1 k$."
   ]
  },
  {
   "cell_type": "code",
   "execution_count": 11,
   "metadata": {},
   "outputs": [],
   "source": [
    "def gini(p):\n",
    "    return 1 - np.power(p, 2) - np.power((1 - p), 2)"
   ]
  },
  {
   "cell_type": "markdown",
   "metadata": {},
   "source": [
    "#### Misclassification error\n",
    "\n",
    "$\n",
    "\\quad {\\displaystyle MC(t) = 1 - \\max_k p(j|t)}\n",
    "$"
   ]
  },
  {
   "cell_type": "code",
   "execution_count": 12,
   "metadata": {},
   "outputs": [],
   "source": [
    "def error(p):\n",
    "    return 1 - np.max([p, 1 - p], axis=0)"
   ]
  },
  {
   "cell_type": "markdown",
   "metadata": {},
   "source": [
    "#### Comparison"
   ]
  },
  {
   "cell_type": "code",
   "execution_count": 13,
   "metadata": {},
   "outputs": [
    {
     "data": {
      "image/png": "[encoded data removed]",
      "text/plain": [
       "<Figure size 900x800 with 1 Axes>"
      ]
     },
     "metadata": {},
     "output_type": "display_data"
    }
   ],
   "source": [
    "x = np.arange(0.01, 1.0, 0.01)\n",
    "\n",
    "plt.figure(figsize=(9, 8))\n",
    "plt.plot(x, entropy(x), linewidth=2, label=\"Entropy\", c=\"b\")\n",
    "plt.plot(\n",
    "    x, entropy(x) / 2, linewidth=2, label=\"Entropy (Scaled)\", c=\"b\", linestyle=\"--\"\n",
    ")\n",
    "plt.plot(x, gini(x), linewidth=2, label=\"Gini Impurity\", c=\"darkorange\")\n",
    "plt.plot(x, error(x), linewidth=2, label=\"Misclassification Error\", c=\"m\")\n",
    "\n",
    "plt.legend(\n",
    "    loc=\"lower center\",\n",
    "    ncol=1,\n",
    "    fontsize=14,\n",
    ")\n",
    "\n",
    "plt.axhline(y=0.5, linestyle=\"--\", c=\"k\", zorder=1, linewidth=1)\n",
    "plt.xlabel(\"p\", fontsize=14)\n",
    "plt.ylabel(\"Impurity\", fontsize=14)\n",
    "plt.show()"
   ]
  },
  {
   "cell_type": "markdown",
   "metadata": {},
   "source": [
    "## Some first steps for building our own tree"
   ]
  },
  {
   "cell_type": "code",
   "execution_count": 14,
   "metadata": {},
   "outputs": [
    {
     "data": {
      "text/plain": [
       "['average_revenue',\n",
       " 'average_basket_size',\n",
       " 'fraction_canned_food',\n",
       " 'fraction_national_brands']"
      ]
     },
     "execution_count": 14,
     "metadata": {},
     "output_type": "execute_result"
    }
   ],
   "source": [
    "features"
   ]
  },
  {
   "cell_type": "markdown",
   "metadata": {},
   "source": [
    "### Let's look at a single feature"
   ]
  },
  {
   "cell_type": "code",
   "execution_count": 15,
   "metadata": {},
   "outputs": [],
   "source": [
    "values = X[:, 0]\n",
    "unique_values = np.sort(np.unique(values))"
   ]
  },
  {
   "cell_type": "markdown",
   "metadata": {},
   "source": [
    "#### All possible cutoff values"
   ]
  },
  {
   "cell_type": "code",
   "execution_count": 16,
   "metadata": {},
   "outputs": [],
   "source": [
    "cutoffs = (unique_values[:-1] + unique_values[1:]) / 2"
   ]
  },
  {
   "cell_type": "code",
   "execution_count": 17,
   "metadata": {},
   "outputs": [],
   "source": [
    "for i, cutoff in enumerate(cutoffs):\n",
    "    i, cutoff"
   ]
  },
  {
   "cell_type": "code",
   "execution_count": 18,
   "metadata": {},
   "outputs": [
    {
     "data": {
      "text/plain": [
       "231.87727039349355"
      ]
     },
     "execution_count": 18,
     "metadata": {},
     "output_type": "execute_result"
    }
   ],
   "source": [
    "i = 49\n",
    "cutoff = cutoffs[i]\n",
    "cutoff"
   ]
  },
  {
   "cell_type": "markdown",
   "metadata": {},
   "source": [
    "#### Implement split based on feature"
   ]
  },
  {
   "cell_type": "code",
   "execution_count": 19,
   "metadata": {},
   "outputs": [],
   "source": [
    "yhat = X[:, 0] <= cutoff"
   ]
  },
  {
   "cell_type": "code",
   "execution_count": 20,
   "metadata": {},
   "outputs": [
    {
     "data": {
      "text/plain": [
       "array([ True,  True,  True,  True,  True,  True,  True,  True,  True,\n",
       "        True,  True,  True,  True,  True,  True,  True,  True,  True,\n",
       "        True,  True,  True,  True,  True,  True,  True,  True,  True,\n",
       "        True,  True,  True,  True,  True,  True,  True,  True,  True,\n",
       "        True,  True,  True,  True,  True,  True,  True,  True,  True,\n",
       "        True,  True,  True,  True,  True, False, False, False, False,\n",
       "       False, False, False, False, False, False, False, False, False,\n",
       "       False, False, False, False, False, False, False, False, False,\n",
       "       False, False, False, False, False, False, False, False, False,\n",
       "       False, False, False, False, False, False, False, False, False,\n",
       "       False, False, False, False, False, False, False, False, False,\n",
       "       False, False, False, False, False, False, False, False, False,\n",
       "       False, False, False, False, False, False, False, False, False,\n",
       "       False, False, False, False, False, False, False, False, False,\n",
       "       False, False, False, False, False, False, False, False, False,\n",
       "       False, False, False, False, False, False, False, False, False,\n",
       "       False, False, False, False, False, False])"
      ]
     },
     "execution_count": 20,
     "metadata": {},
     "output_type": "execute_result"
    }
   ],
   "source": [
    "yhat"
   ]
  },
  {
   "cell_type": "markdown",
   "metadata": {},
   "source": [
    "#### Entropy: Parent node"
   ]
  },
  {
   "cell_type": "code",
   "execution_count": 21,
   "metadata": {},
   "outputs": [],
   "source": [
    "def compute_entropy(y):\n",
    "    # number of samples\n",
    "    n = len(y)\n",
    "    # unique classes in `y_class`\n",
    "    classes = set(y)\n",
    "\n",
    "    # compute number of observations in each class\n",
    "    n_c = np.zeros(len(classes))\n",
    "    # compute probability for a sample to be in class\n",
    "    p_c = np.zeros(len(classes))\n",
    "    # compute entropy for each class\n",
    "    e_c = np.zeros(len(classes))\n",
    "\n",
    "    # computation\n",
    "    for i, c in enumerate(classes):\n",
    "        n_c[i] = np.sum(y == c)\n",
    "        p_c[i] = n_c[i] / n\n",
    "        e_c[i] = -p_c[i] * np.log2(p_c[i])\n",
    "    assert n == sum(n_c)\n",
    "\n",
    "    # total entropy\n",
    "    e_p = np.sum(e_c)\n",
    "\n",
    "    # return\n",
    "    return e_p, n"
   ]
  },
  {
   "cell_type": "code",
   "execution_count": 22,
   "metadata": {},
   "outputs": [
    {
     "data": {
      "text/plain": [
       "(1.584962500721156, 150)"
      ]
     },
     "execution_count": 22,
     "metadata": {},
     "output_type": "execute_result"
    }
   ],
   "source": [
    "e_p, n_p = compute_entropy(y)\n",
    "e_p, n_p"
   ]
  },
  {
   "cell_type": "markdown",
   "metadata": {},
   "source": [
    "#### Entropy: Left child node"
   ]
  },
  {
   "cell_type": "code",
   "execution_count": 23,
   "metadata": {},
   "outputs": [
    {
     "data": {
      "text/plain": [
       "array([ True,  True,  True,  True,  True,  True,  True,  True,  True,\n",
       "        True,  True,  True,  True,  True,  True,  True,  True,  True,\n",
       "        True,  True,  True,  True,  True,  True,  True,  True,  True,\n",
       "        True,  True,  True,  True,  True,  True,  True,  True,  True,\n",
       "        True,  True,  True,  True,  True,  True,  True,  True,  True,\n",
       "        True,  True,  True,  True,  True, False, False, False, False,\n",
       "       False, False, False, False, False, False, False, False, False,\n",
       "       False, False, False, False, False, False, False, False, False,\n",
       "       False, False, False, False, False, False, False, False, False,\n",
       "       False, False, False, False, False, False, False, False, False,\n",
       "       False, False, False, False, False, False, False, False, False,\n",
       "       False, False, False, False, False, False, False, False, False,\n",
       "       False, False, False, False, False, False, False, False, False,\n",
       "       False, False, False, False, False, False, False, False, False,\n",
       "       False, False, False, False, False, False, False, False, False,\n",
       "       False, False, False, False, False, False, False, False, False,\n",
       "       False, False, False, False, False, False])"
      ]
     },
     "execution_count": 23,
     "metadata": {},
     "output_type": "execute_result"
    }
   ],
   "source": [
    "yhat"
   ]
  },
  {
   "cell_type": "code",
   "execution_count": 24,
   "metadata": {},
   "outputs": [
    {
     "data": {
      "text/plain": [
       "array(['The Obnoxious Teens', 'The Obnoxious Teens',\n",
       "       'The Obnoxious Teens', 'The Obnoxious Teens',\n",
       "       'The Obnoxious Teens', 'The Obnoxious Teens',\n",
       "       'The Obnoxious Teens', 'The Obnoxious Teens',\n",
       "       'The Obnoxious Teens', 'The Obnoxious Teens',\n",
       "       'The Obnoxious Teens', 'The Obnoxious Teens',\n",
       "       'The Obnoxious Teens', 'The Obnoxious Teens',\n",
       "       'The Obnoxious Teens', 'The Obnoxious Teens',\n",
       "       'The Obnoxious Teens', 'The Obnoxious Teens',\n",
       "       'The Obnoxious Teens', 'The Obnoxious Teens',\n",
       "       'The Obnoxious Teens', 'The Obnoxious Teens',\n",
       "       'The Obnoxious Teens', 'The Obnoxious Teens',\n",
       "       'The Obnoxious Teens', 'The Obnoxious Teens',\n",
       "       'The Obnoxious Teens', 'The Obnoxious Teens',\n",
       "       'The Obnoxious Teens', 'The Obnoxious Teens',\n",
       "       'The Obnoxious Teens', 'The Obnoxious Teens',\n",
       "       'The Obnoxious Teens', 'The Obnoxious Teens',\n",
       "       'The Obnoxious Teens', 'The Obnoxious Teens',\n",
       "       'The Obnoxious Teens', 'The Obnoxious Teens',\n",
       "       'The Obnoxious Teens', 'The Obnoxious Teens',\n",
       "       'The Obnoxious Teens', 'The Obnoxious Teens',\n",
       "       'The Obnoxious Teens', 'The Obnoxious Teens',\n",
       "       'The Obnoxious Teens', 'The Obnoxious Teens',\n",
       "       'The Obnoxious Teens', 'The Obnoxious Teens',\n",
       "       'The Obnoxious Teens', 'The Obnoxious Teens'], dtype=object)"
      ]
     },
     "execution_count": 24,
     "metadata": {},
     "output_type": "execute_result"
    }
   ],
   "source": [
    "y[yhat]"
   ]
  },
  {
   "cell_type": "code",
   "execution_count": 25,
   "metadata": {},
   "outputs": [
    {
     "data": {
      "text/plain": [
       "(0.0, 50)"
      ]
     },
     "execution_count": 25,
     "metadata": {},
     "output_type": "execute_result"
    }
   ],
   "source": [
    "e_cl, n_cl = compute_entropy(y[yhat])\n",
    "e_cl, n_cl"
   ]
  },
  {
   "cell_type": "markdown",
   "metadata": {},
   "source": [
    "#### Entropy: Right child node"
   ]
  },
  {
   "cell_type": "code",
   "execution_count": 26,
   "metadata": {},
   "outputs": [
    {
     "data": {
      "text/plain": [
       "(1.0, 100)"
      ]
     },
     "execution_count": 26,
     "metadata": {},
     "output_type": "execute_result"
    }
   ],
   "source": [
    "e_cr, n_cr = compute_entropy(y[~yhat])\n",
    "e_cr, n_cr"
   ]
  },
  {
   "cell_type": "markdown",
   "metadata": {},
   "source": [
    "#### Derive information gain"
   ]
  },
  {
   "cell_type": "code",
   "execution_count": 27,
   "metadata": {},
   "outputs": [
    {
     "data": {
      "text/plain": [
       "(1.584962500721156, 0.6666666666666666)"
      ]
     },
     "execution_count": 27,
     "metadata": {},
     "output_type": "execute_result"
    }
   ],
   "source": [
    "entropy_before = e_p  # parent node\n",
    "entropy_after = n_cl / n_p * e_cl + n_cr / n_p * e_cr  # children nodes\n",
    "entropy_before, entropy_after"
   ]
  },
  {
   "cell_type": "code",
   "execution_count": 28,
   "metadata": {},
   "outputs": [
    {
     "data": {
      "text/plain": [
       "0.9182958340544894"
      ]
     },
     "execution_count": 28,
     "metadata": {},
     "output_type": "execute_result"
    }
   ],
   "source": [
    "entropy_before - entropy_after"
   ]
  },
  {
   "cell_type": "markdown",
   "metadata": {},
   "source": [
    "## Reminder: Training algorithm\n",
    "\n",
    "<img src=\"https://raw.githubusercontent.com/sbstn-gbl/learning-from-big-data/master/source/_static/img/trees-stopping.png\" width=\"800px\">"
   ]
  },
  {
   "cell_type": "markdown",
   "metadata": {},
   "source": [
    "## Tree explorer\n",
    "\n",
    "Ensure that you have `ipywidgets` (and notebook/lab) extension installed:\n",
    "\n",
    "    pip install ipywidgets\n",
    "    jupyter nbextension enable --py widgetsnbextension\n",
    "    jupyter labextension install @jupyter-widgets/jupyterlab-manager"
   ]
  },
  {
   "cell_type": "code",
   "execution_count": 29,
   "metadata": {},
   "outputs": [],
   "source": [
    "def plot_tree(**kwargs):\n",
    "\n",
    "    decision_tree = sklearn.tree.DecisionTreeClassifier(random_state=123, **kwargs).fit(\n",
    "        X, y\n",
    "    )\n",
    "\n",
    "    graph = graphviz.Source(\n",
    "        sklearn.tree.export_graphviz(\n",
    "            decision_tree,\n",
    "            out_file=None,\n",
    "            feature_names=features,\n",
    "            class_names=target_names,\n",
    "            rounded=True,\n",
    "            filled=True,\n",
    "        )\n",
    "    )\n",
    "    IPython.display.display(IPython.display.SVG(graph.pipe(format=\"svg\")))\n",
    "\n",
    "    return decision_tree"
   ]
  },
  {
   "cell_type": "code",
   "execution_count": 30,
   "metadata": {},
   "outputs": [
    {
     "data": {
      "application/vnd.jupyter.widget-view+json": {
       "model_id": "cc7b4248a0c54ce984c4d3b9ce1bedde",
       "version_major": 2,
       "version_minor": 0
      },
      "text/plain": [
       "interactive(children=(Dropdown(description='criterion', options=('gini', 'entropy'), value='gini'), Dropdown(d…"
      ]
     },
     "metadata": {},
     "output_type": "display_data"
    }
   ],
   "source": [
    "IPython.display.display(\n",
    "    ipywidgets.interactive(\n",
    "        plot_tree,\n",
    "        criterion=[\"gini\", \"entropy\"],\n",
    "        max_depth=[2, 3, 4],\n",
    "        max_features=(1, 4),\n",
    "        min_samples_split=(2, 10),\n",
    "        min_impurity_decrease=(0.0, 0.5),\n",
    "        min_samples_leaf=(2, 20),\n",
    "        max_leaf_nodes=(2, 20),\n",
    "    )\n",
    ")"
   ]
  },
  {
   "cell_type": "markdown",
   "metadata": {},
   "source": [
    "<br>\n",
    "<br> \n",
    "\n",
    "## Lessons\n",
    "\n",
    "1. Building decision trees is very simple\n",
    "1. We try to maximize the purity of leaf nodes\n",
    "1. We greedily look for the best features (and cutoff values) that accomplish this\n",
    "\n",
    "<br>\n",
    "<br>"
   ]
  },
  {
   "cell_type": "markdown",
   "metadata": {},
   "source": [
    "<br><br>\n",
    "\n",
    "# Self study\n",
    "\n",
    "## Manual implementation: Our decision tree class"
   ]
  },
  {
   "cell_type": "code",
   "execution_count": 31,
   "metadata": {},
   "outputs": [],
   "source": [
    "class DecisionTree:\n",
    "    def __init__(\n",
    "        self, feature_names, class_names, class_values, max_depth=5, eps=1e-8, verbose=0\n",
    "    ):\n",
    "        self.feature_names = feature_names\n",
    "        self.class_names = class_names\n",
    "        self.class_values = class_values\n",
    "\n",
    "        self.max_depth = max_depth\n",
    "        self.eps = eps  # break ties in information gain\n",
    "        self.verbose = verbose\n",
    "\n",
    "    def fit(self, X, y, depth, seeds):\n",
    "        \"\"\"\n",
    "        Tree builder. This is a recursive function. Break for pure nodes or when max tree depth is reached.\n",
    "        \"\"\"\n",
    "\n",
    "        # all `y` belong to the same class (pure node) -> terminate\n",
    "        if len(np.unique(y)) == 1:\n",
    "            return self._final_node(y)\n",
    "\n",
    "        # reached `max_depth` -> terminate\n",
    "        elif depth >= self.max_depth:\n",
    "            return self._final_node(y)\n",
    "\n",
    "        # add splits\n",
    "        else:\n",
    "\n",
    "            if depth < len(seeds):\n",
    "                np.random.seed(seeds[depth])\n",
    "\n",
    "            # find one split given an information gain\n",
    "            column_chosen, cutoff_chosen, split_chosen, ig_chosen = self._find_split(\n",
    "                X, y\n",
    "            )\n",
    "            node = {\n",
    "                \"entropy\": float(round(self._entropy(y), 4)),\n",
    "                \"column\": int(column_chosen),\n",
    "                \"cutoff\": float(np.round(cutoff_chosen, 4)),\n",
    "                \"table\": self._table(y),\n",
    "                \"split\": f\"{self.feature_names[column_chosen]} <= {cutoff_chosen:.4f}\",\n",
    "            }\n",
    "            # generate new child trees\n",
    "            node[\"-left\"] = self.fit(\n",
    "                X[split_chosen, :], y[split_chosen], depth + 1, seeds\n",
    "            )\n",
    "            node[\"-right\"] = self.fit(\n",
    "                X[~split_chosen, :], y[~split_chosen], depth + 1, seeds\n",
    "            )\n",
    "\n",
    "            self.fitted_tree = node\n",
    "\n",
    "        return node\n",
    "\n",
    "    def predict(self, X):\n",
    "        \"\"\"\n",
    "        Walk through tree for new data samples.\n",
    "        \"\"\"\n",
    "        predictions = np.zeros(len(X), dtype=int)\n",
    "        for i, xi in enumerate(X):  # for each row in test data\n",
    "            node = self.fitted_tree\n",
    "            while node.get(\"cutoff\"):\n",
    "                if xi[node[\"column\"]] <= node[\"cutoff\"]:\n",
    "                    node = node[\"-left\"]\n",
    "                else:\n",
    "                    node = node[\"-right\"]\n",
    "            else:\n",
    "                predictions[i] = node.get(\"value\")\n",
    "        return predictions\n",
    "\n",
    "    def _find_split(self, X, y):\n",
    "        \"\"\"\n",
    "        Determine whether to split a parent node and which feature/cutoff to use.\n",
    "        \"\"\"\n",
    "        scores = []\n",
    "\n",
    "        # loop over features\n",
    "        for c in range(X.shape[1]):\n",
    "\n",
    "            values = X[:, c]\n",
    "\n",
    "            # loop over possible cutoffs\n",
    "            unique_values = np.sort(np.unique(values))\n",
    "            cutoffs = (unique_values[:-1] + unique_values[1:]) / 2\n",
    "            for i, cutoff in enumerate(cutoffs):\n",
    "                # split\n",
    "                yhat = yhat = X[:, c] <= cutoff\n",
    "\n",
    "                # entropy calculation\n",
    "                entropy_parent = self._entropy(y)\n",
    "                entropy_child_left = self._entropy(y[yhat])\n",
    "                entropy_child_right = self._entropy(y[~yhat])\n",
    "\n",
    "                # information gain\n",
    "                information_gain = (\n",
    "                    entropy_parent\n",
    "                    - np.mean(yhat) * entropy_child_left\n",
    "                    - np.mean(~yhat) * entropy_child_right\n",
    "                )\n",
    "\n",
    "                # save and log\n",
    "                scores.append(\n",
    "                    [\n",
    "                        c,\n",
    "                        cutoff,\n",
    "                        len(yhat),\n",
    "                        sum(yhat),\n",
    "                        sum(~yhat),\n",
    "                        information_gain,\n",
    "                        entropy_parent,\n",
    "                    ]\n",
    "                )\n",
    "                self._log(\n",
    "                    f\"col={c} | cutoff={cutoff:.2f} | gain={information_gain:.8f} | ent={entropy_parent:.4f}\"\n",
    "                )\n",
    "\n",
    "        scores = pd.DataFrame(\n",
    "            scores, columns=[\"column\", \"cutoff\", \"np\", \"ncl\", \"ncr\", \"ig\", \"ep\"]\n",
    "        )\n",
    "        # break ties\n",
    "        scores[\"ig\"] += np.random.uniform(-self.eps, self.eps, scores.shape[0])\n",
    "        #\n",
    "        scores = scores.sort_values(\"ig\", ascending=False)\n",
    "\n",
    "        column_chosen = scores[\"column\"].values[0]\n",
    "        cutoff_chosen = scores[\"cutoff\"].values[0]\n",
    "        split_chosen = X[:, column_chosen] <= cutoff_chosen\n",
    "        ig_chosen = scores[\"ig\"].values[0]\n",
    "        ig_all = scores[\"ig\"].values\n",
    "        return column_chosen, cutoff_chosen, split_chosen, ig_chosen  # , ig_all\n",
    "\n",
    "    def _final_node(self, y):\n",
    "        return {\n",
    "            \"entropy\": float(round(self._entropy(y), 4)),\n",
    "            \"table\": self._table(y),\n",
    "            \"value\": self._mode(y),\n",
    "        }\n",
    "\n",
    "    def _table(self, y):\n",
    "        return \" | \".join([f\"{yi}: {np.sum(y==yi)}\" for yi in self.class_values])\n",
    "\n",
    "    def _log(self, x):\n",
    "        if self.verbose > 0:\n",
    "            print(x)\n",
    "\n",
    "    @staticmethod\n",
    "    def _entropy(y):\n",
    "        \"\"\"\n",
    "        Entropy calculation.\n",
    "        \"\"\"\n",
    "        n = len(y)\n",
    "        classes = set(y)\n",
    "        n_c = np.zeros(len(classes))\n",
    "        p_c = np.zeros(len(classes))\n",
    "        e_c = np.zeros(len(classes))\n",
    "        for i, c in enumerate(classes):\n",
    "            n_c[i] = np.sum(y == c)\n",
    "            p_c[i] = n_c[i] / n\n",
    "            e_c[i] = -p_c[i] * np.log2(p_c[i])\n",
    "        return np.sum(e_c)\n",
    "\n",
    "    @staticmethod\n",
    "    def _mode(x):\n",
    "        \"\"\"\n",
    "        Majority vote with tie breaker.\n",
    "        \"\"\"\n",
    "        values, counts = np.unique(x, return_counts=True)\n",
    "        return int(np.random.choice(values[counts == np.max(counts)]))"
   ]
  },
  {
   "cell_type": "markdown",
   "metadata": {},
   "source": [
    "### Fit"
   ]
  },
  {
   "cell_type": "code",
   "execution_count": 32,
   "metadata": {},
   "outputs": [],
   "source": [
    "map_target_names = {\n",
    "    \"The Obnoxious Teens\": 0,\n",
    "    \"The Prepper\": 1,\n",
    "    \"The Shopper-for-Hire\": 2,\n",
    "}"
   ]
  },
  {
   "cell_type": "code",
   "execution_count": 33,
   "metadata": {},
   "outputs": [],
   "source": [
    "y_bin = np.array([map_target_names[yi] for yi in y])"
   ]
  },
  {
   "cell_type": "code",
   "execution_count": 34,
   "metadata": {},
   "outputs": [],
   "source": [
    "decision_tree = DecisionTree(\n",
    "    feature_names=features,\n",
    "    class_names=target_names,\n",
    "    class_values=set(map_target_names.values()),\n",
    ")\n",
    "assert set(y_bin) == set(range(len(target_names)))\n",
    "\n",
    "res = decision_tree.fit(X, y_bin, 0, seeds=[19])"
   ]
  },
  {
   "cell_type": "markdown",
   "metadata": {},
   "source": [
    "### Inspect results\n",
    "\n",
    "This is not pretty, but clearly illustrates the key insihgts :)"
   ]
  },
  {
   "cell_type": "code",
   "execution_count": 35,
   "metadata": {},
   "outputs": [
    {
     "data": {
      "text/plain": [
       "['average_revenue',\n",
       " 'average_basket_size',\n",
       " 'fraction_canned_food',\n",
       " 'fraction_national_brands']"
      ]
     },
     "execution_count": 35,
     "metadata": {},
     "output_type": "execute_result"
    }
   ],
   "source": [
    "features"
   ]
  },
  {
   "cell_type": "code",
   "execution_count": 36,
   "metadata": {},
   "outputs": [
    {
     "name": "stdout",
     "output_type": "stream",
     "text": [
      "entropy: 1.585\n",
      "column: 0\n",
      "cutoff: 231.8773\n",
      "table: '0: 50 | 1: 50 | 2: 50'\n",
      "split: average_revenue <= 231.8773\n",
      "-left:\n",
      "    entropy: 0.0\n",
      "    table: '0: 50 | 1: 0 | 2: 0'\n",
      "    value: 0\n",
      "-right:\n",
      "    entropy: 1.0\n",
      "    column: 1\n",
      "    cutoff: 29.6488\n",
      "    table: '0: 0 | 1: 50 | 2: 50'\n",
      "    split: average_basket_size <= 29.6488\n",
      "    -left:\n",
      "        entropy: 0.0\n",
      "        table: '0: 0 | 1: 0 | 2: 40'\n",
      "        value: 2\n",
      "    -right:\n",
      "        entropy: 0.65\n",
      "        column: 1\n",
      "        cutoff: 37.3401\n",
      "        table: '0: 0 | 1: 50 | 2: 10'\n",
      "        split: average_basket_size <= 37.3401\n",
      "        -left:\n",
      "            entropy: 0.9877\n",
      "            column: 0\n",
      "            cutoff: 541.1592\n",
      "            table: '0: 0 | 1: 13 | 2: 10'\n",
      "            split: average_revenue <= 541.1592\n",
      "            -left:\n",
      "                entropy: 0.9774\n",
      "                column: 0\n",
      "                cutoff: 435.0863\n",
      "                table: '0: 0 | 1: 7 | 2: 10'\n",
      "                split: average_revenue <= 435.0863\n",
      "                -left:\n",
      "                    entropy: 0.0\n",
      "                    table: '0: 0 | 1: 0 | 2: 4'\n",
      "                    value: 2\n",
      "                -right:\n",
      "                    entropy: 0.9957\n",
      "                    table: '0: 0 | 1: 7 | 2: 6'\n",
      "                    value: 1\n",
      "            -right:\n",
      "                entropy: 0.0\n",
      "                table: '0: 0 | 1: 6 | 2: 0'\n",
      "                value: 1\n",
      "        -right:\n",
      "            entropy: 0.0\n",
      "            table: '0: 0 | 1: 37 | 2: 0'\n",
      "            value: 1\n",
      "\n"
     ]
    }
   ],
   "source": [
    "print(yaml.dump(decision_tree.fitted_tree, indent=4, sort_keys=False))"
   ]
  },
  {
   "cell_type": "markdown",
   "metadata": {},
   "source": [
    "### Make predictions"
   ]
  },
  {
   "cell_type": "code",
   "execution_count": 37,
   "metadata": {},
   "outputs": [
    {
     "data": {
      "text/plain": [
       "array([0, 0, 0, 0, 0, 0, 0, 0, 0, 0, 0, 0, 0, 0, 0, 0, 0, 0, 0, 0, 0, 0,\n",
       "       0, 0, 0, 0, 0, 0, 0, 0, 0, 0, 0, 0, 0, 0, 0, 0, 0, 0, 0, 0, 0, 0,\n",
       "       0, 0, 0, 0, 0, 0, 1, 1, 1, 1, 1, 1, 1, 1, 1, 1, 1, 1, 1, 1, 1, 1,\n",
       "       1, 1, 1, 1, 1, 1, 1, 1, 1, 1, 1, 1, 1, 1, 1, 1, 1, 1, 1, 1, 1, 1,\n",
       "       1, 1, 1, 1, 1, 1, 1, 1, 1, 1, 1, 1, 2, 1, 2, 2, 2, 2, 2, 2, 2, 2,\n",
       "       1, 2, 2, 2, 2, 2, 2, 2, 2, 1, 2, 2, 2, 2, 2, 2, 2, 2, 2, 2, 2, 2,\n",
       "       2, 2, 2, 2, 2, 2, 2, 1, 2, 2, 2, 2, 2, 1, 1, 2, 2, 2])"
      ]
     },
     "execution_count": 37,
     "metadata": {},
     "output_type": "execute_result"
    }
   ],
   "source": [
    "decision_tree.predict(X)"
   ]
  },
  {
   "cell_type": "markdown",
   "metadata": {},
   "source": [
    "<br>\n",
    "<br>\n",
    "<b>Learning from Big Data</b> <br>\n",
    "Sebastian Gabel <br>"
   ]
  }
 ],
 "metadata": {
  "kernelspec": {
   "display_name": "Python 3 (ipykernel)",
   "language": "python",
   "name": "python3"
  },
  "language_info": {
   "codemirror_mode": {
    "name": "ipython",
    "version": 3
   },
   "file_extension": ".py",
   "mimetype": "text/x-python",
   "name": "python",
   "nbconvert_exporter": "python",
   "pygments_lexer": "ipython3",
   "version": "3.8.9"
  }
 },
 "nbformat": 4,
 "nbformat_minor": 4
}
